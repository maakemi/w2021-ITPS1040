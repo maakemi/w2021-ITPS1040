{
 "cells": [
  {
   "cell_type": "markdown",
   "metadata": {},
   "source": [
    "## Lab04 - Assignment ## "
   ]
  },
  {
   "cell_type": "markdown",
   "metadata": {},
   "source": [
    "**Due date:** 1 week from your lab session.\n",
    "\n",
    "Hello Everyone!\n",
    "\n",
    "In this lab, you'll practice with `loops`. A loop is one of the most fundemental programming constructs. \n",
    "\n",
    "As such, it is critical to learn how they work, how to use them, and when to use them."
   ]
  },
  {
   "cell_type": "markdown",
   "metadata": {},
   "source": [
    "**Background**"
   ]
  },
  {
   "cell_type": "markdown",
   "metadata": {},
   "source": [
    "### While loop ###"
   ]
  },
  {
   "cell_type": "markdown",
   "metadata": {},
   "source": [
    "A while loop repeats a sequence of statements until a condition (the continue condition) becomes false.\n",
    "\n",
    "For example, the following code prints out all positive integers that are less than `100`:"
   ]
  },
  {
   "cell_type": "code",
   "execution_count": null,
   "metadata": {},
   "outputs": [],
   "source": [
    "##Uncommnet to run!\n",
    "# num = 1\n",
    "# while num < 100:\n",
    "#     pirnt(num)\n",
    "#     num = num + 1"
   ]
  },
  {
   "cell_type": "markdown",
   "metadata": {},
   "source": [
    "*The body of any loop may execute multiple times. In this situation, the condition `num < 100` is the\n",
    "loop’s continue condition. This condition is checked at the beginning of each iteration. If the condition is\n",
    "true, the body of the loop `(print(num)`, in this case) is executed. If not, the loop ends and the code\n",
    "following the loop is then executed.*"
   ]
  },
  {
   "cell_type": "markdown",
   "metadata": {},
   "source": [
    "Pay **attention** to the indentation in the example above. The tab before `print(num)` is important.\n",
    "- If code is indented, it signifies that it is inside the loop (i.e. it is the body of the loop).\n",
    "- If it is not indented, it is outside (after) the loop.\n"
   ]
  },
  {
   "cell_type": "markdown",
   "metadata": {},
   "source": [
    "**Tip: Use while loops when you do not know how many times your code should iterate**"
   ]
  },
  {
   "cell_type": "markdown",
   "metadata": {},
   "source": [
    "## Mini-Task ##"
   ]
  },
  {
   "cell_type": "markdown",
   "metadata": {},
   "source": [
    "Run the code below and try to find out what the problem is"
   ]
  },
  {
   "cell_type": "code",
   "execution_count": null,
   "metadata": {},
   "outputs": [],
   "source": [
    "##Uncomment to run!\n",
    "# num = 1\n",
    "# while num < 100:\n",
    "#     print(num)"
   ]
  },
  {
   "cell_type": "markdown",
   "metadata": {},
   "source": [
    "Now you see the problem, write a code to fix it."
   ]
  },
  {
   "cell_type": "code",
   "execution_count": null,
   "metadata": {},
   "outputs": [],
   "source": [
    "##your code here"
   ]
  },
  {
   "cell_type": "markdown",
   "metadata": {},
   "source": [
    "### For Loops ###"
   ]
  },
  {
   "cell_type": "markdown",
   "metadata": {},
   "source": [
    "A for loop is a loop that repeats once for every item in a list that you provide. For example, the following\n",
    "for loop executes 10 times, and prints all numbers between 0 and 9, inclusive:\n"
   ]
  },
  {
   "cell_type": "code",
   "execution_count": null,
   "metadata": {},
   "outputs": [],
   "source": [
    "##Uncomment to run!\n",
    "# for num in [0,1,2,3,4,5,6,7,8,9]:\n",
    "#     print(num)"
   ]
  },
  {
   "cell_type": "markdown",
   "metadata": {},
   "source": [
    "*For loops, in Python, do not have a continue condition. They continue as long as there are additional\n",
    "elements in the list. In this code, the variable `num` is a temporary variable used by the for loop to store\n",
    "the current value in the list. The sequence of operations goes like this:*"
   ]
  },
  {
   "cell_type": "markdown",
   "metadata": {},
   "source": [
    "1. Set num to 0\n",
    "\n",
    "    a. Execute the body of the loop: `print num` (i.e. print 0)\n",
    "    \n",
    "2. Set num to 1\n",
    "\n",
    "    a. Execute the body of the loop: `print num` (i.e. print 1)\n",
    "    \n",
    "3. Set num to 2\n",
    "\n",
    "    a. Execute the body of the loop: `print num` (i.e. print 2)\n",
    "    \n",
    "... And so on..."
   ]
  },
  {
   "cell_type": "markdown",
   "metadata": {},
   "source": [
    "**Tip: Use either while loops or for loops when you know how many times your code should iterate. For\n",
    "loops are a little easier to use.**"
   ]
  },
  {
   "cell_type": "markdown",
   "metadata": {},
   "source": [
    "Typing out the list `[0,1,2,3,4,5,6,7,8,9]` can be cumbersome, and could be more cumbersome and impractical for even longer lists. For this reason, Python has the `range()` function."
   ]
  },
  {
   "cell_type": "markdown",
   "metadata": {},
   "source": [
    "The above for loop can be written like this using range:"
   ]
  },
  {
   "cell_type": "code",
   "execution_count": null,
   "metadata": {},
   "outputs": [],
   "source": [
    "##Uncomment to run!\n",
    "# for num in raneg(10):\n",
    "#     print(num)"
   ]
  },
  {
   "cell_type": "markdown",
   "metadata": {},
   "source": [
    "## Task 1 ##"
   ]
  },
  {
   "cell_type": "markdown",
   "metadata": {},
   "source": [
    "For this part of the lab, write some code to print all the even numbers from 0 to 100 (inclusive), twice.\n",
    "Once you should use a while loop, and the other time you should use a for loop."
   ]
  },
  {
   "cell_type": "code",
   "execution_count": null,
   "metadata": {},
   "outputs": [],
   "source": [
    "##your code here\n"
   ]
  },
  {
   "cell_type": "markdown",
   "metadata": {},
   "source": [
    "## Task 2 ##"
   ]
  },
  {
   "cell_type": "markdown",
   "metadata": {},
   "source": [
    "For this part of the lab, you will write a short program to help your instructor gather information about\n",
    "midterm marks (this will be fictional). \n",
    "\n",
    "Your program will use loops and conditionals to count the number of each grade letter (A, B, C, D, and F) in a list of midterm marks."
   ]
  },
  {
   "cell_type": "markdown",
   "metadata": {},
   "source": [
    "| Letter | Mark    |\n",
    "| ----   | ----    |\n",
    "|  A     | 80-100  |\n",
    "|  B     |  70-79  |\n",
    "|  C     |  60-69  |\n",
    "|  D     |  50-59  |\n",
    "|  F     |  0-49   |"
   ]
  },
  {
   "cell_type": "markdown",
   "metadata": {},
   "source": [
    "The following list of midterm marks should be used:"
   ]
  },
  {
   "cell_type": "markdown",
   "metadata": {},
   "source": [
    "```\n",
    "midtermMarks = [48.0, 64.25, 71.80, 82.0, 53.45, 59.75, 62.80, 26.5, 55.0, 67.5, 70.25, 52.45, 66.25, 94.0, 65.5, 34.5, 69.25, 52.0]\n",
    "```"
   ]
  },
  {
   "cell_type": "markdown",
   "metadata": {},
   "source": [
    "**Strategy** \n",
    "- Create five variables, one for each grade letter. \n",
    "- Loop through all of the midterm marks, and use conditionals to determine which grade letter corresponds to each midterm mark. \n",
    "- Finally, print the number of each grade letter after the loop has finished."
   ]
  },
  {
   "cell_type": "markdown",
   "metadata": {},
   "source": [
    "Your program should work for any list of midterm marks. The output of this program, for the given midterm mark values, should be:"
   ]
  },
  {
   "cell_type": "markdown",
   "metadata": {},
   "source": [
    "```\n",
    "Number of As: 2\n",
    "Number of Bs: 2\n",
    "Number of Cs: 6\n",
    "Number of Ds: 5\n",
    "Number of Fs: 3\n",
    "```"
   ]
  },
  {
   "cell_type": "markdown",
   "metadata": {},
   "source": [
    "*Each of the results should be printed in a new line. The spacing in between the lines is not neccessary.*"
   ]
  },
  {
   "cell_type": "code",
   "execution_count": null,
   "metadata": {},
   "outputs": [],
   "source": [
    "##you code here"
   ]
  },
  {
   "cell_type": "markdown",
   "metadata": {},
   "source": [
    "## Submission ##\n",
    "\n",
    "1. Remember to add the code below to the beginning of your assignemnet with today's date and your name and student ID"
   ]
  },
  {
   "cell_type": "code",
   "execution_count": 1,
   "metadata": {},
   "outputs": [],
   "source": [
    "#Created on Thursday, Month DD, YYYY\n",
    "#@author: FirstName LastName (student ID)\n",
    "#Lab 04 - Jupyter Notebook "
   ]
  },
  {
   "cell_type": "markdown",
   "metadata": {},
   "source": [
    "2. Follow the steps from the `labs/how-to-submit.pdf` file to submit your work. \n",
    "\n",
    "   **Note.** Instructions are updated to include both `.ipynb` and `.pdf` notebook versions."
   ]
  }
 ],
 "metadata": {
  "kernelspec": {
   "display_name": "Python 3",
   "language": "python",
   "name": "python3"
  },
  "language_info": {
   "codemirror_mode": {
    "name": "ipython",
    "version": 3
   },
   "file_extension": ".py",
   "mimetype": "text/x-python",
   "name": "python",
   "nbconvert_exporter": "python",
   "pygments_lexer": "ipython3",
   "version": "3.8.5"
  }
 },
 "nbformat": 4,
 "nbformat_minor": 4
}
