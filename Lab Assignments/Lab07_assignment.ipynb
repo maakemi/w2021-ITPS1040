{
 "cells": [
  {
   "cell_type": "markdown",
   "metadata": {},
   "source": [
    "## Lab 07 - Assignment ## "
   ]
  },
  {
   "cell_type": "markdown",
   "metadata": {},
   "source": [
    "**Due date:** 1 week from your lab session.\n",
    "\n",
    "Hello Everyone!\n",
    "\n",
    "In this lab, you'll practice with `functions`, `strings` and `lists`."
   ]
  },
  {
   "cell_type": "markdown",
   "metadata": {},
   "source": [
    "## Task 1 ##"
   ]
  },
  {
   "cell_type": "markdown",
   "metadata": {},
   "source": [
    "Write a function `isValid` that given a string `s` (argument), containing only the characters `(`, `)`, `{`, `}`, `[` and `]`, determine if the input string is valid (return True otherwise False).\n",
    "\n",
    "**An input string is valid if:**\n",
    "1. Open brackets must be closed by the samy type of brackets.\n",
    "2. Open brackets must be closed in the correct order."
   ]
  },
  {
   "cell_type": "code",
   "execution_count": null,
   "metadata": {},
   "outputs": [],
   "source": [
    "##your code here"
   ]
  },
  {
   "cell_type": "code",
   "execution_count": null,
   "metadata": {},
   "outputs": [],
   "source": [
    "#test case 1\n",
    "#s1 = \"([)]\"\n",
    "# isValid(s1) #output = False"
   ]
  },
  {
   "cell_type": "code",
   "execution_count": null,
   "metadata": {},
   "outputs": [],
   "source": [
    "#test case 2\n",
    "#s2 = \"{[]}\"\n",
    "# isValid(s2) #output = True"
   ]
  },
  {
   "cell_type": "markdown",
   "metadata": {},
   "source": [
    "## Task 2 ##"
   ]
  },
  {
   "cell_type": "markdown",
   "metadata": {},
   "source": [
    "Given an integer array `nums`, write a function `largestSumSequence` to find the contiguous subarray (containing at least one number) which has the largest sum and returns the corresponding subarray and its sum."
   ]
  },
  {
   "cell_type": "code",
   "execution_count": null,
   "metadata": {},
   "outputs": [],
   "source": [
    "##your code here"
   ]
  },
  {
   "cell_type": "code",
   "execution_count": null,
   "metadata": {},
   "outputs": [],
   "source": [
    "#test case\n",
    "#nums = [-2, 1, -3, 4, -1, 2, 1, -5, 4]\n",
    "# largestSumSequence(nums) # output = [4, -1, 2, 1], sum = 6"
   ]
  },
  {
   "cell_type": "markdown",
   "metadata": {},
   "source": [
    "## Submission ##\n",
    "\n",
    "1. Remember to add the code below to the beginning of your assignemnet with today's date and your name and student ID"
   ]
  },
  {
   "cell_type": "code",
   "execution_count": null,
   "metadata": {},
   "outputs": [],
   "source": [
    "#Created on Weekday, Month DD, YYYY\n",
    "#@author: Firstname Lastname (student ID)\n",
    "#Lab 07 - Jupyter Notebook"
   ]
  },
  {
   "cell_type": "markdown",
   "metadata": {},
   "source": [
    "2. Follow the steps from the `labs/how-to-submit.pdf` file to submit your work. \n",
    "\n",
    "   **Note.** Instructions are updated to include both `.ipynb` and `.pdf` notebook versions."
   ]
  }
 ],
 "metadata": {
  "kernelspec": {
   "display_name": "Python 3",
   "language": "python",
   "name": "python3"
  },
  "language_info": {
   "codemirror_mode": {
    "name": "ipython",
    "version": 3
   },
   "file_extension": ".py",
   "mimetype": "text/x-python",
   "name": "python",
   "nbconvert_exporter": "python",
   "pygments_lexer": "ipython3",
   "version": "3.8.5"
  }
 },
 "nbformat": 4,
 "nbformat_minor": 4
}
