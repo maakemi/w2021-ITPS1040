{
 "cells": [
  {
   "cell_type": "markdown",
   "metadata": {},
   "source": [
    "## Lab03 - Assignment ## "
   ]
  },
  {
   "cell_type": "markdown",
   "metadata": {},
   "source": [
    "\n",
    "**Due date:** 1 week from your lab session.\n",
    "\n",
    "Hello Everyone!\n",
    "\n",
    "For the first part of the lab we are going to learn about conditions. \n",
    "\n",
    "We will continue by learning about lists."
   ]
  },
  {
   "cell_type": "markdown",
   "metadata": {},
   "source": [
    "## Task 1 ##"
   ]
  },
  {
   "cell_type": "markdown",
   "metadata": {},
   "source": [
    "Now, let’s try out conditionals. A conditional is a programming construct that allows you to execute different code, depending upon one or more conditions.\n",
    "\n",
    "In its simplest form, a conditional looks like this:"
   ]
  },
  {
   "cell_type": "code",
   "execution_count": null,
   "metadata": {},
   "outputs": [],
   "source": [
    "##Uncomment to see the result\n",
    "# X = 8\n",
    "# if X < 10:\n",
    "#  print(\"X is small\")"
   ]
  },
  {
   "cell_type": "markdown",
   "metadata": {},
   "source": [
    "The print statement that is indented is either executed once, or not executed at all, depending upon the condition (X < 10). \n",
    "\n",
    "You can have as much code inside the if statement as you want, you just need to indent all of it."
   ]
  },
  {
   "cell_type": "markdown",
   "metadata": {},
   "source": [
    "*  If you don’t `indent` the code, it exists outside of the conditional and it will execute regardless of whether or not the condition is true."
   ]
  },
  {
   "cell_type": "markdown",
   "metadata": {},
   "source": [
    "If we want one block of code to execute if the condition is true, and\n",
    "\n",
    "one block to execute if the condition is not true, then we can add an `else` block:"
   ]
  },
  {
   "cell_type": "markdown",
   "metadata": {},
   "source": [
    "Let's try it out:"
   ]
  },
  {
   "cell_type": "code",
   "execution_count": null,
   "metadata": {},
   "outputs": [],
   "source": [
    "##Uncomment to see the result\n",
    "# X = 8\n",
    "# if X < 10:\n",
    "#  print(\"X is small\")\n",
    "# else:\n",
    "#  print(\"X is large\")"
   ]
  },
  {
   "cell_type": "markdown",
   "metadata": {},
   "source": [
    "Change the X value to 12 and print the result"
   ]
  },
  {
   "cell_type": "code",
   "execution_count": null,
   "metadata": {},
   "outputs": [],
   "source": [
    "#your code here"
   ]
  },
  {
   "cell_type": "markdown",
   "metadata": {},
   "source": [
    "* Note that these two blocks of code are mutually exclusive. Never, with both execute, but one of them will always execute"
   ]
  },
  {
   "cell_type": "markdown",
   "metadata": {},
   "source": [
    "Finally, we may have multiple conditions that are shown in the example below:"
   ]
  },
  {
   "cell_type": "code",
   "execution_count": null,
   "metadata": {},
   "outputs": [],
   "source": [
    "##Uncomment to run. \n",
    "#Try for different values of X\n",
    "# X = 8\n",
    "# if X < 10:\n",
    "#  print(\"X is small\")\n",
    "# elif X < 20:\n",
    "#  print(\"X is medium\")\n",
    "# else:\n",
    "#  print(\"X is large\")"
   ]
  },
  {
   "cell_type": "markdown",
   "metadata": {},
   "source": [
    "* Python uses space to structure code blocks, by indenting your code blocks.\n",
    "* Be sure to be consistent with your spacing or you might confuse Python if code is inside or outside of a block"
   ]
  },
  {
   "cell_type": "markdown",
   "metadata": {},
   "source": [
    "## Task 2 ##"
   ]
  },
  {
   "cell_type": "markdown",
   "metadata": {},
   "source": [
    "Conditionals can have Boolean expressions that are more complicated. \n",
    "- For example, what if you wanted to check to see if a number *inputed by the user* was between 5 `and` 10 (inclusive)?\n",
    "\n",
    "*Note the `input` function which prompts a message with an input box for the user to enter a number.*"
   ]
  },
  {
   "cell_type": "code",
   "execution_count": 2,
   "metadata": {},
   "outputs": [],
   "source": [
    "##Uncomment to run\n",
    "# num = int(input(\"Enter a number:\"))\n",
    "# if num >= 5 and num <= 10:\n",
    "#     print(\"This number is between 5 and 10\")"
   ]
  },
  {
   "cell_type": "markdown",
   "metadata": {},
   "source": [
    "You could also check the opposite condition with an `or`:"
   ]
  },
  {
   "cell_type": "code",
   "execution_count": null,
   "metadata": {},
   "outputs": [],
   "source": [
    "##Uncomment to run\n",
    "# num = int(input(\"Enter a number:\"))\n",
    "# if num < 5 or num >10:\n",
    "#     print(\"This number is not between 5 and 10\")"
   ]
  },
  {
   "cell_type": "markdown",
   "metadata": {},
   "source": [
    "*Conditionals with `elif` conditions are evaluated in a mutually exclusive way. That\n",
    "means that elifs have implied conditions opposite to all of the previous conditions.\n",
    "For example:*"
   ]
  },
  {
   "cell_type": "code",
   "execution_count": null,
   "metadata": {},
   "outputs": [],
   "source": [
    "##Try the code below\n",
    "# num = int(input(\"Enter a number:\"))\n",
    "# if num < 10:\n",
    "#     print(\"Single digit\")\n",
    "# elif num < 20:\n",
    "#     print(\"Between 10 and 20\")\n",
    "# else:\n",
    "#     print(\"Over 20\")"
   ]
  },
  {
   "cell_type": "markdown",
   "metadata": {},
   "source": [
    "* Write some code that `asks` the user for a number (guess) and also stores the value 6 in another variable (secret). Include a conditional that prints:\n",
    "    1. Lower: If their guess is greater than the secret\n",
    "    2. Higher: If their guess is less than the secret\n",
    "    3. You got it!: If their guess is identical to the secret"
   ]
  },
  {
   "cell_type": "code",
   "execution_count": null,
   "metadata": {},
   "outputs": [],
   "source": [
    "#Your code here"
   ]
  },
  {
   "cell_type": "markdown",
   "metadata": {},
   "source": [
    "## Task 3 ##"
   ]
  },
  {
   "cell_type": "markdown",
   "metadata": {},
   "source": [
    "A list is merely a collection of elements of the same type\n",
    "surrounded by square brackets (e.g. [1,2,3,4,5]). An example is shown below (a list\n",
    "of strings):\n"
   ]
  },
  {
   "cell_type": "code",
   "execution_count": null,
   "metadata": {},
   "outputs": [],
   "source": [
    "#names = [\"Bob\",\"Sally\",\"Kunal\",\"Ahmed\",\"Carla\"]"
   ]
  },
  {
   "cell_type": "markdown",
   "metadata": {},
   "source": [
    "*There is a function `range()`, that can generate a list of numbers (covered in the loops lecture), that we’ll find very useful later.*\n",
    "\n",
    "- *You can pass 3 values to range: the minimum, the maximum, and the step size, and range() will generate a list that starts at the minimum value (default value: 0), proceeds to the next by adding the step size (default value: 1), until the maximum value is reached. The maximum value is not included in the resulting list.*"
   ]
  },
  {
   "cell_type": "markdown",
   "metadata": {},
   "source": [
    "**Try out `range()` a bit in the IPython (use the console to try out the code lines below)**"
   ]
  },
  {
   "cell_type": "code",
   "execution_count": null,
   "metadata": {},
   "outputs": [],
   "source": [
    "##Try them using the console\n",
    "# range(10)\n",
    "# range(5,10)\n",
    "# range(5,10,2)\n",
    "# min = 10\n",
    "# max = 20\n",
    "# step = 4\n",
    "# range(max)\n",
    "# range(min,max)\n",
    "# range(min,max,step)"
   ]
  },
  {
   "cell_type": "markdown",
   "metadata": {},
   "source": [
    "*We can also find out the length (how many elements) of a list using the `len()` function.*"
   ]
  },
  {
   "cell_type": "markdown",
   "metadata": {},
   "source": [
    "**Create a list and print the length of it**"
   ]
  },
  {
   "cell_type": "code",
   "execution_count": null,
   "metadata": {},
   "outputs": [],
   "source": [
    "##your code here"
   ]
  },
  {
   "cell_type": "markdown",
   "metadata": {},
   "source": [
    "**Now, try to create code that** \n",
    "1. reads a valid numeric grade in a variable called `grade` from the user and \n",
    "2. a conditional that prints the letter grade based on the inputted value of `grade` according to the following table:"
   ]
  },
  {
   "cell_type": "markdown",
   "metadata": {},
   "source": [
    "| From | To (but not including) | Letter Grade |\n",
    "| ---- | ---- | ---- |\n",
    "|  0   |  50  |   F  |\n",
    "|  50  |  60  |   D  |\n",
    "|  60  |  70  |   C  |\n",
    "|  70  |  80  |   B  |\n",
    "|  80  |  100 |   A  |\n",
    "\n",
    "*Note that our code accepts a valid `grade` which is only numeric values between 0 and 100.*"
   ]
  },
  {
   "cell_type": "code",
   "execution_count": null,
   "metadata": {},
   "outputs": [],
   "source": [
    "##your code here"
   ]
  },
  {
   "cell_type": "markdown",
   "metadata": {},
   "source": [
    "## Submission ##\n",
    "\n",
    "1. Remember to add the code below to the beginning of your assignemnet with today's date and your name and student ID"
   ]
  },
  {
   "cell_type": "code",
   "execution_count": null,
   "metadata": {},
   "outputs": [],
   "source": [
    "#Created on Weekdday(e.g.Monday, Tuesday, ..), Month DD, YYYY\n",
    "#@author: Firstname Lastname (student ID)\n",
    "#Lab 03 - Jupyter Notebook "
   ]
  },
  {
   "cell_type": "markdown",
   "metadata": {},
   "source": [
    "2. Follow the steps from the `labs/how-to-submit.pdf` file to submit your work. \n",
    "\n",
    "   **Note.** Instructions are updated to include both `.ipynb` and `.pdf` notebook versions."
   ]
  }
 ],
 "metadata": {
  "kernelspec": {
   "display_name": "Python 3",
   "language": "python",
   "name": "python3"
  },
  "language_info": {
   "codemirror_mode": {
    "name": "ipython",
    "version": 3
   },
   "file_extension": ".py",
   "mimetype": "text/x-python",
   "name": "python",
   "nbconvert_exporter": "python",
   "pygments_lexer": "ipython3",
   "version": "3.8.5"
  }
 },
 "nbformat": 4,
 "nbformat_minor": 4
}
