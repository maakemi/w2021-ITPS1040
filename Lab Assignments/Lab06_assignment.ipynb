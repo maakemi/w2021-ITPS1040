{
 "cells": [
  {
   "cell_type": "markdown",
   "metadata": {},
   "source": [
    "## Lab06 - Assignment ## "
   ]
  },
  {
   "cell_type": "markdown",
   "metadata": {},
   "source": [
    "**Due date:** 1 week from your lab session.\n",
    "\n",
    "Hello Everyone!\n",
    "\n",
    "In this lab, you'll practice with `functions` and `strings`.\n"
   ]
  },
  {
   "cell_type": "markdown",
   "metadata": {},
   "source": [
    "**Background**"
   ]
  },
  {
   "cell_type": "markdown",
   "metadata": {},
   "source": [
    "* String"
   ]
  },
  {
   "cell_type": "markdown",
   "metadata": {},
   "source": [
    "*String is a sequence of characters*"
   ]
  },
  {
   "cell_type": "code",
   "execution_count": null,
   "metadata": {},
   "outputs": [],
   "source": [
    "##Uncomment to run\n",
    "#name = 'Your Name'\n",
    "#Print(name)\n",
    "#print(type(name))"
   ]
  },
  {
   "cell_type": "markdown",
   "metadata": {},
   "source": [
    "## Task 1 ##"
   ]
  },
  {
   "cell_type": "markdown",
   "metadata": {},
   "source": [
    "Write a function `getDay(date)` that takes a space separated string as a date (MM DD YYYY) and it returns the week day that date was on (e.g. Monday, Tuesday,...).\n",
    "\n",
    "*Obs. do not use Python string built-in functions like `.split()`.*\n",
    "\n",
    "**Hint:** First of January was on Wednesday.\n",
    "\n",
    "The `datetime` library can assist you with consulting the day of the week.\n",
    "\n",
    "**.weekday()**\n",
    "    - Returns the day of the week as an integer, where Monday is 0 and Sunday is 6. For example, date(2002, 12, 4).weekday() == 2, a Wednesday\n",
    "\n",
    "```\n",
    "import datetime\n",
    "datetime.datetime(2020, 1, 1).weekday() #returns 2\n",
    "```"
   ]
  },
  {
   "cell_type": "code",
   "execution_count": null,
   "metadata": {},
   "outputs": [],
   "source": [
    "##your code here"
   ]
  },
  {
   "cell_type": "code",
   "execution_count": null,
   "metadata": {},
   "outputs": [],
   "source": [
    "# test cases\n",
    "getDay('01 01 2020') #returns \"Wednesday\""
   ]
  },
  {
   "cell_type": "markdown",
   "metadata": {},
   "source": [
    "## Task 2 ##"
   ]
  },
  {
   "cell_type": "markdown",
   "metadata": {},
   "source": [
    "*Check the Challenge 2 practice exercise 3 as a reference*"
   ]
  },
  {
   "cell_type": "markdown",
   "metadata": {},
   "source": [
    "Write a function called `isPalindrome` which takes a string `s` and returns a Boolean value (true/false). \n",
    "\n",
    "This function should:\n",
    "\n",
    "1. Check if `s` is a palindrome (not case sensitive).\n",
    "    - If so, return True\n",
    "    - Otherwise, return False\n",
    "    \n",
    "**Example usage:**\n",
    "```\n",
    "print(isPalindrome(\"Anna\")) #outputs the boolean value True\n",
    "print(isPalindrome(\"Book\")) #outputs the boolean value False\n",
    "\n",
    "```\n",
    "\n",
    "- A **palindrome** is a word, phrase, number or sequence of words that reads the same backward as forward. In our case, only checking for single word palimdromes. Examples:\n",
    "    - Anna\n",
    "    - Civic\n",
    "    - Kayak\n",
    "    - Level\n",
    "    - Madam\n",
    "    - Mom\n",
    "    - Noon\n",
    "    - Racecar\n",
    "    - Radar\n",
    "    - Redder\n",
    "    - Refer\n",
    "    - Repaper\n",
    "    - Rotator\n",
    "    - Rotor\n",
    "    - Sagas\n",
    "    - Solos\n",
    "    - Stats\n",
    "    - Tenet\n",
    "    - Wow\n",
    "\n"
   ]
  },
  {
   "cell_type": "code",
   "execution_count": null,
   "metadata": {},
   "outputs": [],
   "source": [
    "# your code here"
   ]
  },
  {
   "cell_type": "code",
   "execution_count": null,
   "metadata": {},
   "outputs": [],
   "source": [
    "# test cases\n",
    "print(isPalindrome(\"Anna\")) #outputs the boolean value True\n",
    "print(isPalindrome(\"Book\")) #outputs the boolean value False"
   ]
  },
  {
   "cell_type": "markdown",
   "metadata": {},
   "source": [
    "**Extra task (optional)**\n",
    "\n",
    "Using your `isPalindrome` function implemented above, write code that:\n",
    "\n",
    "1. Keeps reading a string `word` from via user input, until the enter string is \"stop\".\n",
    "2. Test if it is a valid word:\n",
    "    - If valid, check if the `word` is a palindrome using your function, and diplays `is a palindrome` or `is not a palindrome`\n",
    "    - Read another `word` from the user.\n",
    "\n",
    "- A `word` is valid if,\n",
    "    - It only contains letters\n",
    "    - It is a one word string -- no spaces"
   ]
  },
  {
   "cell_type": "code",
   "execution_count": null,
   "metadata": {},
   "outputs": [],
   "source": [
    "# your code here"
   ]
  },
  {
   "cell_type": "markdown",
   "metadata": {},
   "source": [
    "## Submission ##\n",
    "\n",
    "1. Remember to add the code below to the beginning of your assignemnet with today's date and your name and student ID"
   ]
  },
  {
   "cell_type": "code",
   "execution_count": null,
   "metadata": {},
   "outputs": [],
   "source": [
    "#Created on Weekday, Month DD, YYYY\n",
    "#@author: Firstname lastname (student ID)\n",
    "#Lab 06 - Jupyter Notebook"
   ]
  },
  {
   "cell_type": "markdown",
   "metadata": {},
   "source": [
    "2. Follow the steps from the `labs/how-to-submit.pdf` file to submit your work. \n",
    "\n",
    "   **Note.** Instructions are updated to include both `.ipynb` and `.pdf` notebook versions."
   ]
  }
 ],
 "metadata": {
  "kernelspec": {
   "display_name": "Python 3",
   "language": "python",
   "name": "python3"
  },
  "language_info": {
   "codemirror_mode": {
    "name": "ipython",
    "version": 3
   },
   "file_extension": ".py",
   "mimetype": "text/x-python",
   "name": "python",
   "nbconvert_exporter": "python",
   "pygments_lexer": "ipython3",
   "version": "3.8.5"
  }
 },
 "nbformat": 4,
 "nbformat_minor": 4
}
