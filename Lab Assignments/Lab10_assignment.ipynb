{
 "cells": [
  {
   "cell_type": "markdown",
   "metadata": {},
   "source": [
    "## Lab 10 - Assignment ## "
   ]
  },
  {
   "cell_type": "markdown",
   "metadata": {},
   "source": [
    "**Due date:** 1 week from your lab session.\n",
    "\n",
    "Hello Everyone!\n",
    "\n",
    "In this lab, we will write an eco-system `simulation` for two species: `predator` and\n",
    "`prey`. The prey is the primary food source for the predator. During each round of the\n",
    "simulation, the number of prey will increase or decrease (due to predation, other\n",
    "deaths, and births), and the number of predators will increase or decrease (due to\n",
    "births and deaths).\n"
   ]
  },
  {
   "cell_type": "markdown",
   "metadata": {},
   "source": [
    "## Task 1 ##"
   ]
  },
  {
   "cell_type": "markdown",
   "metadata": {},
   "source": [
    "*Write a function called `simulate` that simulates the counts of two species: one predator\n",
    "and one prey. The arguments of this function are:*"
   ]
  },
  {
   "cell_type": "markdown",
   "metadata": {},
   "source": [
    "| Argument          | Description                                                        | Sample value |\n",
    "|   ----            |    ----                                                            |  ----\n",
    "|  initialPred      |  The initial number of predators                                   |  50          |\n",
    "|  initialPrey      |  The initial number of prey                                        |  1000        |\n",
    "|  preyGrowth       |  The rate at which births of prey exceeds natural deaths           |  0.25        |\n",
    "|  predationRate    |  The rate of predation                                             |  0.01        |\n",
    "|  predShrink       |  The rate at which deaths of predators exceeds births without food |  0.05        |\n",
    "|  predFedBirthRate |  The rate of increase in predators in the presence of food         |  0.00002     |"
   ]
  },
  {
   "cell_type": "markdown",
   "metadata": {},
   "source": [
    "*Your function will collect the counts of each species in two lists: `predatorCounts` and\n",
    "`preyCounts`. The function will have a loop, representing rounds of the simulation,\n",
    "which repeats until one of the values (predator or prey) is zero. At each iteration, you\n",
    "will update the count, and append these counts to the `predatorCounts` and\n",
    "`preyCounts` lists, of predators and prey according to the following formulae:*"
   ]
  },
  {
   "cell_type": "markdown",
   "metadata": {},
   "source": [
    "$prey_{i+1} = prey_{i} \\times (1 + preyGrowth - predationRate \\times predators_{i})$"
   ]
  },
  {
   "cell_type": "markdown",
   "metadata": {},
   "source": [
    "$predators_{i+1} = predators_{i} \\times (1 - predShrink + predFedBrithRate \\times prey_{i})$"
   ]
  },
  {
   "cell_type": "markdown",
   "metadata": {},
   "source": [
    "## Notes ##"
   ]
  },
  {
   "cell_type": "markdown",
   "metadata": {},
   "source": [
    "**Note 1**: $prey_{i+1}$ is merely a Mathematical notation to show the relationship with how\n",
    "the values change from one round to the next. You cannot use this notation in\n",
    "Python.\n"
   ]
  },
  {
   "cell_type": "markdown",
   "metadata": {},
   "source": [
    "**Note 2**: $prey_{i+1}$ is the `number of prey` on the current timestep, and $prey_{i}$ is the number of prey on the previous timestep. You should have a variable called `prey` for this purpose. Similarly, $predators_{i+1}$ is the number of predators on the current timestep, and $predators_{i}$ is the number of predators on the previous timestep. You should have a variable called `predators` for this purpose."
   ]
  },
  {
   "cell_type": "markdown",
   "metadata": {},
   "source": [
    "*Once the simulation ends, draw a plot comparing the number of predator and prey over time.*"
   ]
  },
  {
   "cell_type": "markdown",
   "metadata": {},
   "source": [
    "## Sample Output ##"
   ]
  },
  {
   "cell_type": "markdown",
   "metadata": {},
   "source": [
    "```\n",
    "simulate(50, 1000, 0.25, 0.01, 0.05, 0.00002)\n",
    "```"
   ]
  },
  {
   "cell_type": "markdown",
   "metadata": {},
   "source": [
    "![title](lab10.JPG)"
   ]
  },
  {
   "cell_type": "code",
   "execution_count": null,
   "metadata": {},
   "outputs": [],
   "source": [
    "##your code here"
   ]
  },
  {
   "cell_type": "markdown",
   "metadata": {},
   "source": [
    "## Submission ##\n",
    "\n",
    "1. Remember to add the code below to the beginning of your assignemnet with today's date and your name and student ID"
   ]
  },
  {
   "cell_type": "code",
   "execution_count": null,
   "metadata": {},
   "outputs": [],
   "source": [
    "#Created on Weekday, MONTH DD, YYYY\n",
    "#@author: FirstName LastName (student ID)\n",
    "#Lab 10 - Jupyter Notebook"
   ]
  },
  {
   "cell_type": "markdown",
   "metadata": {},
   "source": [
    "2. Follow the steps from the `labs/how-to-submit.pdf` file to submit your work. \n",
    "\n",
    "   **Note.** Instructions are updated to include both `.ipynb` and `.pdf` notebook versions."
   ]
  }
 ],
 "metadata": {
  "kernelspec": {
   "display_name": "Python 3",
   "language": "python",
   "name": "python3"
  },
  "language_info": {
   "codemirror_mode": {
    "name": "ipython",
    "version": 3
   },
   "file_extension": ".py",
   "mimetype": "text/x-python",
   "name": "python",
   "nbconvert_exporter": "python",
   "pygments_lexer": "ipython3",
   "version": "3.8.5"
  }
 },
 "nbformat": 4,
 "nbformat_minor": 4
}
