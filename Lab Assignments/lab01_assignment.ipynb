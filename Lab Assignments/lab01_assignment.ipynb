{
 "cells": [
  {
   "cell_type": "markdown",
   "metadata": {},
   "source": [
    "# Lab 01 - Assignment #"
   ]
  },
  {
   "cell_type": "markdown",
   "metadata": {},
   "source": [
    "Hello Everyone!\n",
    "Welcome to your first lab :)\n",
    "\n",
    "**Goal**: Today we are going to learn about using Jupyter Hub and Jupyter Notebook and how we can use them to write line of codes in Python.\n",
    "\n",
    "Let's get started!"
   ]
  },
  {
   "cell_type": "markdown",
   "metadata": {},
   "source": [
    "Let's begin by writing a simple code to convert Celcius to Farenheit."
   ]
  },
  {
   "cell_type": "markdown",
   "metadata": {},
   "source": [
    "To do so we need to know the formula for this. Let's search Google and type in \"Convert celcius to farenheit\".\n",
    "\n",
    "*Hint*: The website that we are looking for is http://www.mathisfun.com/measure/thermometer.html."
   ]
  },
  {
   "cell_type": "markdown",
   "metadata": {},
   "source": [
    "## TASK 1 ##\n",
    "Now that we have the formula we need to create two variables to store our data.\n",
    "\n",
    "- Create a variable celcius and assignt temperature of 20.5 to it"
   ]
  },
  {
   "cell_type": "code",
   "execution_count": 4,
   "metadata": {},
   "outputs": [],
   "source": [
    "# Your solution here\n"
   ]
  },
  {
   "cell_type": "markdown",
   "metadata": {},
   "source": [
    "- Now we need another variable farenhiet to store the temperature in farenheit, but this time instead of a value we need to assign an expression (using the conversion formula)"
   ]
  },
  {
   "cell_type": "code",
   "execution_count": 5,
   "metadata": {},
   "outputs": [],
   "source": [
    "#Your solution here\n",
    "\n",
    "\n"
   ]
  },
  {
   "cell_type": "markdown",
   "metadata": {},
   "source": [
    "- Let's use print function to show our result"
   ]
  },
  {
   "cell_type": "code",
   "execution_count": 6,
   "metadata": {},
   "outputs": [],
   "source": [
    "#Your solution here\n"
   ]
  },
  {
   "cell_type": "markdown",
   "metadata": {},
   "source": [
    "- Change the celcius temperature to 55 and print the result in farenheit"
   ]
  },
  {
   "cell_type": "code",
   "execution_count": 7,
   "metadata": {},
   "outputs": [],
   "source": [
    "#Your solution here\n",
    "\n"
   ]
  },
  {
   "cell_type": "markdown",
   "metadata": {},
   "source": [
    "**Helper functions - Python functions can help us with tasks**\n",
    "\n",
    "We can change our program so that instead of manually entering temperature for celcius, we can ask user to input it.\n",
    "\n",
    "To do so we need a function called `input` in Python to help us.\n",
    "\n",
    "- Let's try this! Uncomment (remove the `#` symbol) the code and run it"
   ]
  },
  {
   "cell_type": "code",
   "execution_count": null,
   "metadata": {},
   "outputs": [],
   "source": [
    "#celcius = float(input(\"Temperature in Celcius: \"))"
   ]
  },
  {
   "cell_type": "markdown",
   "metadata": {},
   "source": [
    "## TASK 2 ##\n",
    " - Rewrite your code using the input function above:"
   ]
  },
  {
   "cell_type": "code",
   "execution_count": 3,
   "metadata": {},
   "outputs": [],
   "source": [
    "#Your task solution goes here\n",
    "\n",
    "\n",
    "\n",
    "\n"
   ]
  },
  {
   "cell_type": "markdown",
   "metadata": {},
   "source": [
    "**Comments - Documenting your work**\n",
    "\n",
    "Commenting is a good way to explain each line of your code so others who reads it can understand what you are trying to do.\n",
    "\n",
    "Also I want all of you to add a comment like the example below at the begining of your code to verify your code, as well as saving each notebook by adding you name after the `Assignment_1_YourName`."
   ]
  },
  {
   "cell_type": "code",
   "execution_count": null,
   "metadata": {},
   "outputs": [],
   "source": [
    "#Created on Thursday, January 18, 2021\n",
    "#@author: Ghazal Reshad (student ID)\n",
    "#Lab 01 - Jupyter Notebook "
   ]
  },
  {
   "cell_type": "markdown",
   "metadata": {},
   "source": [
    "**Debugging - Finding and Fixing Errors**\n",
    "\n",
    "Another important part of programming is to know how to debug your code when there is a problem or error.\n",
    "Today we are going to learn how to do this in Jupyter.\n",
    "\n",
    "- Let's try to run the (uncomment it first) code below:"
   ]
  },
  {
   "cell_type": "code",
   "execution_count": null,
   "metadata": {},
   "outputs": [],
   "source": [
    "#Name = 'Rachel'\n",
    "#print('Hi there', name)\n",
    "#subtotal = 19.99\n",
    "#tax = 1.13 * 19.99\n",
    "#total = subtotal + tax\n",
    "#print('your total is:', total)"
   ]
  },
  {
   "cell_type": "markdown",
   "metadata": {},
   "source": [
    "The error you got is called \"NameError\" written in bold red on top. And also the debugger is pointing to the line where the problem lies. you can use this information to fix the problem. This is also called a 'syntax error'. \n",
    "# Note here, Python is case sensitive.\n",
    "- What does it mean?\n",
    "It means that the way you type th name of your variables matters. For example:\n",
    "```\n",
    "myVar = 9 #this spells with a upper case letter V\n",
    "myvar = 0 #this spells with a lower case letter v\n",
    "```\n",
    "This spelling difference makes them two different variables!\n"
   ]
  },
  {
   "cell_type": "markdown",
   "metadata": {},
   "source": [
    "## TASK 3 ##\n",
    "- Now given this information, copy the code here, edit it to fix the error and try to run it again."
   ]
  },
  {
   "cell_type": "code",
   "execution_count": 2,
   "metadata": {},
   "outputs": [],
   "source": [
    "# You TASK solution goes here"
   ]
  },
  {
   "cell_type": "markdown",
   "metadata": {},
   "source": [
    "### How to submit your assignment ### \n",
    "1. Deadline: 1 week from your lab session\n",
    "2. To submit follow instructions on the `how-to-submit` tutorial file.\n",
    "\n"
   ]
  }
 ],
 "metadata": {
  "kernelspec": {
   "display_name": "Python 3",
   "language": "python",
   "name": "python3"
  },
  "language_info": {
   "codemirror_mode": {
    "name": "ipython",
    "version": 3
   },
   "file_extension": ".py",
   "mimetype": "text/x-python",
   "name": "python",
   "nbconvert_exporter": "python",
   "pygments_lexer": "ipython3",
   "version": "3.8.5"
  }
 },
 "nbformat": 4,
 "nbformat_minor": 4
}
