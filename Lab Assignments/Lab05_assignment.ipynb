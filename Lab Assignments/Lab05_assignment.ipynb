{
 "cells": [
  {
   "cell_type": "markdown",
   "metadata": {},
   "source": [
    "## Lab05 - Assignment ## "
   ]
  },
  {
   "cell_type": "markdown",
   "metadata": {},
   "source": [
    "**Due date:** 1 week from your lab session.\n",
    "\n",
    "Hello Everyone!\n",
    "\n",
    "In this lab, you'll practice with `loops`, `lists` and `functions`. The goal of this lab is to bring\n",
    "together all the subjects you learnt up unitl now.\n"
   ]
  },
  {
   "cell_type": "markdown",
   "metadata": {},
   "source": [
    "**Background**"
   ]
  },
  {
   "cell_type": "markdown",
   "metadata": {},
   "source": [
    "* Iterating through list elements"
   ]
  },
  {
   "cell_type": "markdown",
   "metadata": {},
   "source": [
    "*A for loop repeats a sequence of statements until a condition (the continue\n",
    "condition) becomes false. For example, the following code prints out the square root of all\n",
    "integers between 0 and 10:*"
   ]
  },
  {
   "cell_type": "code",
   "execution_count": null,
   "metadata": {},
   "outputs": [],
   "source": [
    "##Uncomment to run\n",
    "# list = [0,1,4,9,16,25,36,49,64,81,100]\n",
    "# for element in list:\n",
    "#     print(element)"
   ]
  },
  {
   "cell_type": "markdown",
   "metadata": {},
   "source": [
    "* Iterating through list indices (indexes)"
   ]
  },
  {
   "cell_type": "markdown",
   "metadata": {},
   "source": [
    "*Sometimes, we may need to know the index of the element we are currently\n",
    "examining. We can use the range() function in our for loop to do this. For example,\n",
    "the following for loop executes 10 times, and prints all integers between 0 and 10,\n",
    "inclusive, along with their squares:*"
   ]
  },
  {
   "cell_type": "code",
   "execution_count": null,
   "metadata": {},
   "outputs": [],
   "source": [
    "##Try the code below\n",
    "# list = [1,4,9,16,25,36,49,64,81,100]\n",
    "# for index in range(len(list)):\n",
    "#     print(index, list[index])"
   ]
  },
  {
   "cell_type": "markdown",
   "metadata": {},
   "source": [
    "## Task 1 ##"
   ]
  },
  {
   "cell_type": "markdown",
   "metadata": {},
   "source": [
    "Write a code to iterate over all multiples of 3 between 0 and 100 (inclusive), and print the ones that are divisible by 2.\n",
    "\n",
    "- Use the `range()` function to obtain a list of multiples of 3 between 0 and 100.\n",
    "- Use the modulus operator to check for divisibility(`%`) --"
   ]
  },
  {
   "cell_type": "code",
   "execution_count": null,
   "metadata": {},
   "outputs": [],
   "source": [
    "##Your code here"
   ]
  },
  {
   "cell_type": "markdown",
   "metadata": {},
   "source": [
    "## Task 2 ##"
   ]
  },
  {
   "cell_type": "markdown",
   "metadata": {},
   "source": [
    "For this part of the lab, write a **function** to take a list of numbers and a number to check if the number is in the list or not. \n",
    "\n",
    "Print out the index of the element, if it exists in the list, and the message *'The element does not exist in the list'*, otherwise.\n",
    "\n",
    "**Part A** \n",
    "\n",
    "Solve Task 2 **without** using the list built-in function for finding elements."
   ]
  },
  {
   "cell_type": "code",
   "execution_count": null,
   "metadata": {},
   "outputs": [],
   "source": [
    "##Your code here"
   ]
  },
  {
   "cell_type": "markdown",
   "metadata": {},
   "source": [
    "**Part B** \n",
    "\n",
    "Solve Task 2 **using** the list built-in function for finding elements."
   ]
  },
  {
   "cell_type": "code",
   "execution_count": null,
   "metadata": {},
   "outputs": [],
   "source": [
    "##Your code here"
   ]
  },
  {
   "cell_type": "markdown",
   "metadata": {},
   "source": [
    "## Submission ##\n",
    "\n",
    "1. Remember to add the code below to the beginning of your assignemnet with today's date and your name and student ID"
   ]
  },
  {
   "cell_type": "code",
   "execution_count": 1,
   "metadata": {},
   "outputs": [],
   "source": [
    "#Created on WEEKDAY, MONTH DD, YYYY\n",
    "#@author: Firstname Lastname (student ID)\n",
    "#Lab 05 - Jupyter Notebook "
   ]
  },
  {
   "cell_type": "markdown",
   "metadata": {},
   "source": [
    "2. Follow the steps from the `labs/how-to-submit.pdf` file to submit your work. \n",
    "\n",
    "   **Note.** Instructions are updated to include both `.ipynb` and `.pdf` notebook versions."
   ]
  },
  {
   "cell_type": "code",
   "execution_count": null,
   "metadata": {},
   "outputs": [],
   "source": []
  }
 ],
 "metadata": {
  "kernelspec": {
   "display_name": "Python 3",
   "language": "python",
   "name": "python3"
  },
  "language_info": {
   "codemirror_mode": {
    "name": "ipython",
    "version": 3
   },
   "file_extension": ".py",
   "mimetype": "text/x-python",
   "name": "python",
   "nbconvert_exporter": "python",
   "pygments_lexer": "ipython3",
   "version": "3.8.5"
  }
 },
 "nbformat": 4,
 "nbformat_minor": 4
}
