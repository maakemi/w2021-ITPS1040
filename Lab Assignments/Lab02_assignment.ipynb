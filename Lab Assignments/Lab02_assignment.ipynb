{
 "cells": [
  {
   "cell_type": "markdown",
   "metadata": {},
   "source": [
    "# Lab02 - Assignment\n",
    "\n",
    "**Due date:** 1 week from your lab session.\n",
    "\n",
    "Hello Everyone!\n",
    "\n",
    "For the first part of the lab we are going to work with interactive python (IPython).\n",
    "\n",
    "Although this seems very similar to Jupyter Notebooks, it will allow you to experience how to work on a mroe \"traditional\" Python environment.\n"
   ]
  },
  {
   "cell_type": "markdown",
   "metadata": {},
   "source": [
    "## Task 1 ##\n",
    "\n",
    "To be able to access the IPython console follow the steps: \n",
    "1. From the sidebar menu\n",
    "2. go to `File` --> `New` --> `Console`, Python 3 kernel and it will open a new tab for you after your `Lab02_assignment.ipynb` tab.\n",
    "\n",
    "At the cosole tab (the one you just opened), at the bottom of the page you can see a box. In the box type in: \n",
    "\n",
    "- `x = 9` and press `Shift + Enter` (keys on your keyboard) to execute the code you wrote.    \n",
    "\n",
    "- Next type `x` in the console and again press `Shift + Enter` (keys on your keyboard). \n",
    "\n",
    "*You should be able to see the value 9 printed out on the top.*"
   ]
  },
  {
   "cell_type": "markdown",
   "metadata": {},
   "source": [
    "Now in console type in: \n",
    "- `print(x)`"
   ]
  },
  {
   "cell_type": "markdown",
   "metadata": {},
   "source": [
    "The two last lines seem to perform the same action, but there is an important difference. \n",
    "\n",
    "In the console, if you type in anything that has a value, the IPython prints that value to the console. This is because some people use the IPython to evaluate expressions. In a Python program, however, that is not what happens. \n",
    "\n",
    "A line of code like `x` on its own doesn’t really do anything. It produces the value 8, but then the program doesn’t do anything with that value. There is no IPython to print \n",
    "its value to the console, either. \n",
    "\n",
    "**Obs.: However in Jupyter you still have access to that interactivity and can see the value of x without printing it.**"
   ]
  },
  {
   "cell_type": "markdown",
   "metadata": {},
   "source": [
    "Let's try this feature. In your `Lab02_assignment.ipynb` type in `x = 9` and run it. On the next cell type in `x` and run it. \n",
    "\n",
    "*You should be able to see the value 9 printed out.*"
   ]
  },
  {
   "cell_type": "code",
   "execution_count": null,
   "metadata": {},
   "outputs": [],
   "source": [
    "#your code here"
   ]
  },
  {
   "cell_type": "code",
   "execution_count": null,
   "metadata": {},
   "outputs": [],
   "source": [
    "#your code here"
   ]
  },
  {
   "cell_type": "code",
   "execution_count": null,
   "metadata": {},
   "outputs": [],
   "source": [
    "#uncomment to try the code below\n",
    "#print(x * 2)"
   ]
  },
  {
   "cell_type": "markdown",
   "metadata": {},
   "source": [
    "## Task 2 ##"
   ]
  },
  {
   "cell_type": "markdown",
   "metadata": {},
   "source": [
    "**Goal**: In this part we are going to learn about different **value types**. \n",
    "\n",
    "Start by defining different variables."
   ]
  },
  {
   "cell_type": "code",
   "execution_count": null,
   "metadata": {},
   "outputs": [],
   "source": [
    "#Assign a value to each variable\n",
    "#name = \n",
    "#age = \n",
    "#length =   #use a decimal value"
   ]
  },
  {
   "cell_type": "markdown",
   "metadata": {},
   "source": [
    "We can use Python's helper functions to get the type of each variables."
   ]
  },
  {
   "cell_type": "code",
   "execution_count": null,
   "metadata": {},
   "outputs": [],
   "source": [
    "#print(type(name))"
   ]
  },
  {
   "cell_type": "code",
   "execution_count": null,
   "metadata": {},
   "outputs": [],
   "source": [
    "#try for the other variables that you have"
   ]
  },
  {
   "cell_type": "markdown",
   "metadata": {},
   "source": [
    "Try the code below:"
   ]
  },
  {
   "cell_type": "code",
   "execution_count": null,
   "metadata": {},
   "outputs": [],
   "source": [
    "#print('age: ')\n",
    "#print(age)\n",
    "#print('name:', name)"
   ]
  },
  {
   "cell_type": "markdown",
   "metadata": {},
   "source": [
    "### Did you notice what happened? \n",
    "*In some cases, spaces were added automatically by `print`, and in other cases a newline was added.*\n",
    "\n",
    "You’ll need to be careful about that, if you want precise output in Python."
   ]
  },
  {
   "cell_type": "markdown",
   "metadata": {},
   "source": [
    "To remove the space, let's try the code below:"
   ]
  },
  {
   "cell_type": "code",
   "execution_count": null,
   "metadata": {},
   "outputs": [],
   "source": [
    "#print('Age:' + str(age))"
   ]
  },
  {
   "cell_type": "markdown",
   "metadata": {},
   "source": [
    "Note that the `str()` function used above converts a non-string value into a string. The `+` operator, when applied to two strings, concatenates the two strings together"
   ]
  },
  {
   "cell_type": "markdown",
   "metadata": {},
   "source": [
    "## Task 3 ##"
   ]
  },
  {
   "cell_type": "markdown",
   "metadata": {},
   "source": [
    "The following code creates a few variables containing the parts to someone’s name,\n",
    "and their age:"
   ]
  },
  {
   "cell_type": "code",
   "execution_count": null,
   "metadata": {},
   "outputs": [],
   "source": [
    "#firstName = 'Mary'\n",
    "#lastName = 'Pandit'\n",
    "#age = 20\n",
    "#birthMonth = 'December'"
   ]
  },
  {
   "cell_type": "markdown",
   "metadata": {},
   "source": [
    "Your job for this part is to create the necessary code, *on your own* (ask the TA for help as needed), to print their full name and their age, which will result the output given below:\n",
    "\n",
    "`Maya Pandit is 20 years old. Her next birthday is in December.`"
   ]
  },
  {
   "cell_type": "code",
   "execution_count": 3,
   "metadata": {},
   "outputs": [],
   "source": [
    "#Your code here\n"
   ]
  },
  {
   "cell_type": "markdown",
   "metadata": {},
   "source": [
    "## Submission ##\n",
    "\n",
    "1. Remember to add the code below to the beginning of your assignemnet with today's date and your name and student ID\n"
   ]
  },
  {
   "cell_type": "code",
   "execution_count": 1,
   "metadata": {},
   "outputs": [],
   "source": [
    "#Created on Thursday, January 17, 2021\n",
    "#@author: FirstName Lastname (student ID)\n",
    "#Lab 02 - Jupyter Notebook "
   ]
  },
  {
   "cell_type": "markdown",
   "metadata": {},
   "source": [
    "2. Follow the steps from the `labs/how-to-submit.pdf` file to submit your work. \n",
    "\n",
    "   **Note.** Instructions are updated to include both `.ipynb` and `.pdf` notebook versions."
   ]
  }
 ],
 "metadata": {
  "kernelspec": {
   "display_name": "Python 3",
   "language": "python",
   "name": "python3"
  },
  "language_info": {
   "codemirror_mode": {
    "name": "ipython",
    "version": 3
   },
   "file_extension": ".py",
   "mimetype": "text/x-python",
   "name": "python",
   "nbconvert_exporter": "python",
   "pygments_lexer": "ipython3",
   "version": "3.8.5"
  }
 },
 "nbformat": 4,
 "nbformat_minor": 4
}
