{
 "cells": [
  {
   "cell_type": "markdown",
   "metadata": {},
   "source": [
    "## Lab09 - Assignment ## "
   ]
  },
  {
   "cell_type": "markdown",
   "metadata": {},
   "source": [
    "\n",
    "**Due date:** 1 week from your lab session.\n",
    "\n",
    "Hello Everyone!\n",
    "\n",
    "In this lab, you'll practice with `functions` and `simulations`.\n"
   ]
  },
  {
   "cell_type": "markdown",
   "metadata": {},
   "source": [
    "## Task 1 ##"
   ]
  },
  {
   "cell_type": "markdown",
   "metadata": {},
   "source": [
    "Write a function `constantInvestemnt` that uses loops to calculate the value of an annual investment (e.g., pension) with a constant growth rate over a period of years."
   ]
  },
  {
   "cell_type": "markdown",
   "metadata": {},
   "source": [
    "**The arguments of the function are as follows:**\n",
    "\n",
    "1. `principal`: The original investment amount (before any annual contributations or growth is applied)\n",
    "\n",
    "2. `annualContrib`: The amount (in dollars) contributed annually. (You can assume that the contribution is made as a lump sum at the first second of January 1st of each year, so that the maximum growth is achieved)\n",
    "\n",
    "3. `growthRate`: The annual growth rate (e.g. 5% or 0.05) to be applied to the principal + contributions\n",
    "\n",
    "4. `years`: The number of years of investing\n",
    " "
   ]
  },
  {
   "cell_type": "code",
   "execution_count": null,
   "metadata": {},
   "outputs": [],
   "source": [
    "##Your code here"
   ]
  },
  {
   "cell_type": "code",
   "execution_count": null,
   "metadata": {},
   "outputs": [],
   "source": [
    "#test case\n",
    "#constantInvestment(0, 10000, 0.05, 5)\n",
    "#output: 58019.128125"
   ]
  },
  {
   "cell_type": "markdown",
   "metadata": {},
   "source": [
    "## Task 2 ##"
   ]
  },
  {
   "cell_type": "markdown",
   "metadata": {},
   "source": [
    "Write a function `variableInvestment` that calculates the value of an annual investment (e.g. pension) with different growth rates for each year."
   ]
  },
  {
   "cell_type": "markdown",
   "metadata": {},
   "source": [
    "**The arguments of the function are:**\n",
    "\n",
    "1. `principal`: The original investment amount (before any annual contributations or growth is applied)\n",
    "\n",
    "2. `annualContrib`: The amount (in dollars) contributed annually. \n",
    "\n",
    "3. `growthRate`: A list of annual growth rates to be applied to the principal + contributions, each growth rate to be applied in each corresponding year\n",
    "\n",
    "4. `years`: The number of years of investing"
   ]
  },
  {
   "cell_type": "code",
   "execution_count": null,
   "metadata": {},
   "outputs": [],
   "source": [
    "##Your code here"
   ]
  },
  {
   "cell_type": "code",
   "execution_count": null,
   "metadata": {},
   "outputs": [],
   "source": [
    "#test case\n",
    "#variableInvestment(0, 10000, [0.05,0.03,0.015,0.045,0.06], 5)\n",
    "#output: 56660.0767825"
   ]
  },
  {
   "cell_type": "markdown",
   "metadata": {},
   "source": [
    "## Submission ##\n",
    "\n",
    "1. Remember to add the code below to the beginning of your assignemnet with today's date and your name and student ID"
   ]
  },
  {
   "cell_type": "code",
   "execution_count": null,
   "metadata": {},
   "outputs": [],
   "source": [
    "#Created on Weekday, Month  DD, YYYY\n",
    "#@author: FirstName LastName (student ID)\n",
    "#Lab 09 - Jupyter Notebook"
   ]
  },
  {
   "cell_type": "markdown",
   "metadata": {},
   "source": [
    "2. Follow the steps from the `labs/how-to-submit.pdf` file to submit your work. \n",
    "\n",
    "   **Note.** Instructions are updated to include both `.ipynb` and `.pdf` notebook versions."
   ]
  }
 ],
 "metadata": {
  "kernelspec": {
   "display_name": "Python 3",
   "language": "python",
   "name": "python3"
  },
  "language_info": {
   "codemirror_mode": {
    "name": "ipython",
    "version": 3
   },
   "file_extension": ".py",
   "mimetype": "text/x-python",
   "name": "python",
   "nbconvert_exporter": "python",
   "pygments_lexer": "ipython3",
   "version": "3.8.5"
  }
 },
 "nbformat": 4,
 "nbformat_minor": 4
}
