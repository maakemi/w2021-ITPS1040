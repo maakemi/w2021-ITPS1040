{
 "cells": [
  {
   "cell_type": "markdown",
   "metadata": {},
   "source": [
    "# Extra Practice: Functions #\n",
    "\n",
    "1. How to create a function?\n",
    "    - With or without parameters\n",
    "    - With or without return value\n",
    "2. How to use a function?"
   ]
  },
  {
   "cell_type": "code",
   "execution_count": 12,
   "metadata": {},
   "outputs": [
    {
     "name": "stdout",
     "output_type": "stream",
     "text": [
      "15\n"
     ]
    }
   ],
   "source": [
    "def sumXY(x, y):\n",
    "#     do something in the function\n",
    "    result = x + y\n",
    "    return result\n",
    "    \n",
    "# calling the funciton\n",
    "value = sumXY(10, 5)\n",
    "print(value)"
   ]
  },
  {
   "cell_type": "code",
   "execution_count": 16,
   "metadata": {},
   "outputs": [
    {
     "name": "stdout",
     "output_type": "stream",
     "text": [
      "12\n",
      "12 is bigger than 5\n",
      "45\n",
      "45 is bigger than 5\n",
      "1\n",
      "45\n",
      "45 is bigger than 5\n",
      "2\n"
     ]
    }
   ],
   "source": [
    "# Identify repetition in code, and what can be made modular (using functions)\n",
    "\n",
    "myList = [12,45]\n",
    "otherList = [1, 45,2]\n",
    "\n",
    "for item in myList:\n",
    "    print(item)\n",
    "    if item>5:\n",
    "        print(item, \"is bigger than 5\")\n",
    "        \n",
    "for item in otherList:\n",
    "    print(item)\n",
    "    if item>5:\n",
    "        print(item, \"is bigger than 5\")"
   ]
  },
  {
   "cell_type": "code",
   "execution_count": 26,
   "metadata": {},
   "outputs": [
    {
     "name": "stdout",
     "output_type": "stream",
     "text": [
      "12\n",
      "12 is bigger than 5\n",
      "45\n",
      "45 is bigger than 5\n",
      "------\n",
      "1\n",
      "45\n",
      "45 is bigger than 5\n",
      "2\n",
      "------\n",
      "12\n",
      "12 is bigger than 5\n",
      "456\n",
      "456 is bigger than 5\n",
      "67\n",
      "67 is bigger than 5\n",
      "23\n",
      "23 is bigger than 5\n",
      "1\n",
      "3\n",
      "2\n",
      "0\n"
     ]
    }
   ],
   "source": [
    "# the equivalent code using function, now it's modular due to the parameter theList can be any list\n",
    "\n",
    "def iterateList(theList):\n",
    "    for item in theList:\n",
    "        print(item)\n",
    "        if item>5:\n",
    "            print(item, \"is bigger than 5\")\n",
    "            \n",
    "iterateList(myList)\n",
    "print(\"------\")\n",
    "iterateList(otherList)\n",
    "print(\"------\")\n",
    "iterateList([12,456,67,23,1,3,2,0])"
   ]
  },
  {
   "cell_type": "code",
   "execution_count": 32,
   "metadata": {},
   "outputs": [
    {
     "name": "stdout",
     "output_type": "stream",
     "text": [
      "List is valid\n"
     ]
    }
   ],
   "source": [
    "# list is valild if it has more than 3 elements\n",
    "# function validate the list, returns True if valid, returns False if not valid\n",
    "\n",
    "def isListValid(alist):\n",
    "    if len(alist)>3:\n",
    "        return True\n",
    "    else:\n",
    "        return False\n",
    "\n",
    "# returned values can be stored in variable, printed, or tested for in the body of your code\n",
    "if isListValid([1,2,3,4]):\n",
    "    print(\"List is valid\")\n",
    "else:\n",
    "    print(\"List is not valid\")"
   ]
  },
  {
   "cell_type": "code",
   "execution_count": 38,
   "metadata": {},
   "outputs": [
    {
     "name": "stdout",
     "output_type": "stream",
     "text": [
      "2\n",
      "After if  2\n",
      "3\n",
      "After if  3\n",
      "4\n",
      "After if  4\n",
      "5\n"
     ]
    },
    {
     "data": {
      "text/plain": [
       "True"
      ]
     },
     "execution_count": 38,
     "metadata": {},
     "output_type": "execute_result"
    }
   ],
   "source": [
    "# note we can also combina flag technique with return of functions\n",
    "# once return is called, the funciton stops executing and returns the result \n",
    "def isElemInList(elem, alist):\n",
    "    for item in alist: \n",
    "        print(item)\n",
    "        if elem==item:\n",
    "            return True\n",
    "        print(\"After if \",item)\n",
    "    print(\"Done for-loop\")\n",
    "    return False\n",
    "\n",
    "\n",
    "# check the difference of each of the test cases below and what is printed\n",
    "isElemInList(10, [2,3,4,5])\n",
    "isElemInList(4, [2,3,4,5])\n",
    "isElemInList(5, [2,3,4,5])\n"
   ]
  }
 ],
 "metadata": {
  "kernelspec": {
   "display_name": "Python 3",
   "language": "python",
   "name": "python3"
  },
  "language_info": {
   "codemirror_mode": {
    "name": "ipython",
    "version": 3
   },
   "file_extension": ".py",
   "mimetype": "text/x-python",
   "name": "python",
   "nbconvert_exporter": "python",
   "pygments_lexer": "ipython3",
   "version": "3.8.5"
  }
 },
 "nbformat": 4,
 "nbformat_minor": 4
}
