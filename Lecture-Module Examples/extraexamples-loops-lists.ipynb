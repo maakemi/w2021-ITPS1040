{
 "cells": [
  {
   "cell_type": "markdown",
   "metadata": {},
   "source": [
    "# Examples on loops and lists #\n",
    "\n",
    "1. Create a list\n",
    "2. Adding elements in a list\n",
    "3. Iterate over a list/string\n",
    "    - Using 2 methods"
   ]
  },
  {
   "cell_type": "code",
   "execution_count": 25,
   "metadata": {},
   "outputs": [
    {
     "name": "stdin",
     "output_type": "stream",
     "text": [
      "Type number 5\n",
      "Type number 6\n",
      "Type number 7\n",
      "Type number 8\n",
      "Type number 9\n",
      "Type number -1\n"
     ]
    },
    {
     "name": "stdout",
     "output_type": "stream",
     "text": [
      "[5, 6, 7, 8, 9]\n",
      "[12, 45, 78, 88]\n",
      "45\n",
      "-------\n",
      "5\n",
      "6\n",
      "6 is bigger than 5\n",
      "7\n",
      "7 is bigger than 5\n",
      "8\n",
      "8 is bigger than 5\n",
      "9\n",
      "9 is bigger than 5\n",
      "[]\n"
     ]
    }
   ],
   "source": [
    "# initialization empty list\n",
    "myList = []\n",
    "\n",
    "# initialize it with elements\n",
    "otherList = [12, 45, 78]\n",
    "\n",
    "otherList.append(88)\n",
    "\n",
    "# add items into list programmatically\n",
    "# myList.append(780)\n",
    "\n",
    "# add items fromt he user input usign a variable\n",
    "# user = float(input(\"Type number\"))\n",
    "# myList.append(user)\n",
    "\n",
    "# reading an exact amount of inputs from user and adding into the list\n",
    "# for i in range(3):\n",
    "#     user = float(input(\"Type number\"))\n",
    "#     myList.append(user)\n",
    "    \n",
    "\n",
    "# reading inputs from user while not equals to -1 and adding them into the list\n",
    "user = int(input(\"Type number\"))\n",
    "while user!=-1:\n",
    "    myList.append(user)\n",
    "    user = int(input(\"Type number\"))\n",
    "\n",
    "print(myList)\n",
    "print(otherList)\n",
    "print(otherList[1])\n",
    "print(\"-------\")\n",
    "\n",
    "# iterating over elements in a list\n",
    "# first method using index\n",
    "auxList = []\n",
    "for i in range(len(myList)):\n",
    "    if myList[i]>10:\n",
    "        auxList.append(myList[i])\n",
    "\n",
    "# second method uring the item\n",
    "for item in myList:\n",
    "    print(item)\n",
    "    if item>5:\n",
    "        print(item, \"is bigger than 5\")\n",
    "    \n",
    "print(auxList)"
   ]
  },
  {
   "cell_type": "code",
   "execution_count": 37,
   "metadata": {},
   "outputs": [
    {
     "name": "stdout",
     "output_type": "stream",
     "text": [
      "is an alphabet\n",
      "is lower\n",
      "is an alphabet\n",
      "is lower\n",
      "is an alphabet\n",
      "is lower\n",
      "is an alphabet\n",
      "is lower\n",
      "is an alphabet\n",
      "is lower\n",
      "is an alphabet\n",
      "is lower\n",
      "is an alphabet\n",
      "is Number\n",
      "is Number\n",
      "is Number\n",
      "is Number\n",
      "$\n"
     ]
    }
   ],
   "source": [
    "test = \"Ontario2021$\"\n",
    "# # using the 1st method of index\n",
    "# for i in range(len(test)):\n",
    "#     print(i)\n",
    "#     print(test[i])\n",
    "    \n",
    "# # using the 2nd method of each item\n",
    "for letter in test:\n",
    "#      we can test each character inside and use them for comparisons\n",
    "    if letter.islower():\n",
    "        print('is lower')\n",
    "    if letter.isalpha():\n",
    "        print('is an alphabet')\n",
    "    elif letter.isnumeric():\n",
    "        print('is Number')\n",
    "    else:\n",
    "        print(letter)\n",
    "\n",
    "#         accessing a charcter at a specific position\n",
    "# print(test[2])"
   ]
  }
 ],
 "metadata": {
  "kernelspec": {
   "display_name": "Python 3",
   "language": "python",
   "name": "python3"
  },
  "language_info": {
   "codemirror_mode": {
    "name": "ipython",
    "version": 3
   },
   "file_extension": ".py",
   "mimetype": "text/x-python",
   "name": "python",
   "nbconvert_exporter": "python",
   "pygments_lexer": "ipython3",
   "version": "3.8.5"
  }
 },
 "nbformat": 4,
 "nbformat_minor": 4
}
