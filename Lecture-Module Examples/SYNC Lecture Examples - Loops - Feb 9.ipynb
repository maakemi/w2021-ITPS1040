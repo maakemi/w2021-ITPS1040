{
 "cells": [
  {
   "cell_type": "markdown",
   "metadata": {},
   "source": [
    "# SYNC Lecture examples on loops #\n",
    "\n",
    "While loop usually applied when you want a set of code to execute while a condition is true. But you don't actually know how many times it will execute."
   ]
  },
  {
   "cell_type": "code",
   "execution_count": 2,
   "metadata": {},
   "outputs": [
    {
     "name": "stdin",
     "output_type": "stream",
     "text": [
      "Enter number: 5\n",
      "Enter number: 0\n"
     ]
    }
   ],
   "source": [
    "x = int(input(\"Enter number:\"))\n",
    "\n",
    "while x>0:\n",
    "    x = int(input(\"Enter number:\"))"
   ]
  },
  {
   "cell_type": "markdown",
   "metadata": {},
   "source": [
    "For loop used when we know how many times you need to loop through a set of code."
   ]
  },
  {
   "cell_type": "code",
   "execution_count": 4,
   "metadata": {},
   "outputs": [
    {
     "name": "stdin",
     "output_type": "stream",
     "text": [
      "Enter number os students: 2\n",
      "Students name John\n"
     ]
    },
    {
     "name": "stdout",
     "output_type": "stream",
     "text": [
      "Student 1: John\n"
     ]
    },
    {
     "name": "stdin",
     "output_type": "stream",
     "text": [
      "Students name Arya\n"
     ]
    },
    {
     "name": "stdout",
     "output_type": "stream",
     "text": [
      "Student 2: Arya\n"
     ]
    }
   ],
   "source": [
    "x = int(input(\"Enter number os students:\"))\n",
    "for i in range(x):\n",
    "    student = str(input(\"Students name\"))\n",
    "    print(\"Student \"+str(i+1)+\": \"+student)"
   ]
  },
  {
   "cell_type": "markdown",
   "metadata": {},
   "source": [
    "Program that reads positive numbers and sums them up, until the number entered is negative."
   ]
  },
  {
   "cell_type": "code",
   "execution_count": 14,
   "metadata": {},
   "outputs": [
    {
     "name": "stdin",
     "output_type": "stream",
     "text": [
      "Enter number to be summed (num<0 to stop): 4\n"
     ]
    },
    {
     "name": "stdout",
     "output_type": "stream",
     "text": [
      "4.0\n"
     ]
    },
    {
     "name": "stdin",
     "output_type": "stream",
     "text": [
      "Enter number to be summed (num<0 to stop): 2\n"
     ]
    },
    {
     "name": "stdout",
     "output_type": "stream",
     "text": [
      "6.0\n"
     ]
    },
    {
     "name": "stdin",
     "output_type": "stream",
     "text": [
      "Enter number to be summed (num<0 to stop): 1\n"
     ]
    },
    {
     "name": "stdout",
     "output_type": "stream",
     "text": [
      "The sum is 6.0\n",
      "End of program - codition met: user typed: 1.0\n"
     ]
    }
   ],
   "source": [
    "# Keep reading positve numbers (>0) and add them until a negative number is input\n",
    "\n",
    "num = float(input(\"Enter number to be summed (num<0 to stop):\"))\n",
    "\n",
    "# initializing the sum variable\n",
    "sum_num = 0\n",
    "\n",
    "# looping while the entered num is positive\n",
    "while num>=0:\n",
    "#     --- modification: example  on how to use multiple conditions\n",
    "# while num>=0 and (num+num)<10:    \n",
    "\n",
    "#     code block to be looped in the while-loop\n",
    "    sum_num+=num   # equivalent to sum_num = sum_num + num\n",
    "    print(sum_num)\n",
    "    num = float(input(\"Enter number to be summed (num<0 to stop):\"))\n",
    "    \n",
    "#     this is how you force the loop to break\n",
    "#     if num==1:\n",
    "#         break\n",
    "    \n",
    "# --- outside while loop it happens after while  \n",
    "print(\"The sum is \"+str(sum_num))\n",
    "print(\"End of program - codition met: user typed: \"+str(num))    \n",
    "\n",
    "\n",
    "    \n"
   ]
  },
  {
   "cell_type": "markdown",
   "metadata": {},
   "source": [
    "How to `break` a for loop before the range condition is met"
   ]
  },
  {
   "cell_type": "code",
   "execution_count": 17,
   "metadata": {},
   "outputs": [
    {
     "name": "stdout",
     "output_type": "stream",
     "text": [
      "0\n",
      "1\n",
      "2\n",
      "3\n"
     ]
    }
   ],
   "source": [
    "for i in range(10):\n",
    "    print(i)\n",
    "#     This is how you break a loop\n",
    "#     if i==3:\n",
    "#         break"
   ]
  }
 ],
 "metadata": {
  "kernelspec": {
   "display_name": "Python 3",
   "language": "python",
   "name": "python3"
  },
  "language_info": {
   "codemirror_mode": {
    "name": "ipython",
    "version": 3
   },
   "file_extension": ".py",
   "mimetype": "text/x-python",
   "name": "python",
   "nbconvert_exporter": "python",
   "pygments_lexer": "ipython3",
   "version": "3.8.5"
  }
 },
 "nbformat": 4,
 "nbformat_minor": 4
}
