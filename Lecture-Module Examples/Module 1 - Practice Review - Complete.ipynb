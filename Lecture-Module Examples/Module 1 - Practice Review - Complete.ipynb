{
 "cells": [
  {
   "cell_type": "markdown",
   "metadata": {},
   "source": [
    "# Module 1 - Practice Review\n",
    "\n",
    "Different types of values"
   ]
  },
  {
   "cell_type": "markdown",
   "metadata": {},
   "source": [
    "# Numerical value\n",
    "5\n",
    "# Example of character\n",
    "J\n",
    "j\n",
    "(\n",
    "# Text - String : collection characters\n",
    "Mariana\n",
    "L106HJ\n",
    "Banana is yellow"
   ]
  },
  {
   "cell_type": "markdown",
   "metadata": {},
   "source": [
    "Creating a variable"
   ]
  },
  {
   "cell_type": "code",
   "execution_count": 15,
   "metadata": {},
   "outputs": [
    {
     "name": "stdout",
     "output_type": "stream",
     "text": [
      "2021\n",
      "Mariana\n",
      "Shimabukuro\n",
      "Shimabukuro, Mariana - 2021\n",
      "30\n"
     ]
    }
   ],
   "source": [
    "year = 2021\n",
    "firstname = 'Mariana'\n",
    "lastname = 'Shimabukuro'\n",
    "# Ctrl + / : shortcut comments a line\n",
    "# name = firstname + ' ' + lastname\n",
    "name = lastname + ', ' + firstname +' - ' + str(year)\n",
    "birthyear = 1990\n",
    "age = year - birthyear - 1\n",
    "\n",
    "\n",
    "print(year)\n",
    "print(firstname)\n",
    "print(lastname)\n",
    "print(name)\n",
    "print(age)"
   ]
  },
  {
   "cell_type": "markdown",
   "metadata": {},
   "source": [
    "Creating an expression"
   ]
  },
  {
   "cell_type": "code",
   "execution_count": null,
   "metadata": {},
   "outputs": [],
   "source": []
  }
 ],
 "metadata": {
  "kernelspec": {
   "display_name": "Python 3",
   "language": "python",
   "name": "python3"
  },
  "language_info": {
   "codemirror_mode": {
    "name": "ipython",
    "version": 3
   },
   "file_extension": ".py",
   "mimetype": "text/x-python",
   "name": "python",
   "nbconvert_exporter": "python",
   "pygments_lexer": "ipython3",
   "version": "3.8.5"
  }
 },
 "nbformat": 4,
 "nbformat_minor": 4
}
