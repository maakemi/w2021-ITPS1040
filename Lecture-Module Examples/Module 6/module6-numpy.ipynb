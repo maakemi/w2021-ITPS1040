{
 "cells": [
  {
   "cell_type": "markdown",
   "metadata": {},
   "source": [
    "# Module 6 - NumPy examples #\n",
    "\n",
    "NumPy: A library related to processing large-quantities of numbers\n",
    "\n",
    "When we are working with libraries, we need to import them into our code. After importing them we are allowed to use the functions they contain.\n",
    "\n",
    "In the case of `numpy` we can import by using the line:\n",
    "\n",
    "`import numpy as np`\n",
    "\n",
    "which means: everytime we use `np.` before calling a function, it belong to the `numpy` library. See example below:"
   ]
  },
  {
   "cell_type": "code",
   "execution_count": 3,
   "metadata": {},
   "outputs": [
    {
     "name": "stdout",
     "output_type": "stream",
     "text": [
      "1\n",
      "9\n"
     ]
    }
   ],
   "source": [
    "import numpy as np\n",
    "\n",
    "array1D = np.array([1,2,3,4,5])\n",
    "print(array1D[0])\n",
    "\n",
    "array2D = np.array([[1,2,3,4,5],[6,7,8,9,10]])\n",
    "print(array2D[1,3])"
   ]
  },
  {
   "cell_type": "markdown",
   "metadata": {},
   "source": [
    "To create a 4x5 array/matrix of zeroes or random values"
   ]
  },
  {
   "cell_type": "code",
   "execution_count": 5,
   "metadata": {},
   "outputs": [
    {
     "name": "stdout",
     "output_type": "stream",
     "text": [
      "[[0. 0. 0. 0. 0.]\n",
      " [0. 0. 0. 0. 0.]]\n",
      "[[0.60969402 0.76070089 0.54055897 0.49081694 0.14607895]\n",
      " [0.9274379  0.4689054  0.65369193 0.81767634 0.23969071]\n",
      " [0.86362905 0.63565638 0.86327216 0.73167728 0.81917222]\n",
      " [0.64470348 0.3206902  0.43235767 0.72365108 0.83728364]]\n"
     ]
    }
   ],
   "source": [
    "zeroMatrix = np.zeros((2,5))  # note the double brackets\n",
    "randomMatrix1 = np.random.random((4,5)) # range: [0,1]\n",
    "print(zeroMatrix)\n",
    "print(randomMatrix1)"
   ]
  },
  {
   "cell_type": "code",
   "execution_count": 13,
   "metadata": {},
   "outputs": [
    {
     "name": "stdout",
     "output_type": "stream",
     "text": [
      "[0 1 2 3 4 5 6 7 8 9]\n",
      "[ 0  2  4  6  8 10 12 14 16 18 20 22 24 26 28 30 32 34 36 38 40 42 44 46\n",
      " 48 50 52 54 56 58 60 62 64 66 68 70 72 74 76 78 80 82 84 86 88 90 92 94\n",
      " 96 98]\n",
      "[0.  0.5 1.  1.5 2.  2.5 3.  3.5 4.  4.5 5.  5.5 6.  6.5 7.  7.5 8.  8.5\n",
      " 9.  9.5]\n"
     ]
    }
   ],
   "source": [
    "digits = np.arange(0, 10, 1)\n",
    "evens = np.arange(0, 100, 2)\n",
    "byHalf = np.arange(0, 10, 0.5)\n",
    "print(digits)\n",
    "print(evens)\n",
    "print(byHalf)"
   ]
  },
  {
   "cell_type": "code",
   "execution_count": 21,
   "metadata": {},
   "outputs": [
    {
     "name": "stdout",
     "output_type": "stream",
     "text": [
      "[ 0.          0.20408163  0.40816327  0.6122449   0.81632653  1.02040816\n",
      "  1.2244898   1.42857143  1.63265306  1.83673469  2.04081633  2.24489796\n",
      "  2.44897959  2.65306122  2.85714286  3.06122449  3.26530612  3.46938776\n",
      "  3.67346939  3.87755102  4.08163265  4.28571429  4.48979592  4.69387755\n",
      "  4.89795918  5.10204082  5.30612245  5.51020408  5.71428571  5.91836735\n",
      "  6.12244898  6.32653061  6.53061224  6.73469388  6.93877551  7.14285714\n",
      "  7.34693878  7.55102041  7.75510204  7.95918367  8.16326531  8.36734694\n",
      "  8.57142857  8.7755102   8.97959184  9.18367347  9.3877551   9.59183673\n",
      "  9.79591837 10.        ]\n",
      "[0.         0.06346652 0.12693304 0.19039955 0.25386607 0.31733259\n",
      " 0.38079911 0.44426563 0.50773215 0.57119866 0.63466518 0.6981317\n",
      " 0.76159822 0.82506474 0.88853126 0.95199777 1.01546429 1.07893081\n",
      " 1.14239733 1.20586385 1.26933037 1.33279688 1.3962634  1.45972992\n",
      " 1.52319644 1.58666296 1.65012947 1.71359599 1.77706251 1.84052903\n",
      " 1.90399555 1.96746207 2.03092858 2.0943951  2.15786162 2.22132814\n",
      " 2.28479466 2.34826118 2.41172769 2.47519421 2.53866073 2.60212725\n",
      " 2.66559377 2.72906028 2.7925268  2.85599332 2.91945984 2.98292636\n",
      " 3.04639288 3.10985939 3.17332591 3.23679243 3.30025895 3.36372547\n",
      " 3.42719199 3.4906585  3.55412502 3.61759154 3.68105806 3.74452458\n",
      " 3.8079911  3.87145761 3.93492413 3.99839065 4.06185717 4.12532369\n",
      " 4.1887902  4.25225672 4.31572324 4.37918976 4.44265628 4.5061228\n",
      " 4.56958931 4.63305583 4.69652235 4.75998887 4.82345539 4.88692191\n",
      " 4.95038842 5.01385494 5.07732146 5.14078798 5.2042545  5.26772102\n",
      " 5.33118753 5.39465405 5.45812057 5.52158709 5.58505361 5.64852012\n",
      " 5.71198664 5.77545316 5.83891968 5.9023862  5.96585272 6.02931923\n",
      " 6.09278575 6.15625227 6.21971879 6.28318531]\n"
     ]
    }
   ],
   "source": [
    "list = np.linspace(0, 10, 50)       # 50 data points\n",
    "xCoords = np.linspace(0, 2*np.pi, 100) # 100 data points\n",
    "print(list)\n",
    "print(xCoords)"
   ]
  },
  {
   "cell_type": "code",
   "execution_count": 19,
   "metadata": {},
   "outputs": [
    {
     "name": "stdout",
     "output_type": "stream",
     "text": [
      "[2 4 6]\n"
     ]
    }
   ],
   "source": [
    "xCoords = np.linspace(0, 2 * np.pi, 100)\n",
    "yCoords = np.sin(xCoords)\n",
    "print(np.array([1,2,3]) * 2)   # [2,4,6]"
   ]
  },
  {
   "cell_type": "code",
   "execution_count": 22,
   "metadata": {},
   "outputs": [
    {
     "name": "stdout",
     "output_type": "stream",
     "text": [
      "1\n",
      "9\n",
      "45\n"
     ]
    }
   ],
   "source": [
    "matrix = np.array([[1,2,3],[7,9,8],[6,5,4]])\n",
    "print(matrix.min())    # 1\n",
    "print(matrix.max())    # 9\n",
    "print(matrix.sum())    # 45"
   ]
  },
  {
   "cell_type": "code",
   "execution_count": 23,
   "metadata": {},
   "outputs": [
    {
     "name": "stdout",
     "output_type": "stream",
     "text": [
      "[1 2 3]\n",
      "[3 9 6]\n",
      "[ 6 24 15]\n"
     ]
    }
   ],
   "source": [
    "matrix = np.array([[1,2,3],[7,9,8],[6,5,4]])\n",
    "print(matrix.min(axis=0))   # column minimum:     [1,2,3]\n",
    "print(matrix.max(axis=1))   # row maximum:        [3,9,6]\n",
    "print(matrix.sum(axis=1))   # row sum:            [6,24,15]"
   ]
  },
  {
   "cell_type": "code",
   "execution_count": 25,
   "metadata": {},
   "outputs": [
    {
     "name": "stdout",
     "output_type": "stream",
     "text": [
      "[1 2 3]\n",
      "[7 9 8]\n",
      "[6 5 4]\n"
     ]
    }
   ],
   "source": [
    "matrix = np.array([[1,2,3],[7,9,8],[6,5,4]])\n",
    "for row in matrix:\n",
    "    print(row)"
   ]
  },
  {
   "cell_type": "code",
   "execution_count": 27,
   "metadata": {},
   "outputs": [
    {
     "name": "stdout",
     "output_type": "stream",
     "text": [
      "Shuffled: [8, 9, 6, 7, 1, 5, 3, 4, 2]\n"
     ]
    }
   ],
   "source": [
    "list = [1,2,3,4,5,6,7,8,9]\n",
    "np.random.shuffle(list)\n",
    "print('Shuffled:', list)"
   ]
  },
  {
   "cell_type": "code",
   "execution_count": 28,
   "metadata": {},
   "outputs": [
    {
     "name": "stdout",
     "output_type": "stream",
     "text": [
      "Solutions: [ 1.05263158  1.63157895 -1.21052632]\n"
     ]
    }
   ],
   "source": [
    "coeff = np.array([[2,4,3],\n",
    "                  [1,5,1],\n",
    "                  [3,2,2]])\n",
    "vals = np.array([5,8,4])\n",
    "print('Solutions:', np.linalg.solve(coeff, vals))\n",
    "# [1.05263158 1.63157895 -1.21052632]"
   ]
  },
  {
   "cell_type": "markdown",
   "metadata": {},
   "source": [
    "## Reading/ Saving data to a file ##"
   ]
  },
  {
   "cell_type": "code",
   "execution_count": 7,
   "metadata": {},
   "outputs": [
    {
     "name": "stdout",
     "output_type": "stream",
     "text": [
      "[[1 2 3 8]\n",
      " [4 5 6 8]\n",
      " [7 8 9 8]]\n"
     ]
    }
   ],
   "source": [
    "vals = np.loadtxt(fname='matrix-example1.txt', delimiter=',', dtype='i')\n",
    "print(vals)\n",
    "# [[1,2,3],\n",
    "#  [4,5,6],\n",
    "#  [7,8,9]]"
   ]
  },
  {
   "cell_type": "code",
   "execution_count": 8,
   "metadata": {},
   "outputs": [
    {
     "name": "stdout",
     "output_type": "stream",
     "text": [
      "[(1, 2, 224690,  5.97222057, b\" 'K3V'\",  0.999, 7)\n",
      " (2, 3, 224699, -1.1464684 , b\" 'B9'\", -0.019, 6)]\n"
     ]
    },
    {
     "name": "stderr",
     "output_type": "stream",
     "text": [
      "<ipython-input-8-5699d58b5176>:1: VisibleDeprecationWarning: Reading unicode strings without specifying the encoding argument is deprecated. Set the encoding, use None for the system default.\n",
      "  data = np.genfromtxt('data-example1.txt', dtype=None, delimiter=\",\")\n"
     ]
    }
   ],
   "source": [
    "data = np.genfromtxt('data-example1.txt', dtype=None, delimiter=\",\")\n",
    "print(data)\n",
    "# [[1, 2, 224690, 5.97222057420059, 'K3V', 0.999]\n",
    "#  [2, 3, 224699, -1.1464684004746, 'B9', -0.019]]"
   ]
  },
  {
   "cell_type": "code",
   "execution_count": 12,
   "metadata": {},
   "outputs": [],
   "source": [
    "array = np.array([[1,2,3,4],\n",
    "                  [5,6,7,8],\n",
    "                  [9,10,11,12],\n",
    "                  [13,14,15,16]])\n",
    "np.savetxt(fname='data1.txt', delimiter=',', X=array, fmt='%d')"
   ]
  },
  {
   "cell_type": "code",
   "execution_count": null,
   "metadata": {},
   "outputs": [],
   "source": []
  }
 ],
 "metadata": {
  "kernelspec": {
   "display_name": "Python 3",
   "language": "python",
   "name": "python3"
  },
  "language_info": {
   "codemirror_mode": {
    "name": "ipython",
    "version": 3
   },
   "file_extension": ".py",
   "mimetype": "text/x-python",
   "name": "python",
   "nbconvert_exporter": "python",
   "pygments_lexer": "ipython3",
   "version": "3.8.5"
  }
 },
 "nbformat": 4,
 "nbformat_minor": 4
}
