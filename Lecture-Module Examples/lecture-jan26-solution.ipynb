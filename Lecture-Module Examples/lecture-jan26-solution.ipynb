{
 "cells": [
  {
   "cell_type": "markdown",
   "metadata": {},
   "source": [
    "# Synchronous Lecture - Jan 26\n",
    "\n",
    "## Workshop\n",
    "\n",
    "Review of modules: \n",
    " - basic programming \n",
    " - conditionals\n",
    "\n",
    "1. Let's write code to display name and the letter grade of a student's grade out of 100\n",
    "\n",
    "Consider this scale fo the grades.\n",
    "   -  A (100-90)\n",
    "   -  B (89.99-75)\n",
    "   -  C (74.99-60)\n",
    "   -  D (59.99-50)\n",
    "   -  F (49.99-0)\n",
    " "
   ]
  },
  {
   "cell_type": "code",
   "execution_count": 64,
   "metadata": {},
   "outputs": [],
   "source": [
    "# creating grade variable\n",
    "grade = 110\n",
    "# student name\n",
    "name = 'Arya Stark'"
   ]
  },
  {
   "cell_type": "code",
   "execution_count": 65,
   "metadata": {},
   "outputs": [
    {
     "name": "stdout",
     "output_type": "stream",
     "text": [
      "Arya Stark's grade is Invalid\n"
     ]
    }
   ],
   "source": [
    "#solution\n",
    "letterGrade = ''\n",
    "if grade<50:\n",
    "    letterGrade='F'\n",
    "elif grade<60:\n",
    "    letterGrade='D'\n",
    "elif grade<75:\n",
    "    letterGrade='C'\n",
    "elif grade<90:\n",
    "    letterGrade='B'\n",
    "elif grade<=100:\n",
    "    letterGrade='A'\n",
    "else:\n",
    "    letterGrade='Invalid'\n",
    "    \n",
    "\n",
    "print(name+\"'s grade is \"+letterGrade)"
   ]
  },
  {
   "cell_type": "markdown",
   "metadata": {},
   "source": [
    "2. The minimum requirement to pass the course is to get a grade of 50 or more. Write code to display `pass` or `fail`."
   ]
  },
  {
   "cell_type": "code",
   "execution_count": 33,
   "metadata": {},
   "outputs": [
    {
     "name": "stdout",
     "output_type": "stream",
     "text": [
      "fail\n",
      "fail\n",
      "fail\n"
     ]
    }
   ],
   "source": [
    "#solution\n",
    "\n",
    "grade = 40\n",
    "if grade>=50:\n",
    "    print('pass')\n",
    "else:\n",
    "    print('fail')\n",
    "    \n",
    "# redundant condition    \n",
    "if grade>=50:\n",
    "    print('pass')\n",
    "elif grade<50:\n",
    "    print('fail')\n",
    "    \n",
    "if grade<50:\n",
    "    print('fail')\n",
    "else:\n",
    "    print('pass')"
   ]
  },
  {
   "cell_type": "markdown",
   "metadata": {},
   "source": [
    "3. Write code to display the number of letters in the student's name."
   ]
  },
  {
   "cell_type": "code",
   "execution_count": 42,
   "metadata": {},
   "outputs": [
    {
     "name": "stdout",
     "output_type": "stream",
     "text": [
      "Arya Stark\n",
      "10\n"
     ]
    }
   ],
   "source": [
    "#solution\n",
    "len(name)\n",
    "print(name)\n",
    "print(len(name))"
   ]
  },
  {
   "cell_type": "markdown",
   "metadata": {},
   "source": [
    "4. Given another student's test grades for all 5 tests, display their aggregated `test_grade`. Consider that:\n",
    "\n",
    "- test1 has a weight of 10%\n",
    "- test5 has a weight of 30%\n",
    "- test2, test3, test4 have a weight of 20% each"
   ]
  },
  {
   "cell_type": "code",
   "execution_count": 68,
   "metadata": {},
   "outputs": [],
   "source": [
    "test1 = 100\n",
    "test2 = 100\n",
    "test3 = 100\n",
    "test4 = 100\n",
    "test5 = 0"
   ]
  },
  {
   "cell_type": "markdown",
   "metadata": {},
   "source": [
    "*tip.* Let's first calculate the `test_grade` if all tests had the same weight."
   ]
  },
  {
   "cell_type": "code",
   "execution_count": 69,
   "metadata": {},
   "outputs": [
    {
     "name": "stdout",
     "output_type": "stream",
     "text": [
      "80.0\n"
     ]
    }
   ],
   "source": [
    "#solution\n",
    "test_grade = (test1 + test2 + test3 + test4 + test5)/5\n",
    "print(test_grade)"
   ]
  },
  {
   "cell_type": "markdown",
   "metadata": {},
   "source": [
    "Now, let's calculate the `test_grade` using the given weights."
   ]
  },
  {
   "cell_type": "code",
   "execution_count": 70,
   "metadata": {},
   "outputs": [
    {
     "name": "stdout",
     "output_type": "stream",
     "text": [
      "70.0\n"
     ]
    }
   ],
   "source": [
    "#solution\n",
    "test_grade = 0.1*test1 + 0.2*test2 + 0.2*test3 + 0.2*test4 + 0.3*test5\n",
    "print(test_grade)"
   ]
  },
  {
   "cell_type": "code",
   "execution_count": null,
   "metadata": {},
   "outputs": [],
   "source": []
  }
 ],
 "metadata": {
  "kernelspec": {
   "display_name": "Python 3",
   "language": "python",
   "name": "python3"
  },
  "language_info": {
   "codemirror_mode": {
    "name": "ipython",
    "version": 3
   },
   "file_extension": ".py",
   "mimetype": "text/x-python",
   "name": "python",
   "nbconvert_exporter": "python",
   "pygments_lexer": "ipython3",
   "version": "3.8.5"
  }
 },
 "nbformat": 4,
 "nbformat_minor": 4
}
