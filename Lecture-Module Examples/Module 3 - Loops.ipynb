{
 "cells": [
  {
   "cell_type": "markdown",
   "metadata": {},
   "source": [
    "# Lecture examples -- Loops\n",
    "**What are loops?**\n",
    "\n",
    "A loop is a structure that allows repetition in a program\n",
    "\n",
    "Example:\n",
    "- If you want to increment a number and print a message if it is smaller than 10, without using loops:"
   ]
  },
  {
   "cell_type": "code",
   "execution_count": 29,
   "metadata": {},
   "outputs": [
    {
     "name": "stdout",
     "output_type": "stream",
     "text": [
      "x is 0\n",
      "0 is small\n",
      "x is 1\n",
      "1 is small\n",
      "x is 2\n",
      "2 is small\n",
      "x is 3\n",
      "3 is small\n",
      "x is 4\n",
      "4 is small\n",
      "x is 5\n",
      "5 is small\n",
      "x is 6\n",
      "6 is small\n",
      "x is 7\n",
      "7 is small\n",
      "x is 8\n",
      "8 is small\n",
      "x is 9\n",
      "9 is small\n",
      "x is 10\n",
      "x is 11\n"
     ]
    }
   ],
   "source": [
    "x = 0\n",
    "print('x is',x)\n",
    "if x<10:\n",
    "    print(x, 'is small')\n",
    "x = x + 1\n",
    "print('x is',x)\n",
    "if x<10:\n",
    "    print(x, 'is small')\n",
    "x = x + 1\n",
    "print('x is',x)\n",
    "if x<10:\n",
    "    print(x, 'is small')\n",
    "x = x + 1\n",
    "print('x is',x)\n",
    "if x<10:\n",
    "    print(x, 'is small')\n",
    "x = x + 1\n",
    "print('x is',x)\n",
    "if x<10:\n",
    "    print(x, 'is small')\n",
    "x = x + 1\n",
    "print('x is',x)\n",
    "if x<10:\n",
    "    print(x, 'is small')\n",
    "x = x + 1\n",
    "print('x is',x)\n",
    "if x<10:\n",
    "    print(x, 'is small')\n",
    "x = x + 1\n",
    "print('x is',x)\n",
    "if x<10:\n",
    "    print(x, 'is small')\n",
    "x = x + 1\n",
    "print('x is',x)\n",
    "if x<10:\n",
    "    print(x, 'is small')\n",
    "x = x + 1\n",
    "print('x is',x)\n",
    "if x<10:\n",
    "    print(x, 'is small')\n",
    "x = x + 1\n",
    "print('x is',x)\n",
    "if x<10:\n",
    "    print(x, 'is small')\n",
    "x = x + 1\n",
    "print('x is',x)"
   ]
  },
  {
   "cell_type": "markdown",
   "metadata": {},
   "source": [
    "- Now, using a `while` loop"
   ]
  },
  {
   "cell_type": "code",
   "execution_count": 28,
   "metadata": {},
   "outputs": [
    {
     "name": "stdout",
     "output_type": "stream",
     "text": [
      "0 is small\n",
      "1 is small\n",
      "2 is small\n",
      "3 is small\n",
      "4 is small\n",
      "5 is small\n",
      "6 is small\n",
      "7 is small\n",
      "8 is small\n",
      "9 is small\n"
     ]
    }
   ],
   "source": [
    "x = 0\n",
    "#while loop\n",
    "#execute the idented code block while the condition is true\n",
    "while x < 10:\n",
    "    #code block inside the while loop\n",
    "    print(x, 'is small')\n",
    "    #incrementing x\n",
    "    x = x + 1\n",
    "    #if we don't increment x, this loop will run forever because \n",
    "    #the \"stop\" condition will never be met e.g., x will never get bigger or equals to 10"
   ]
  },
  {
   "cell_type": "markdown",
   "metadata": {},
   "source": [
    "- Now, using a `for` loop\n",
    "\n",
    "It also uses the `range` function, which follow the syntax:\n",
    "\n",
    "`range(lower_boundary, upper_boundary, increment)`\n",
    "\n",
    "For example, we want all numbers in the range of 0 to 10 (10 not included), and we increment it by `1`, this is the syntax:\n",
    "\n",
    "`range(0,10,1)`"
   ]
  },
  {
   "cell_type": "code",
   "execution_count": 12,
   "metadata": {},
   "outputs": [
    {
     "data": {
      "text/plain": [
       "range(0, 10)"
      ]
     },
     "execution_count": 12,
     "metadata": {},
     "output_type": "execute_result"
    }
   ],
   "source": [
    "range(0,10,1)"
   ]
  },
  {
   "cell_type": "code",
   "execution_count": 27,
   "metadata": {},
   "outputs": [
    {
     "name": "stdout",
     "output_type": "stream",
     "text": [
      "0 is small\n",
      "1 is small\n",
      "2 is small\n",
      "3 is small\n",
      "4 is small\n",
      "5 is small\n",
      "6 is small\n",
      "7 is small\n",
      "8 is small\n",
      "9 is small\n"
     ]
    }
   ],
   "source": [
    "#for loop\n",
    "#will execute the for loop code block \n",
    "#for all values of x which fulfills the condition\n",
    "for x in range(0,10,1): \n",
    "    #code block inside the for loop\n",
    "    print(x, 'is small')"
   ]
  },
  {
   "cell_type": "markdown",
   "metadata": {},
   "source": [
    "Other examples using `for`\n",
    "\n",
    "We can use an explicit list of items which we want the for to loop "
   ]
  },
  {
   "cell_type": "code",
   "execution_count": 26,
   "metadata": {},
   "outputs": [
    {
     "name": "stdout",
     "output_type": "stream",
     "text": [
      "Hello! x 0\n",
      "Hello! x 1\n",
      "Hello! x 2\n",
      "Hello! x 3\n",
      "Hello! x 4\n",
      "Hello! x 5\n",
      "Hello! x 6\n",
      "Hello! x 7\n",
      "Hello! x 8\n",
      "Hello! x 9\n",
      "World\n"
     ]
    }
   ],
   "source": [
    "for x in [0,1,2,3,4,5,6,7,8,9]:\n",
    "    print('Hello! x',x)\n",
    "print('World')"
   ]
  },
  {
   "cell_type": "markdown",
   "metadata": {},
   "source": [
    "The default usage of `range` is increment of `1`, starting from `0`. So, if these are the your lower boundary and increment, we can just simply indicate the upper boundary as bellow:"
   ]
  },
  {
   "cell_type": "code",
   "execution_count": 30,
   "metadata": {},
   "outputs": [
    {
     "name": "stdout",
     "output_type": "stream",
     "text": [
      "Hello! x  0\n",
      "Hello! x  1\n",
      "Hello! x  2\n",
      "Hello! x  3\n",
      "Hello! x  4\n",
      "Hello! x  5\n",
      "Hello! x  6\n",
      "Hello! x  7\n",
      "Hello! x  8\n",
      "Hello! x  9\n"
     ]
    }
   ],
   "source": [
    "for x in range(10):\n",
    "    print('Hello! x ',x)"
   ]
  },
  {
   "cell_type": "markdown",
   "metadata": {},
   "source": [
    "**Extra resources on loops**\n",
    "- https://www.w3schools.com/python/python_while_loops.asp\n",
    "- https://www.w3schools.com/python/python_for_loops.asp\n"
   ]
  }
 ],
 "metadata": {
  "kernelspec": {
   "display_name": "Python 3",
   "language": "python",
   "name": "python3"
  },
  "language_info": {
   "codemirror_mode": {
    "name": "ipython",
    "version": 3
   },
   "file_extension": ".py",
   "mimetype": "text/x-python",
   "name": "python",
   "nbconvert_exporter": "python",
   "pygments_lexer": "ipython3",
   "version": "3.8.5"
  }
 },
 "nbformat": 4,
 "nbformat_minor": 4
}
