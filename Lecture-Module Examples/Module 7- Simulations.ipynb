{
 "cells": [
  {
   "cell_type": "markdown",
   "metadata": {},
   "source": [
    "# Lecture examples - Simulations #"
   ]
  },
  {
   "cell_type": "code",
   "execution_count": 2,
   "metadata": {},
   "outputs": [],
   "source": [
    "import numpy as np\n",
    "import matplotlib.pyplot as plt"
   ]
  },
  {
   "cell_type": "markdown",
   "metadata": {},
   "source": [
    "## Random distributions"
   ]
  },
  {
   "cell_type": "code",
   "execution_count": 28,
   "metadata": {},
   "outputs": [
    {
     "data": {
      "image/png": "[encoded data removed]",
      "text/plain": [
       "<Figure size 432x288 with 1 Axes>"
      ]
     },
     "metadata": {
      "needs_background": "light"
     },
     "output_type": "display_data"
    }
   ],
   "source": [
    "# normal( mean, standard deviation, number of samples)\n",
    "normal = np.random.normal(0, .3, 100000)\n",
    "plt.hist(normal, 30, density=True)\n",
    "plt.show()"
   ]
  },
  {
   "cell_type": "code",
   "execution_count": 24,
   "metadata": {},
   "outputs": [
    {
     "data": {
      "image/png": "[encoded data removed]",
      "text/plain": [
       "<Figure size 432x288 with 1 Axes>"
      ]
     },
     "metadata": {
      "needs_background": "light"
     },
     "output_type": "display_data"
    }
   ],
   "source": [
    "# triangular( min, peak, max, number of samples)\n",
    "triang = np.random.triangular(1, 3, 12, 100000)\n",
    "plt.hist(triang, 30, density=True)\n",
    "plt.show()"
   ]
  },
  {
   "cell_type": "code",
   "execution_count": 26,
   "metadata": {},
   "outputs": [
    {
     "data": {
      "image/png": "[encoded data removed]",
      "text/plain": [
       "<Figure size 432x288 with 1 Axes>"
      ]
     },
     "metadata": {
      "needs_background": "light"
     },
     "output_type": "display_data"
    }
   ],
   "source": [
    "# uniform( min, max, number of samples)\n",
    "uniform = np.random.uniform(0, 100, 100000)\n",
    "plt.hist(uniform, 30, density=True)\n",
    "plt.show()"
   ]
  },
  {
   "cell_type": "markdown",
   "metadata": {},
   "source": [
    "## Simulation examples"
   ]
  },
  {
   "cell_type": "code",
   "execution_count": 17,
   "metadata": {},
   "outputs": [],
   "source": [
    "def probabilityOfDoubles(iterations):\n",
    "    numRolls = 0\n",
    "    numDoubles = 0\n",
    "    for i in range(iterations):\n",
    "        die1 = int(np.random.rand() * 6 + 1)\n",
    "        die2 = int(np.random.rand() * 6 + 1)\n",
    "        numRolls = numRolls + 1\n",
    "\n",
    "        if die1 == die2:\n",
    "            numDoubles = numDoubles + 1\n",
    "    \n",
    "    return float(numDoubles) / float(numRolls)"
   ]
  },
  {
   "cell_type": "code",
   "execution_count": 19,
   "metadata": {},
   "outputs": [
    {
     "data": {
      "text/plain": [
       "0.1684"
      ]
     },
     "execution_count": 19,
     "metadata": {},
     "output_type": "execute_result"
    }
   ],
   "source": [
    "probabilityOfDoubles(10000)"
   ]
  },
  {
   "cell_type": "code",
   "execution_count": 23,
   "metadata": {},
   "outputs": [],
   "source": [
    "def simulateHalfLife(numAtoms, decayProb, timeSteps):\n",
    "    initialAtoms = numAtoms\n",
    "    for t in range(timeSteps):\n",
    "        for m in range(numAtoms):\n",
    "            if np.random.rand() < decayProb:\n",
    "                numAtoms -= 1\n",
    "    return initialAtoms, numAtoms"
   ]
  },
  {
   "cell_type": "code",
   "execution_count": 35,
   "metadata": {},
   "outputs": [
    {
     "data": {
      "text/plain": [
       "(78, 2)"
      ]
     },
     "execution_count": 35,
     "metadata": {},
     "output_type": "execute_result"
    }
   ],
   "source": [
    "simulateHalfLife(78, 0.4, 10)"
   ]
  },
  {
   "cell_type": "code",
   "execution_count": 29,
   "metadata": {},
   "outputs": [],
   "source": [
    "def plotDecay(numAtoms, decayProb, timeSteps):\n",
    "    numRemaining = [numAtoms]\n",
    "    for t in range(timeSteps):\n",
    "        count = numAtoms*((1-decayProb)**t)\n",
    "        numRemaining.append(count)\n",
    "    plt.plot(numRemaining)\n",
    "    plt.xlabel(\"Time Steps\")\n",
    "    plt.ylabel(\"Atoms\")\n",
    "    plt.grid(True)\n",
    "    plt.show()"
   ]
  },
  {
   "cell_type": "code",
   "execution_count": 36,
   "metadata": {},
   "outputs": [
    {
     "data": {
      "image/png": "[encoded data removed]",
      "text/plain": [
       "<Figure size 432x288 with 1 Axes>"
      ]
     },
     "metadata": {
      "needs_background": "light"
     },
     "output_type": "display_data"
    }
   ],
   "source": [
    "plotDecay(78,0.3,10)"
   ]
  },
  {
   "cell_type": "code",
   "execution_count": 38,
   "metadata": {},
   "outputs": [],
   "source": [
    "import math\n",
    "\n",
    "# math.pi, epsilon 0.0001 \n",
    "def estimatePi(iterations):\n",
    "    numInsideCircle = 0\n",
    "    for i in range(iterations):\n",
    "        if dropObject():\n",
    "            numInsideCircle += 1\n",
    "    return 4.0 * float(numInsideCircle) / float(iterations)\n",
    "\n",
    "def dropObject():\n",
    "    x = np.random.random()\n",
    "    y = np.random.random()\n",
    "    if math.sqrt(x**2 + y**2) < 1.0:\n",
    "        return True\n",
    "    else:\n",
    "        return False"
   ]
  },
  {
   "cell_type": "code",
   "execution_count": 49,
   "metadata": {},
   "outputs": [
    {
     "name": "stdout",
     "output_type": "stream",
     "text": [
      "2.4\n",
      "3.136\n",
      "3.14796\n"
     ]
    }
   ],
   "source": [
    "print(estimatePi(10))\n",
    "print(estimatePi(1000))\n",
    "print(estimatePi(100000))"
   ]
  },
  {
   "cell_type": "markdown",
   "metadata": {},
   "source": [
    "## Estimate earnings \n",
    "\n",
    "Task: Write a function `simulateEarnings(distUnitP, distUnitS, distFixedC, distVariableC, n)`, where `n` is the number of scenarios to be explored.\n",
    "\n",
    "1. Generate triangular distributions (each of the parameters is distribution) for:\n",
    "- `unitPrice`\n",
    "- `unitSales`\n",
    "- `fixedCosts`\n",
    "- `variableCosts`\n",
    "\n",
    "2. Calculate the earnings by taking random numbers from these distributions and plugging them into the formula:\n",
    "\n",
    "```\n",
    "earningsestimated = unitPrice * unitSales − varCosts − fixedCosts\n",
    "```\n",
    "\n",
    "3. Plot the distribution of earnings, to give us a good idea of what to expect\n"
   ]
  },
  {
   "cell_type": "code",
   "execution_count": 1,
   "metadata": {},
   "outputs": [],
   "source": [
    "import numpy as np  \n",
    "import matplotlib.pyplot as plt   "
   ]
  },
  {
   "cell_type": "code",
   "execution_count": 2,
   "metadata": {},
   "outputs": [
    {
     "name": "stdout",
     "output_type": "stream",
     "text": [
      "Distribution : \n",
      " [8.6765469  4.45486543 1.34205655 ... 3.33143052 6.16229982 3.76345758]\n"
     ]
    },
    {
     "data": {
      "image/png": "[encoded data removed]",
      "text/plain": [
       "<Figure size 432x288 with 1 Axes>"
      ]
     },
     "metadata": {
      "needs_background": "light"
     },
     "output_type": "display_data"
    }
   ],
   "source": [
    "# step 1: generate a triangular distributions\n",
    "#       np.random.triangular(minValue, peakValue, maxValue, distSize)\n",
    "distribution = np.random.triangular(1, 3, 12, 100000)\n",
    "print(\"Distribution : \\n\", distribution) \n",
    "     \n",
    "plot = plt.hist(distribution, histtype='step') \n",
    "plt.show()\n",
    "\n",
    "# next generate distributions for each:\n",
    "\n",
    "# unitPrice\n",
    "# unitSales\n",
    "# fixedCosts\n",
    "# variableCosts"
   ]
  },
  {
   "cell_type": "code",
   "execution_count": 3,
   "metadata": {},
   "outputs": [],
   "source": [
    "'''\n",
    "The exercise doesn't set the limits (max, min, peak) for the distributions. So we can choose it ourselves.\n",
    "I'm also defining how many scenarios we will be simulating `iterations`\n",
    "'''\n",
    "iterations = 100000\n",
    "# unitPrice\n",
    "distUnitPrice = np.random.triangular(20, 25, 35, iterations)\n",
    "# plt.hist(distUnitPrice, histtype='step') \n",
    "# unitSales\n",
    "distUnitSales = np.random.triangular(0, 10, 200, iterations)\n",
    "# plt.hist(distUnitSales, histtype='step') \n",
    "# fixedCosts\n",
    "distFixedCosts = np.random.triangular(1, 5, 7, iterations)\n",
    "# plt.hist(distFixedCosts, histtype='step') \n",
    "# variableCosts\n",
    "distVariableCosts = np.random.triangular(0, 3, 11, iterations)\n",
    "# plt.hist(distVariableCosts, histtype='step') \n",
    "\n",
    "# next step calculate earnings in the simulation"
   ]
  },
  {
   "cell_type": "code",
   "execution_count": 7,
   "metadata": {},
   "outputs": [
    {
     "data": {
      "image/png": "[encoded data removed]",
      "text/plain": [
       "<Figure size 432x288 with 1 Axes>"
      ]
     },
     "metadata": {
      "needs_background": "light"
     },
     "output_type": "display_data"
    }
   ],
   "source": [
    "def simulateEarnings(distUnitP, distUnitS, distFixedC, distVariableC, n):\n",
    "#     store each result per scenario\n",
    "    resultingSimulationEarnings = []\n",
    "#     generating n scenarios\n",
    "    for scenario in range(n):\n",
    "#         determining this scenario's values\n",
    "        unitPrice = distUnitP[scenario]\n",
    "        unitSales = distUnitS[scenario] \n",
    "        fixedCosts = distFixedC[scenario] \n",
    "        varCosts = distVariableC[scenario]        \n",
    "#         calculating earnings estimation based on formula\n",
    "        earningsestimated = unitPrice * unitSales - varCosts - fixedCosts\n",
    "#         saving this scenario's result\n",
    "        resultingSimulationEarnings.append(earningsestimated)\n",
    "#     Next step: plot the results from all simulations\n",
    "    plt.hist(resultingSimulationEarnings) \n",
    "    plt.title(\"Simlation of earnings for \"+str(n)+\" different scenarios\")\n",
    "    \n",
    "simulateEarnings(distUnitPrice, distUnitSales, distFixedCosts, distVariableCosts, iterations)"
   ]
  }
 ],
 "metadata": {
  "kernelspec": {
   "display_name": "Python 3",
   "language": "python",
   "name": "python3"
  },
  "language_info": {
   "codemirror_mode": {
    "name": "ipython",
    "version": 3
   },
   "file_extension": ".py",
   "mimetype": "text/x-python",
   "name": "python",
   "nbconvert_exporter": "python",
   "pygments_lexer": "ipython3",
   "version": "3.8.5"
  }
 },
 "nbformat": 4,
 "nbformat_minor": 4
}
