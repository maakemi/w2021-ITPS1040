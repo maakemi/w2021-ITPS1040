{
 "cells": [
  {
   "cell_type": "markdown",
   "metadata": {},
   "source": [
    "# Synchronous Lecture - Sept 24\n",
    "\n",
    "## Workshop\n",
    "\n",
    "Review of modules: \n",
    " - basic programming \n",
    " - conditionals\n",
    "\n",
    "1. Let's write code to display name and the letter grade of a student's grade out of 100\n",
    "\n",
    "Consider this scale fo the grades.\n",
    "   -  A (100-90)\n",
    "   -  B (89.99-75)\n",
    "   -  C (74.99-60)\n",
    "   -  D (59.99-50)\n",
    "   -  F (49.99-0)\n",
    " "
   ]
  },
  {
   "cell_type": "code",
   "execution_count": null,
   "metadata": {},
   "outputs": [],
   "source": [
    "grade = 78\n",
    "name = 'Arya Stark'"
   ]
  },
  {
   "cell_type": "code",
   "execution_count": null,
   "metadata": {},
   "outputs": [],
   "source": [
    "#solution\n"
   ]
  },
  {
   "cell_type": "markdown",
   "metadata": {},
   "source": [
    "2. The minimum requirement to pass the course is to get a grade of 50 or more. Write code to display `pass` or `fail`."
   ]
  },
  {
   "cell_type": "code",
   "execution_count": null,
   "metadata": {},
   "outputs": [],
   "source": [
    "#solution"
   ]
  },
  {
   "cell_type": "markdown",
   "metadata": {},
   "source": [
    "3. Write code to display the number of letters in the student's name."
   ]
  },
  {
   "cell_type": "code",
   "execution_count": null,
   "metadata": {},
   "outputs": [],
   "source": [
    "#solution"
   ]
  },
  {
   "cell_type": "markdown",
   "metadata": {},
   "source": [
    "4. Given another a student's test grades for all 5 tests, display their aggregated `test_grade`. Consider that:\n",
    "\n",
    "- test1 has a weight of 10%\n",
    "- test5 has a weight of 30%\n",
    "- test2, test3, test4 have a weight of 20% each"
   ]
  },
  {
   "cell_type": "code",
   "execution_count": 16,
   "metadata": {},
   "outputs": [],
   "source": [
    "test1 = 100\n",
    "test2 = 100\n",
    "test3 = 100\n",
    "test4 = 100\n",
    "test5 = 100"
   ]
  },
  {
   "cell_type": "markdown",
   "metadata": {},
   "source": [
    "*tip.* Let's first calculate the `test_grade` if all tests had the same weight."
   ]
  },
  {
   "cell_type": "code",
   "execution_count": null,
   "metadata": {},
   "outputs": [],
   "source": [
    "#solution"
   ]
  },
  {
   "cell_type": "markdown",
   "metadata": {},
   "source": [
    "Now, let's calculate the `test_grade` using the given weights."
   ]
  },
  {
   "cell_type": "code",
   "execution_count": null,
   "metadata": {},
   "outputs": [],
   "source": [
    "#solution"
   ]
  }
 ],
 "metadata": {
  "kernelspec": {
   "display_name": "Python 3",
   "language": "python",
   "name": "python3"
  },
  "language_info": {
   "codemirror_mode": {
    "name": "ipython",
    "version": 3
   },
   "file_extension": ".py",
   "mimetype": "text/x-python",
   "name": "python",
   "nbconvert_exporter": "python",
   "pygments_lexer": "ipython3",
   "version": "3.8.5"
  }
 },
 "nbformat": 4,
 "nbformat_minor": 4
}
