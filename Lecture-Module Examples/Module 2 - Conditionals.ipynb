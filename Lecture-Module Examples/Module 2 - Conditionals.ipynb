{
 "cells": [
  {
   "cell_type": "markdown",
   "metadata": {},
   "source": [
    "# Lecture examples -- Conditionals # "
   ]
  },
  {
   "cell_type": "markdown",
   "metadata": {},
   "source": [
    "A conditional is a programming language statement that optionally executes a block of code\n",
    "Conditionals evaluate a condition, which is an expression of Boolean type\n",
    "- If the condition is true, the code block is executed\n",
    "- If the condition is false, the code block is ignored\n",
    "\n",
    "For example:"
   ]
  },
  {
   "cell_type": "code",
   "execution_count": 31,
   "metadata": {},
   "outputs": [
    {
     "name": "stdout",
     "output_type": "stream",
     "text": [
      "20\n"
     ]
    }
   ],
   "source": [
    "#you can change the value of `value` and test the condition\n",
    "value = 20\n",
    "print(value)"
   ]
  },
  {
   "cell_type": "markdown",
   "metadata": {},
   "source": [
    "The next cell will only print the string `Small value` if the variable `value` was assigned a number smaller than 10."
   ]
  },
  {
   "cell_type": "code",
   "execution_count": 34,
   "metadata": {},
   "outputs": [],
   "source": [
    "if value < 10:\n",
    "    print('Small value')"
   ]
  },
  {
   "cell_type": "markdown",
   "metadata": {},
   "source": [
    "In order to determine which blocks of code will be conditional or not, we have to follow the identation. See the code below:"
   ]
  },
  {
   "cell_type": "code",
   "execution_count": 38,
   "metadata": {},
   "outputs": [],
   "source": [
    "#condition\n",
    "if value < 10:\n",
    "    # code indented, execution will be based on the condition result\n",
    "    print('Small value')\n",
    "#code outside the identation will be executed independently of the condition result\n",
    "x = 7"
   ]
  },
  {
   "cell_type": "markdown",
   "metadata": {},
   "source": [
    "An `if` statement can also have an `else` clause\n",
    "\n",
    "*An if statement evaluates a condition, which is an expression of Boolean type*\n",
    "- If the condition is true, the code block in the if clause is executed\n",
    "- If the condition is false, the code block in the else clause is executed"
   ]
  },
  {
   "cell_type": "code",
   "execution_count": 39,
   "metadata": {},
   "outputs": [
    {
     "name": "stdout",
     "output_type": "stream",
     "text": [
      "Not small\n"
     ]
    }
   ],
   "source": [
    "#condition\n",
    "if value < 10:\n",
    "    # if condition true execute this block\n",
    "    print('Small')\n",
    "else:\n",
    "    # if condition false execute this block\n",
    "    print('Not small')"
   ]
  },
  {
   "cell_type": "markdown",
   "metadata": {},
   "source": [
    "An `if` statement can also have an `elif` or *\"else if\"* clause\n",
    "- An `elif` clause is an additional condition\n",
    "   - If the `if` condition is false, the `elif` condition(s) are then checked (in order)\n",
    "   - Finally, the else code is executed if none of the previous conditions are true"
   ]
  },
  {
   "cell_type": "code",
   "execution_count": 40,
   "metadata": {},
   "outputs": [
    {
     "name": "stdout",
     "output_type": "stream",
     "text": [
      "Medium\n"
     ]
    }
   ],
   "source": [
    "#first condition\n",
    "if value < 10:\n",
    "    #execute this if 1st condition is true\n",
    "    print('Small')\n",
    "#if 1st condition is falwse, check this second condition\n",
    "elif value < 20:\n",
    "    #execute this if 2nd condition is true\n",
    "    print('Medium')\n",
    "#if both 1st and 2nd conditions are false do this\n",
    "else:\n",
    "    # execute this if both 1st and 2nd conditions are false do this\n",
    "    print('Large')"
   ]
  },
  {
   "cell_type": "markdown",
   "metadata": {},
   "source": [
    "## Video example coding"
   ]
  },
  {
   "cell_type": "code",
   "execution_count": 33,
   "metadata": {},
   "outputs": [
    {
     "name": "stdout",
     "output_type": "stream",
     "text": [
      "Medium value\n",
      "20\n"
     ]
    }
   ],
   "source": [
    "if value <= 10:\n",
    "    print('Small value')\n",
    "    value = value + 1\n",
    "    if value==6:\n",
    "        print('Six')\n",
    "    else:\n",
    "        print('Not six')\n",
    "elif value<=20:\n",
    "    print('Medium value')\n",
    "else:\n",
    "    print(\"Not small or medium\")\n",
    "print(value)    "
   ]
  }
 ],
 "metadata": {
  "kernelspec": {
   "display_name": "Python 3",
   "language": "python",
   "name": "python3"
  },
  "language_info": {
   "codemirror_mode": {
    "name": "ipython",
    "version": 3
   },
   "file_extension": ".py",
   "mimetype": "text/x-python",
   "name": "python",
   "nbconvert_exporter": "python",
   "pygments_lexer": "ipython3",
   "version": "3.8.5"
  }
 },
 "nbformat": 4,
 "nbformat_minor": 4
}
