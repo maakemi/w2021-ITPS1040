{
 "cells": [
  {
   "cell_type": "markdown",
   "metadata": {},
   "source": [
    "# Lecture examples -- Sequences: lists, strings, tuples\n",
    "\n",
    "Sequences is a general category for data structures that contain multiple values:\n",
    "- **list** - a sequence of values of the same type\n",
    "    - e.g. ['Sylvia Maggiore', 'Loïc Laframboise', 'Xiao Ju']\n",
    "    - e.g. [27.5, 18.25, 14.0, 21.75, 16.0]\n",
    "- **string** - a sequence of characters\n",
    "    - e.g. 'abcdefghi'\n",
    "    - e.g. \"Xiao Ju\"\n",
    "- **tuple** - a set of related values, which can be of different types\n",
    "    - e.g. (100000001, 'Sylvia', 'Maggiore', 3.41)\n",
    "    - e.g. (124, 'Benzene', 0.04, 53)\n",
    "    \n",
    "You can access arbitrary elements of both lists and strings with `[]`\n",
    "- Inside the square brackets, the index of the element is provided\n",
    "- Indices begin at 0\n",
    "    - i.e. `list[0]` is the first element in list, `list[1]` is the second\n",
    "- You can also use negative numbers, which count from the end of the sequence\n",
    "\n",
    "See the example below:"
   ]
  },
  {
   "cell_type": "code",
   "execution_count": 48,
   "metadata": {},
   "outputs": [
    {
     "name": "stdout",
     "output_type": "stream",
     "text": [
      "3\n",
      "C\n",
      "a\n"
     ]
    }
   ],
   "source": [
    "list = [0,1,2,3,4,5,6,7,8,9]\n",
    "#print element on the position with index 3\n",
    "print(list[3])\n",
    "name = 'Carla'\n",
    "print(name[0]) #print element on the position 0 - letter 'C'\n",
    "print(name[-1])"
   ]
  },
  {
   "cell_type": "markdown",
   "metadata": {},
   "source": [
    "## Lists\n",
    "A list is a sequence of elements of the same type\n",
    "\n",
    "We can create lists of any type (see examples below):\n",
    "- Boolean (True/False)\n",
    "- Numbers\n",
    "- Strings\n",
    "- Lists\n",
    "- Tuples"
   ]
  },
  {
   "cell_type": "code",
   "execution_count": 49,
   "metadata": {},
   "outputs": [],
   "source": [
    "integerList = [1,2,3,4,5]\n",
    "stringList = [\"this\", \"is\", \"a\", \"sentence\"]\n",
    "floatingPointList = [1.1, 2.1, 3.1]"
   ]
  },
  {
   "cell_type": "markdown",
   "metadata": {},
   "source": [
    "A 2D list (i.e. a matrix) is just a list of lists\n"
   ]
  },
  {
   "cell_type": "code",
   "execution_count": 50,
   "metadata": {},
   "outputs": [
    {
     "name": "stdout",
     "output_type": "stream",
     "text": [
      "[2, 4, 6, 8]\n",
      "6\n",
      "[4, 5, 6]\n",
      "6\n"
     ]
    }
   ],
   "source": [
    "list1 = [2,3,4,5]\n",
    "list2 = [2,4,6,8]\n",
    "list3 = [5,4,3,2]\n",
    "#matrix1 list is a list of lists\n",
    "matrix1 = [list1, list2, list3]\n",
    "print(matrix1[1]) # prints the element index 1 of matrix1 - [2,4,6,8]\n",
    "print(matrix1[1][2])#prints the element indexed at 2 from the element indexed at 1 -  6\n",
    "#matrix2 is also a list of lists\n",
    "matrix2 = [[1,2,3],[4,5,6],[7,8,9]]\n",
    "print(matrix2[1]) # prints the element index 1 of matrix2 - [4,5,6]\n",
    "print(matrix2[1][2])  #prints the element indexed at 2 from the element indexed at 1 -  6"
   ]
  },
  {
   "cell_type": "markdown",
   "metadata": {},
   "source": [
    "Adding new elements to a list\n",
    "\n",
    "Examples of `insert` and `append`"
   ]
  },
  {
   "cell_type": "code",
   "execution_count": 51,
   "metadata": {},
   "outputs": [
    {
     "name": "stdout",
     "output_type": "stream",
     "text": [
      "[0, 2, 4, 6, 7, 8]\n",
      "[0, 2, 4, 6, 7, 8, 10]\n"
     ]
    }
   ],
   "source": [
    "list = [0,2,4,6,8]\n",
    "list.insert(4, 7)   # [0,2,4,6,7,8]\n",
    "print(list)\n",
    "list.append(10)     # [0,2,4,6,7,8,10]\n",
    "print(list)"
   ]
  },
  {
   "cell_type": "markdown",
   "metadata": {},
   "source": [
    "Removing elements\n",
    "\n",
    "Examples of `remove` and `pop`"
   ]
  },
  {
   "cell_type": "code",
   "execution_count": 52,
   "metadata": {},
   "outputs": [
    {
     "name": "stdout",
     "output_type": "stream",
     "text": [
      "[1, 2, 6, 8]\n",
      "[1, 2, 6]\n",
      "[2, 6]\n"
     ]
    }
   ],
   "source": [
    "list = [1,2,4,6,8]\n",
    "list.remove(4)     # [1,2,6,8]\n",
    "print(list)\n",
    "list.pop()         # [1,2,6]\n",
    "print(list)\n",
    "list.pop(0)        # [2,6]\n",
    "print(list)"
   ]
  },
  {
   "cell_type": "markdown",
   "metadata": {},
   "source": [
    "Slicing parts of a list\n",
    "\n",
    "Examples using `[:]`"
   ]
  },
  {
   "cell_type": "code",
   "execution_count": 53,
   "metadata": {},
   "outputs": [
    {
     "name": "stdout",
     "output_type": "stream",
     "text": [
      "[4, 5, 6]\n",
      "[1, 2, 3, 4]\n",
      "[6, 7, 8, 9, 10]\n"
     ]
    }
   ],
   "source": [
    "list = [1,2,3,4,5,6,7,8,9,10]\n",
    "print(list[3:6])     # [4,5,6]\n",
    "print(list[:4])      # [1,2,3,4]\n",
    "print(list[5:])      # [6,7,8,9,10]"
   ]
  },
  {
   "cell_type": "markdown",
   "metadata": {},
   "source": [
    "Stepped slice example:\n",
    "\n",
    "`[start_index : end_index : step_size]`"
   ]
  },
  {
   "cell_type": "markdown",
   "metadata": {},
   "source": [
    "list = [1,2,3,4,5,6,7,8,9,10]\n",
    "print(list[2:8:2])   # [3,5,7]\n",
    "print(list[1:10:3])  # [2,5,8]"
   ]
  },
  {
   "cell_type": "markdown",
   "metadata": {},
   "source": [
    "Other functions\n",
    "\n",
    "Example:"
   ]
  },
  {
   "cell_type": "code",
   "execution_count": 54,
   "metadata": {},
   "outputs": [
    {
     "name": "stdout",
     "output_type": "stream",
     "text": [
      "10\n",
      "10\n",
      "1\n",
      "0\n",
      "1\n",
      "2\n",
      "3\n",
      "4\n",
      "5\n",
      "6\n",
      "7\n",
      "8\n",
      "9\n"
     ]
    }
   ],
   "source": [
    "list = [1,2,3,4,5,6,7,8,9,10]\n",
    "print(len(list))\n",
    "print(max(list))\n",
    "print(min(list))\n",
    "for x in range(0,len(list)):\n",
    "    print(x)"
   ]
  },
  {
   "cell_type": "markdown",
   "metadata": {},
   "source": [
    "List membership examples using `in` and `not in`"
   ]
  },
  {
   "cell_type": "code",
   "execution_count": 55,
   "metadata": {},
   "outputs": [
    {
     "name": "stdout",
     "output_type": "stream",
     "text": [
      "Found three\n",
      "2\n",
      "1\n"
     ]
    },
    {
     "ename": "ValueError",
     "evalue": "20 is not in list",
     "output_type": "error",
     "traceback": [
      "\u001b[0;31m---------------------------------------------------------------------------\u001b[0m",
      "\u001b[0;31mValueError\u001b[0m                                Traceback (most recent call last)",
      "\u001b[0;32m<ipython-input-55-e239357c45fe>\u001b[0m in \u001b[0;36m<module>\u001b[0;34m\u001b[0m\n\u001b[1;32m      4\u001b[0m \u001b[0mprint\u001b[0m\u001b[0;34m(\u001b[0m\u001b[0mlist\u001b[0m\u001b[0;34m.\u001b[0m\u001b[0mindex\u001b[0m\u001b[0;34m(\u001b[0m\u001b[0;36m3\u001b[0m\u001b[0;34m)\u001b[0m\u001b[0;34m)\u001b[0m\u001b[0;34m\u001b[0m\u001b[0;34m\u001b[0m\u001b[0m\n\u001b[1;32m      5\u001b[0m \u001b[0mprint\u001b[0m\u001b[0;34m(\u001b[0m\u001b[0mlist\u001b[0m\u001b[0;34m.\u001b[0m\u001b[0mcount\u001b[0m\u001b[0;34m(\u001b[0m\u001b[0;36m3\u001b[0m\u001b[0;34m)\u001b[0m\u001b[0;34m)\u001b[0m\u001b[0;34m\u001b[0m\u001b[0;34m\u001b[0m\u001b[0m\n\u001b[0;32m----> 6\u001b[0;31m \u001b[0mprint\u001b[0m\u001b[0;34m(\u001b[0m\u001b[0mlist\u001b[0m\u001b[0;34m.\u001b[0m\u001b[0mindex\u001b[0m\u001b[0;34m(\u001b[0m\u001b[0;36m20\u001b[0m\u001b[0;34m)\u001b[0m\u001b[0;34m)\u001b[0m  \u001b[0;31m# generates an error - no element 20 in the list\u001b[0m\u001b[0;34m\u001b[0m\u001b[0;34m\u001b[0m\u001b[0m\n\u001b[0m\u001b[1;32m      7\u001b[0m \u001b[0;31m# how would you fix it? How can we avoid fetching an element that is  not in the list?\u001b[0m\u001b[0;34m\u001b[0m\u001b[0;34m\u001b[0m\u001b[0;34m\u001b[0m\u001b[0m\n",
      "\u001b[0;31mValueError\u001b[0m: 20 is not in list"
     ]
    }
   ],
   "source": [
    "list = [1,2,3,4,5,6,7,8,9,10]\n",
    "if 3 in list:\n",
    "    print('Found three')\n",
    "print(list.index(3))\n",
    "print(list.count(3))\n",
    "print(list.index(20))  # generates an error - no element 20 in the list\n",
    "# how would you fix it? How can we avoid fetching an element that is  not in the list?"
   ]
  },
  {
   "cell_type": "markdown",
   "metadata": {},
   "source": [
    "Concatenating lists or strings. Examples:"
   ]
  },
  {
   "cell_type": "code",
   "execution_count": 56,
   "metadata": {},
   "outputs": [
    {
     "name": "stdout",
     "output_type": "stream",
     "text": [
      "[1, 2, 3, 4, 5, 6, 7, 8, 9, 10]\n",
      "The quick brown foxjumped over the lazy dog.\n"
     ]
    },
    {
     "ename": "TypeError",
     "evalue": "'str' object is not callable",
     "output_type": "error",
     "traceback": [
      "\u001b[0;31m---------------------------------------------------------------------------\u001b[0m",
      "\u001b[0;31mTypeError\u001b[0m                                 Traceback (most recent call last)",
      "\u001b[0;32m<ipython-input-56-92f951462814>\u001b[0m in \u001b[0;36m<module>\u001b[0;34m\u001b[0m\n\u001b[1;32m      6\u001b[0m \u001b[0mprint\u001b[0m\u001b[0;34m(\u001b[0m\u001b[0mstr1\u001b[0m \u001b[0;34m+\u001b[0m \u001b[0mstr2\u001b[0m\u001b[0;34m)\u001b[0m\u001b[0;34m\u001b[0m\u001b[0;34m\u001b[0m\u001b[0m\n\u001b[1;32m      7\u001b[0m \u001b[0mx\u001b[0m \u001b[0;34m=\u001b[0m \u001b[0;36m10\u001b[0m\u001b[0;34m\u001b[0m\u001b[0;34m\u001b[0m\u001b[0m\n\u001b[0;32m----> 8\u001b[0;31m \u001b[0mprint\u001b[0m\u001b[0;34m(\u001b[0m\u001b[0;34m'x='\u001b[0m \u001b[0;34m+\u001b[0m \u001b[0mstr\u001b[0m\u001b[0;34m(\u001b[0m\u001b[0mx\u001b[0m\u001b[0;34m)\u001b[0m\u001b[0;34m)\u001b[0m\u001b[0;34m\u001b[0m\u001b[0;34m\u001b[0m\u001b[0m\n\u001b[0m",
      "\u001b[0;31mTypeError\u001b[0m: 'str' object is not callable"
     ]
    }
   ],
   "source": [
    "list1 = [1,2,3,4,5]\n",
    "list2 = [6,7,8,9,10]\n",
    "print(list1 + list2)\n",
    "str1 = 'The quick brown fox'\n",
    "str2 = 'jumped over the lazy dog.'\n",
    "print(str1 + str2)\n",
    "x = 10\n",
    "print('x=' + str(x))"
   ]
  },
  {
   "cell_type": "markdown",
   "metadata": {},
   "source": [
    "Repeating sequences. Examples:"
   ]
  },
  {
   "cell_type": "code",
   "execution_count": 57,
   "metadata": {},
   "outputs": [
    {
     "name": "stdout",
     "output_type": "stream",
     "text": [
      "Hello Hello Hello Hello Hello \n",
      "[3, 2, 1, 0, 3, 2, 1, 0]\n"
     ]
    }
   ],
   "source": [
    "print('Hello ' * 5)       # 'Hello Hello Hello Hello Hello '\n",
    "print(2 * [3,2,1,0])      # [3,2,1,0,3,2,1,0]"
   ]
  },
  {
   "cell_type": "markdown",
   "metadata": {},
   "source": [
    "Using `for` loops with lists:"
   ]
  },
  {
   "cell_type": "code",
   "execution_count": 58,
   "metadata": {},
   "outputs": [
    {
     "name": "stdout",
     "output_type": "stream",
     "text": [
      "1\n",
      "2\n",
      "3\n",
      "4\n",
      "5\n",
      "a\n",
      "b\n",
      "c\n",
      "d\n",
      "e\n",
      "f\n",
      "g\n"
     ]
    }
   ],
   "source": [
    "list = [1,2,3,4,5]\n",
    "#loop through `list` elements\n",
    "for element in list:\n",
    "    print(element)\n",
    "str = 'abcdefg'\n",
    "#loop through `str` characters\n",
    "for character in str:\n",
    "    print(character)"
   ]
  },
  {
   "cell_type": "markdown",
   "metadata": {},
   "source": [
    "Using `range` "
   ]
  },
  {
   "cell_type": "code",
   "execution_count": 59,
   "metadata": {},
   "outputs": [
    {
     "name": "stdout",
     "output_type": "stream",
     "text": [
      "0\n",
      "1\n",
      "2\n",
      "3\n",
      "4\n",
      "5\n",
      "6\n",
      "7\n",
      "8\n",
      "9\n",
      "1\n",
      "2\n",
      "3\n",
      "4\n",
      "5\n",
      "6\n",
      "7\n"
     ]
    }
   ],
   "source": [
    "for x in range(0,10):\n",
    "    print(x)\n",
    "\n",
    "list = [1,2,3,4,5,6,7]\n",
    "for i in range(len(list)):\n",
    "    print(list[i])"
   ]
  },
  {
   "cell_type": "markdown",
   "metadata": {},
   "source": [
    "## Tuples\n",
    "- A tuple is a set of related values\n",
    "- Tuple values do not have to be the same type\n",
    "- Tuple values are usually related to the same concept"
   ]
  },
  {
   "cell_type": "code",
   "execution_count": 60,
   "metadata": {},
   "outputs": [
    {
     "name": "stdout",
     "output_type": "stream",
     "text": [
      "('Chad Witherspoon', '2016/09/05', 408.51)\n",
      "('Standard Electric Razor', 39.99)\n",
      "(3000, 17.81, 13, 50.0)\n",
      "0 5\n",
      "5\n"
     ]
    }
   ],
   "source": [
    "customer = \"Chad Witherspoon\", \"2016/09/05\", 408.51\n",
    "product = \"Standard Electric Razor\", 39.99\n",
    "trial = 3000, 17.81, 13, 50.0\n",
    "# paired attribution - eg., coordinate values\n",
    "x,y = 0,5\n",
    "print(customer)\n",
    "print(product)\n",
    "print(trial)\n",
    "print(x,y)\n",
    "print(y)"
   ]
  },
  {
   "cell_type": "markdown",
   "metadata": {},
   "source": [
    "**Extra resources**\n",
    "- https://www.w3schools.com/python/python_lists.asp\n",
    "- https://www.w3schools.com/python/python_tuples.asp"
   ]
  },
  {
   "cell_type": "code",
   "execution_count": null,
   "metadata": {},
   "outputs": [],
   "source": []
  }
 ],
 "metadata": {
  "kernelspec": {
   "display_name": "Python 3",
   "language": "python",
   "name": "python3"
  },
  "language_info": {
   "codemirror_mode": {
    "name": "ipython",
    "version": 3
   },
   "file_extension": ".py",
   "mimetype": "text/x-python",
   "name": "python",
   "nbconvert_exporter": "python",
   "pygments_lexer": "ipython3",
   "version": "3.8.5"
  }
 },
 "nbformat": 4,
 "nbformat_minor": 4
}
