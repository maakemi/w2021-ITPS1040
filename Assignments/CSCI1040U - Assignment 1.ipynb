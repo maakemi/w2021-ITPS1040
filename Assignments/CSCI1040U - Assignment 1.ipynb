{
 "cells": [
  {
   "cell_type": "markdown",
   "metadata": {},
   "source": [
    "# Assignment #1 \n",
    "**CSCI1040U: Introduction to Programming for Scientists**\n",
    "\n",
    "Due date: March 10th at 11:59PM\n",
    "\n",
    "Weight: 15%\n",
    "\n",
    "You will work on groups of **2 to 3** people.\n",
    "- You can use the Teams channel `Group formation` if you are looking for people for your group.\n",
    "\n",
    "## Group -  Collaboration Policy\n",
    "Unlike the lab assignments, these assignments contribute significantly towards your mark. Like the lab assignments, they are designed to prepare you for future tests and exams. Since the assignments are quite challenging and long, you will be working on teams of 2 to 3 people for these assignments. This is to encourage ALL team members to attempt to solve and explain their solutions to one another, which should increase what ALL team members have learned. \n",
    "\n",
    "The official policy of the instructor is that it is acceptable to discuss general strategies with your fellow students, but when it comes to actually writing code your team should do it entirely alone. Do not share your code with **anyone** outside your group. \n",
    "\n",
    "Any team who turns in work copied (in whole or in part) from another team will result in ALL students being investigated for a violation of academic integrity, which will result in failure of the assignment, a permanent record of the incident on your academic record, and possible further consequences. You’ll also find the next examination to be far too difficult, since you’ve skipped some of my planned learning objectives.\n",
    "\n",
    "**Documentation.** You should document your functions and code using comments when appropriate. Failing to do so, may result on deductions.\n",
    "\n",
    "# Overview\n",
    "1. Test Cases (0.2 points)\n",
    "    - You should added extra 2-3 test cases to each of the parts.\n",
    "    \n",
    "\n",
    "2. Part 1 (2.4 points)\n",
    "\n",
    "3. Part 2 (2.4 points)\n",
    "\n",
    "4. Part 3 (5.0 points)\n",
    "\n",
    "5. Part 4 (5.0 points)\n"
   ]
  },
  {
   "cell_type": "code",
   "execution_count": 12,
   "metadata": {},
   "outputs": [],
   "source": [
    "# Your group members name and student ID"
   ]
  },
  {
   "cell_type": "markdown",
   "metadata": {},
   "source": [
    "# Part 1 (2.4 points)\n",
    "The GC content of a DNA strand is the percentage of the bases that are either guanine (G) or cytosine (C). The function will take a single argument (`dnaMolecule`), that contains a sequence of G,C,A,T characters, and will return the percentage of those characters that are either G or C. \n",
    "\n",
    "- Write a function (gcContent) that will estimate the GC content of a DNA molecule. "
   ]
  },
  {
   "cell_type": "code",
   "execution_count": null,
   "metadata": {},
   "outputs": [],
   "source": [
    "# Your code here"
   ]
  },
  {
   "cell_type": "markdown",
   "metadata": {},
   "source": [
    "See below sample usage to the `gcContent` function (to be created by you). \n",
    "   \n",
    "   *Note: the cell below will only execute wihtout error when you have created the function yourself*\n",
    "\n",
    "The examples below are sample input/output for you to test, you should test with other inputs."
   ]
  },
  {
   "cell_type": "code",
   "execution_count": 2,
   "metadata": {},
   "outputs": [],
   "source": [
    "# print(gcContet('CGGTCCAATAGATTCGAA'))\n",
    "# # This will output: 44.4444444444\n",
    "# print(gcContent('TTGAGCTATCGACTAG'))\n",
    "# # This will output: 43.75"
   ]
  },
  {
   "cell_type": "markdown",
   "metadata": {},
   "source": [
    "**Rubric**\n",
    "\n",
    "| Marks | Task |\n",
    "|-|-|\n",
    "| 0.8 | Loop over each element in one of the lists |\n",
    "| 0.8 | Determine if that element is in the other lists |\n",
    "| 0.8 | Correct function declaration and arguments |\n",
    "| 2.4 | TOTAL |"
   ]
  },
  {
   "cell_type": "markdown",
   "metadata": {},
   "source": [
    "# Part 2 (2.4 points)\n",
    "A set (s1) is a subset (⊆) of another set (s2) if all elements that are in s1 are also in s2. \n",
    "\n",
    "- Write a function (subset) that takes two lists as input (you can assume that each set does not contain any duplicate elements), and returns True if s1 is a subset of s2. \n",
    "\n",
    "   - The function will return False, otherwise. \n",
    "   \n",
    "   - Write some code to test your function, as well.\n",
    "   "
   ]
  },
  {
   "cell_type": "code",
   "execution_count": null,
   "metadata": {},
   "outputs": [],
   "source": [
    "# Your code here"
   ]
  },
  {
   "cell_type": "markdown",
   "metadata": {},
   "source": [
    "See below sample usage to the `subset` function (to be created by you). \n",
    "   \n",
    "   *Note: the cell below will only execute wihtout error when you have created the function yourself*\n",
    "\n",
    "The examples below are sample input/output for you to test, you should test with other inputs."
   ]
  },
  {
   "cell_type": "code",
   "execution_count": null,
   "metadata": {},
   "outputs": [],
   "source": [
    "# subset([1,9,13,15,23], [1,3,5,7,9,11,13,15,17,19,21,23,25])\n",
    "# # outputs: True\n",
    "# subset([3,8,13,21,25], [1,3,5,7,9,11,13,15,17,19,21,23,25])\n",
    "# # outputs False\n",
    "\n",
    "# Add more test cases here"
   ]
  },
  {
   "cell_type": "markdown",
   "metadata": {},
   "source": [
    "**Rubric**\n",
    "\n",
    "| Marks | Task |\n",
    "|-|-|\n",
    "| 0.8 | Loop over each element in one of the lists |\n",
    "| 0.8 | Determine if that element is in the other lists |\n",
    "| 0.8 | Correct function declaration and arguments |\n",
    "| 2.4 | TOTAL |"
   ]
  },
  {
   "cell_type": "markdown",
   "metadata": {},
   "source": [
    "# Part 3 (5 points)\n",
    "The molar mass of an element is the weight in grams for each mole (a mole 6.02214179×1023 atoms of that element). For example, the molar mass of carbon (C) is 12.0107g per mole, and the molar mass of oxygen (O) is 15.9994g per mole. The molar mass of a molecule is the sum of the molar masses of its component elements. For example, the mass of one mole of carbon monoxide (CO) is 12.0107g + 15.9994g = 28.0101g.\n",
    "\n",
    "You will find the following lists necessary:\n",
    "\n",
    "- `elements` – A list of strings containing element symbols\n",
    "\n",
    "   - For the purposes of this assignment, we'll only use elements that have single-letter symbols\n",
    "   \n",
    "- `molarMasses` – A list of molar masses for each element in elements"
   ]
  },
  {
   "cell_type": "code",
   "execution_count": 3,
   "metadata": {},
   "outputs": [],
   "source": [
    "elements = ['H', 'B', 'C', 'N', 'O', 'F', 'P', 'S', 'K', 'I']\n",
    "molarMasses = [1.00794, 10.811, 12.0107, 14.0067, 15.9994, 18.998403, 30.973762, 32.065, 39.0983, 126.90447]"
   ]
  },
  {
   "cell_type": "markdown",
   "metadata": {},
   "source": [
    "Write two functions:\n",
    "\n",
    "1. `elementMolarMass`\n",
    "\n",
    "- Arguments:\n",
    "   \n",
    "   - `elementSymbol` – The single-letter string containing the elemental symbol of the element\n",
    "   \n",
    "- Description:\n",
    "   \n",
    "   - The function will return the molar mass of the elemental\n",
    "   \n",
    "- Basic strategy:\n",
    "   \n",
    "   - Search through elements until it finds one matching `elementSymbol`\n",
    "   \n",
    "   - Return the molar mass in `molarMass` at the same index\n",
    "   \n",
    "2. `chemicalMass`\n",
    "\n",
    "- Arguments:\n",
    "\n",
    "   - `chemicalFormula` – A string containing the elemental symbols of the component elements of the chemical\n",
    "   \n",
    "   - `numMoles` – A number that is the amount (in moles) of the chemical\n",
    "   \n",
    "- Description:\n",
    "\n",
    "   - The function will return the mass (in g) of `numMoles` of the chemical represented by `chemicalFormula`\n",
    "   \n",
    "- Basic strategy:\n",
    "\n",
    "   - `mass = (sum of molar masses of component elements) * numMoles`"
   ]
  },
  {
   "cell_type": "code",
   "execution_count": 9,
   "metadata": {},
   "outputs": [],
   "source": [
    "# Your code here"
   ]
  },
  {
   "cell_type": "markdown",
   "metadata": {},
   "source": [
    "See below sample usage to the `chemicalMass` function (to be created by you). \n",
    "   \n",
    "   *Note: the cell below will only execute wihtout error when you have created the function yourself*\n",
    "\n",
    "The examples below are sample input/output for you to test, you should test with other inputs."
   ]
  },
  {
   "cell_type": "code",
   "execution_count": 8,
   "metadata": {},
   "outputs": [],
   "source": [
    "# chemicalMass('CO', 12.5)\n",
    "# # outputs: 350.12625\n",
    "# chemicalMass('HNCO', 3.2)\n",
    "# # outputs 137.679168\n"
   ]
  },
  {
   "cell_type": "markdown",
   "metadata": {},
   "source": [
    "**Rubric**\n",
    "\n",
    "| Marks | Task |\n",
    "|-|-|\n",
    "| 0.6 | Correct function declaration and arguments |\n",
    "|  | `elementSolarMass` |\n",
    "| 0.6 | Declare a list of element symbols and one of molar masses |\n",
    "| 0.6 | Loop over the element sysmbols |\n",
    "| 0.6 | Find the correct symbols |\n",
    "| 0.7 | Return the corresponding mass |\n",
    "|  | `chemicalMass` |\n",
    "| 0.6 | Loop over chemical formula |\n",
    "| 0.6 | Initialize and update mass formula |\n",
    "| 0.7 | Return correct total mass |\n",
    "| 5.0 | TOTAL |"
   ]
  },
  {
   "cell_type": "markdown",
   "metadata": {},
   "source": [
    "# Part 4 (5 points)\n",
    "\n",
    "The reverse complement of a nucleotide sequence (an organic molecule important in biochemistry) is the result of complementing the nucleotides with their opposing nucleotides (in base pairs), then reversing the order of the nucleotides. The base pairs are shown below: \n",
    "\n",
    "| Nucleotide | Symbol | Complement | Symbol |\n",
    "|-|-|-|-|\n",
    "| guanine | G | cytosine | C |\n",
    "| cytosine | C | guanine | G |\n",
    "| adenine | A | thymine | T |\n",
    "| thymine | T | adenine | A |\n",
    "**Table A1 - Nucleotide Bse Pairs**\n",
    "\n",
    "\n",
    "- Write a function (reverseComplement), which takes a sequence of nucleotides (a string, encoded by the symbols in the table A1), complements each nucleotide symbol (with its complement from table A1) and then reverses the symbols. The return value for the function should be the reverse complemented sequence. *Do not use the built in function reversed(), or [::­1] in your solution.* \n",
    "\n",
    "Some examples are given in table A2.\n",
    "\n",
    "   - The basic steps of the function are:\n",
    "   \n",
    "        1. Reverse the string\n",
    "        \n",
    "        2. Replace the letters with their equivalents in A1\n",
    "\n",
    "| Input Sequence   | Complement | Reverse Complement |\n",
    "|-|-|-|\n",
    "| TTGAGCTATCGACTAG   | AACTCGATAGCTGATC | CTAGTCGATAGCTCAA |\n",
    "| CGAATGGC  | GCTTACCG | GCCATTCG |\n",
    "| CGGTCCAATAGATTCGAA | GCCAGGTTATCTAAGCTT | TTCGAATCTATTGGACCG |\n",
    "**Table A2 - Sample inputs and outputs for Part 4**"
   ]
  },
  {
   "cell_type": "code",
   "execution_count": null,
   "metadata": {},
   "outputs": [],
   "source": [
    "# Your code here"
   ]
  },
  {
   "cell_type": "markdown",
   "metadata": {},
   "source": [
    "See below sample usage to the `reverseComplement` function (to be created by you). \n",
    "   \n",
    "   *Note: the cell below will only execute wihtout error when you have created the function yourself*\n",
    "\n",
    "The examples below are sample input/output for you to test, you should test with other inputs."
   ]
  },
  {
   "cell_type": "code",
   "execution_count": 10,
   "metadata": {},
   "outputs": [],
   "source": [
    "# reverseComplement('TTGAGCTATCGACTAG')\n",
    "# # outputs: CTAGTCGATAGCTCAA\n",
    "# reverseComplement('CGAATGGC')\n",
    "# # outputs: GCCATTCG\n",
    "# reverseComplement('CGGTCCAATAGATTCGAA')\n",
    "# # outputs: TTCGAATCTATTGGACCG\n"
   ]
  },
  {
   "cell_type": "markdown",
   "metadata": {},
   "source": [
    "**Rubric**\n",
    "\n",
    "| Marks | Task |\n",
    "|-|-|\n",
    "| 0.75 | Correct function declaration and arguments |\n",
    "|  | `reverse` |\n",
    "| 0.75 | Loop over characters in the string |\n",
    "| 1.0 | Reverse the character |\n",
    "|  | `complement` |\n",
    "| 1.0 | Loop over characters in the string |\n",
    "| 1.5 | Case by case, replace each character with its complement \n",
    "| 5.0 | TOTAL |"
   ]
  },
  {
   "cell_type": "markdown",
   "metadata": {},
   "source": [
    "## Submission Information\n",
    "- Via **Canvas**.\n",
    "- Only *1 person* will submit in behalf of the group.\n",
    "- The person submitting the assignment will list the FULL NAME of all the members in the `Comments...` box in the submission page on Canvas.\n",
    "- Your notebook file will also list ALL members in a comment cell\n",
    "- You will submit the following files:\n",
    "   - `.ipynb` notebook version\n",
    "   - `.pdf` notebook version\n"
   ]
  }
 ],
 "metadata": {
  "kernelspec": {
   "display_name": "Python 3",
   "language": "python",
   "name": "python3"
  },
  "language_info": {
   "codemirror_mode": {
    "name": "ipython",
    "version": 3
   },
   "file_extension": ".py",
   "mimetype": "text/x-python",
   "name": "python",
   "nbconvert_exporter": "python",
   "pygments_lexer": "ipython3",
   "version": "3.8.5"
  }
 },
 "nbformat": 4,
 "nbformat_minor": 4
}
