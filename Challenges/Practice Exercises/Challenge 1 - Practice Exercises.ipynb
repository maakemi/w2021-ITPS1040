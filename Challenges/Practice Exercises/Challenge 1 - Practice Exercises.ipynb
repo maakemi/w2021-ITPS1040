{
 "cells": [
  {
   "cell_type": "markdown",
   "metadata": {},
   "source": [
    "# Coding Challenge 1 (Practice only) #\n",
    "\n",
    "Due date: **none - practice only**\n",
    "\n",
    "The goal of this assignment is to measure learning milestones.\n",
    "\n",
    "Can you effectively apply basic programming concepts such as: variables, and conditionals?\n",
    "\n",
    "**Documentation is obligatory.** Document your code by commenting the steps taken, it should be enough for someone else to undertand your rationale."
   ]
  },
  {
   "cell_type": "code",
   "execution_count": null,
   "metadata": {},
   "outputs": [],
   "source": [
    "# Challenge - CSCI1040U\n",
    "# @author your name\n",
    "# student ID\n",
    "# Date"
   ]
  },
  {
   "cell_type": "markdown",
   "metadata": {},
   "source": [
    "## The (practice1) challenge\n",
    "\n",
    "- Write code to check whether a triangle is Equilateral, Isosceles or Scalene.\n",
    "\n",
    "**Equilateral triangle:** An equilateral triangle is a triangle in which *all three sides are equal*. \n",
    "\n",
    "**Isosceles triangle:** An isosceles triangle is a triangle that has *two equal sides*.\n",
    "\n",
    "**Scalene triangle:** A scalene triangle is a triangle that has *three unequal sides*.\n",
    "\n",
    "- Example output:\n",
    "```\n",
    "Input side1: 50\n",
    "Input side2: 50\n",
    "Input side3: 60                                                                      \n",
    "This is an isosceles triangle.\n",
    "```"
   ]
  },
  {
   "cell_type": "code",
   "execution_count": 4,
   "metadata": {},
   "outputs": [
    {
     "name": "stdin",
     "output_type": "stream",
     "text": [
      "Input side1: 50\n",
      "Input side2: 50\n",
      "Input side3: 60\n"
     ]
    }
   ],
   "source": [
    "# Reading the triangle sides from the user\n",
    "side1 = int(input(\"Input side1:\"))\n",
    "side2 = int(input(\"Input side2:\"))\n",
    "side3 = int(input(\"Input side3:\"))\n",
    "\n",
    "# Your solution here\n",
    "# Check on the triangle type based on the given conditions \n",
    "# Print the expected output"
   ]
  },
  {
   "cell_type": "markdown",
   "metadata": {},
   "source": [
    "## The (practice2) challenge\n",
    "\n",
    "Write code that:\n",
    "- After reading the information on a student, prints the student's `Grade Report` following the format:\n",
    "    ```\n",
    "    Student ID: | Student Name: | Total Marks: | Percentage: % | Division: \n",
    "    Subject1:\n",
    "    Subject2:\n",
    "    Subject3:\n",
    "    ```\n",
    "    - An example output:\n",
    "     ```\n",
    "    Student ID: 100000000 | Student Name: Arya Stark | Total Marks: 240| Percentage: 80% | Division: First\n",
    "    Subject1: 70\n",
    "    Subject2: 80\n",
    "    Subject3: 90\n",
    "    ```\n",
    "    where, \n",
    "        - Total Marks is the sum of all 3 subjects' grades\n",
    "        - Percentage is calculate between the possible total makrs and the student's total marks\n",
    "        - Division depends on the category the percentage is found:\n",
    "            ```\n",
    "            First  | 100 to 60\n",
    "            Second | less than 60 to 48\n",
    "            Pass   | less than 48 to 36\n",
    "            Fail   | less than 36\n",
    "            ```\n",
    "\n",
    "\n"
   ]
  },
  {
   "cell_type": "code",
   "execution_count": 2,
   "metadata": {},
   "outputs": [
    {
     "name": "stdin",
     "output_type": "stream",
     "text": [
      "Input the student ID: 100000000\n",
      "Input the student's name: Arya Stark\n",
      "Input the student's grade for subject1: 70\n",
      "Input the student's grade for subject2: 80\n",
      "Input the student's grade for subject3: 90\n"
     ]
    }
   ],
   "source": [
    "# Reading the student's information via user input\n",
    "studentID = int(input(\"Input the student ID:\"))\n",
    "studentName = str(input(\"Input the student's name:\"))\n",
    "subj1 = float(input(\"Input the student's grade for subject1:\"))\n",
    "subj2 = float(input(\"Input the student's grade for subject2:\"))\n",
    "subj3 = float(input(\"Input the student's grade for subject3:\"))\n",
    "\n",
    "# Your solution here\n",
    "# Calculate total marks, percentage, and division\n",
    "# Print the report using the given template"
   ]
  },
  {
   "cell_type": "markdown",
   "metadata": {},
   "source": [
    "## The (practice3) challenge\n",
    "\n",
    "- Write code to calculate the tax paid by a worker with an given salary.\n",
    "\n",
    "Assume the tax brackets are:\n",
    "```\n",
    "Salary                  | Tax %\n",
    "less or equals to 30k   | 15\n",
    "less or equals to 60k   | 20\n",
    "less or equals to 100k  | 35\n",
    "less or equals to 130k  | 40\n",
    "more than 130k          | 48\n",
    "\n",
    "```\n",
    "\n",
    "Sample output:\n",
    "```\n",
    "Input the salary: 57858\n",
    "Your tax bracket is 20%\n",
    "Your tax amount due is 11,571.6\n",
    "Your net income is 46,286.4\n",
    "\n",
    "```\n",
    "*Net income is the gross income (total) minus deductions, in this case taxes paid.*"
   ]
  },
  {
   "cell_type": "code",
   "execution_count": 5,
   "metadata": {},
   "outputs": [
    {
     "name": "stdin",
     "output_type": "stream",
     "text": [
      "Input the salary: 57858\n"
     ]
    }
   ],
   "source": [
    "# Reading the input salary from user\n",
    "salary = float(input(\"Input the salary:\"))\n",
    "\n",
    "# Your solution here\n",
    "# the tax amount according to the taxz bracket\n",
    "# Print the expected output"
   ]
  }
 ],
 "metadata": {
  "kernelspec": {
   "display_name": "Python 3",
   "language": "python",
   "name": "python3"
  },
  "language_info": {
   "codemirror_mode": {
    "name": "ipython",
    "version": 3
   },
   "file_extension": ".py",
   "mimetype": "text/x-python",
   "name": "python",
   "nbconvert_exporter": "python",
   "pygments_lexer": "ipython3",
   "version": "3.8.5"
  }
 },
 "nbformat": 4,
 "nbformat_minor": 4
}
