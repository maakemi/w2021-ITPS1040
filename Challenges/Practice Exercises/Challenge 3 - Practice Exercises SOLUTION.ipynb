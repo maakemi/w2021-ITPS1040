{
 "cells": [
  {
   "cell_type": "markdown",
   "metadata": {},
   "source": [
    "# SOLUTION: Coding challenge 3 (Practice) #\n",
    "\n",
    "Due date: **Practice Only**\n",
    "\n",
    "This is an **individual** assignment. Do **NOT** copy from others, and do **NOT** share your answer with others. Remember, copying ans pasting from online resources ia also considered **plagiarism**. Any form of plagiarism will be treated accordingly to the university's code of conduct.\n",
    "\n",
    "The goal of this assignment is to measure learning milestones.\n",
    "\n",
    "Can you effectively apply basic programming concepts such as: lists, loops and functions?"
   ]
  },
  {
   "cell_type": "code",
   "execution_count": null,
   "metadata": {},
   "outputs": [],
   "source": [
    "# Challenge 3 - CSCI1040U\n",
    "# @author your name\n",
    "# student ID\n",
    "# Date"
   ]
  },
  {
   "cell_type": "markdown",
   "metadata": {},
   "source": [
    "## The (practice 1) challenge\n",
    "\n",
    "**Your task**\n",
    "\n",
    "Write a **function** called `loteryCheck`\n",
    "1. It has 2 list arguments `draw` and `bet`\n",
    "2. It returns \n",
    "    - True: if the given bet has won the lottery\n",
    "    - False: if the given bet has not won the lottery\n",
    "\n",
    "Assume that to **win**  the lotery:\n",
    "- All 6 bet numbers are contained in the 10 numbers draw\n",
    "    \n",
    "**Required**:    \n",
    "- Write some extra 5 test cases like the ones provided below.\n",
    "- Document your code using comments."
   ]
  },
  {
   "cell_type": "code",
   "execution_count": 3,
   "metadata": {},
   "outputs": [],
   "source": [
    "# your function here\n",
    "\"\"\"\n",
    "function loteryCheck\n",
    "@arg draw list numbers from the lotery draw\n",
    "@arg bet list of numbers bet\n",
    "Return True if the bet wins\n",
    "Returns False if the bet looses \n",
    "\"\"\" \n",
    "def loteryCheck(draw, bet):   \n",
    "#     checking if all items in bet are inside draw\n",
    "    for b in bet:\n",
    "#         for each bet item we assume it doesn't belong in bet\n",
    "        found = False\n",
    "#         iterating through draw looking for the bet item\n",
    "        for d in draw:\n",
    "#         If we find the item we can stop the loop using break\n",
    "            if (d==b):\n",
    "                found=True\n",
    "                break\n",
    "#         testing if the item b was found in the draw\n",
    "        if found==False:\n",
    "#         if one of the items of bet is not found loteryCheck return False\n",
    "            return False\n",
    "#if the execution of the for-loop ended without returning False, it means all items were found\n",
    "    return True           "
   ]
  },
  {
   "cell_type": "code",
   "execution_count": 4,
   "metadata": {},
   "outputs": [
    {
     "name": "stdout",
     "output_type": "stream",
     "text": [
      "True\n",
      "False\n"
     ]
    }
   ],
   "source": [
    "# test cases here\n",
    "myDraw = [12, 30, 23, 67, 44, 77, 34, 78, 52, 49]\n",
    "myBet1 = [30, 23,  44, 77, 34, 49] \n",
    "myBet2 = [31, 56,  44, 12, 32, 33] \n",
    "\n",
    "print(loteryCheck(myDraw, myBet1)) #True\n",
    "print(loteryCheck(myDraw, myBet2)) #False\n",
    "\n",
    "# ------\n",
    "# Your test cases here\n"
   ]
  },
  {
   "cell_type": "markdown",
   "metadata": {},
   "source": [
    "## The (practice 2) challenge\n",
    "\n",
    "**Your task**\n",
    "\n",
    "Write a **function** called `containElement`\n",
    "1. It has 1 list argument `items` and 1 int `num`\n",
    "2. It returns \n",
    "    - int: number of times num is in the list `items`\n",
    "        - 0 if not found. \n",
    "\n",
    "\n",
    "- You are **not allowed** to use the Python built-in function `count()`\n",
    "    \n",
    "**Required**:    \n",
    "- Write some extra 5 test cases like the ones provided below.\n",
    "- Document your code using comments."
   ]
  },
  {
   "cell_type": "code",
   "execution_count": 5,
   "metadata": {},
   "outputs": [],
   "source": [
    "# your function here\n",
    "\"\"\"\n",
    "function containElement\n",
    "@arg items list of int numbers\n",
    "@arg num int number to be counted in items\n",
    "Return number of times num appears in items\n",
    "\"\"\" \n",
    "def containElement(items, num):\n",
    "#     auxiliar variable to help us count\n",
    "    count = 0\n",
    "#     compare num to each item in items\n",
    "    for i in items:\n",
    "#         if we found num in items we count + 1\n",
    "        if i==num:\n",
    "            count+=1\n",
    "#     After we uterated over all elements in items, count contains how many instances of num items contains\n",
    "    return count"
   ]
  },
  {
   "cell_type": "code",
   "execution_count": 6,
   "metadata": {},
   "outputs": [
    {
     "name": "stdout",
     "output_type": "stream",
     "text": [
      "2\n",
      "0\n",
      "1\n",
      "3\n"
     ]
    }
   ],
   "source": [
    "# test cases here\n",
    "myList = [12, 49, 12, 67, 44, 77, 49, 78, 52, 49]\n",
    "\n",
    "print(containElement(myList, 12)) #2\n",
    "print(containElement(myList, 1)) #0\n",
    "print(containElement(myList, 77)) #1\n",
    "print(containElement(myList, 49)) #3\n",
    "\n",
    "# ------\n",
    "# Your test cases here"
   ]
  },
  {
   "cell_type": "markdown",
   "metadata": {},
   "source": [
    "## The (practice 3) challenge\n",
    "\n",
    "Write a function `displayLetterGrade`:\n",
    "\n",
    "1. receives 2 lists as arguments:\n",
    "    - `students`: list of strings with the name of student\n",
    "    - `finalGrades`: list of the respective student's final grades\n",
    "2. for each student, calculate their letter grade (see table below) and display\n",
    "    - the message \"StudentName's letter grade is letterGrade\"\n",
    "\n",
    "This function does not return any value, it only prints the specified message for each student.\n",
    "\n",
    "| Final Grade | Letter Grade |\n",
    "| ---- | ---- |\n",
    "|  less than 50  |   F  |\n",
    "|  50 - 60 |   D  |\n",
    "|  60 - 70 |   C  |\n",
    "|  70 - 80  |   B  |\n",
    "|  80 or above     |   A  |\n",
    "\n",
    "**Required**:    \n",
    "- Write some extra 5 test cases like the ones provided below.\n",
    "- Document your code using comments."
   ]
  },
  {
   "cell_type": "code",
   "execution_count": 7,
   "metadata": {},
   "outputs": [
    {
     "name": "stdout",
     "output_type": "stream",
     "text": [
      "Adam 's letter grade is F.\n",
      "Eve 's letter grade is B.\n",
      "Rose 's letter grade is A.\n",
      "Jack 's letter grade is C.\n",
      "John Snow 's letter grade is B.\n",
      "Bran Stark 's letter grade is D.\n",
      "James Lanister 's letter grade is B.\n"
     ]
    }
   ],
   "source": [
    "# your solution here\n",
    "\n",
    "\"\"\"\n",
    "function displayLetterGrade\n",
    "@arg students list of String student names\n",
    "@arg finalGrades list of float numbers representing each student's respective grade\n",
    "Return nothing\n",
    "\"\"\"\n",
    "\n",
    "def displayLetterGrade(students, finalGrades):\n",
    "    # looping through each students and their grades\n",
    "    #Note both lists have the same length as students[0]'s grade is in finalGrades[0] position\n",
    "    for i in range(len(students)):\n",
    "        # finding the right letter grade for each\n",
    "        if finalGrades[i]<50:\n",
    "            print(students[i],\"'s letter grade is F.\")\n",
    "        elif finalGrades[i]<60:\n",
    "            print(students[i],\"'s letter grade is D.\")\n",
    "        elif finalGrades[i]<70:\n",
    "            print(students[i],\"'s letter grade is C.\")\n",
    "        elif finalGrades[i]<80:\n",
    "            print(students[i],\"'s letter grade is B.\")\n",
    "        else:\n",
    "            print(students[i],\"'s letter grade is A.\")\n",
    "            \n",
    "#     Function done as we don't need to return anything\n",
    "\n",
    "# ------\n",
    "# test cases: uncomment to run after implementing the function\n",
    "\n",
    "displayLetterGrade([\"Adam\", \"Eve\"],[45,71]) \n",
    "# expected output\n",
    "# Adam's letter grade is F\n",
    "# Eve's letter grade is B\n",
    "\n",
    "displayLetterGrade([\"Rose\", \"Jack\"],[85,65]) \n",
    "# expected output\n",
    "# Rose's letter grade is A\n",
    "# Jacks letter grade is C\n",
    "\n",
    "\n",
    "displayLetterGrade([\"John Snow\", \"Bran Stark\", \"James Lanister\"],[74,58,78]) \n",
    "# expected output\n",
    "# John Snow's letter grade is B\n",
    "# Bran Stark's letter grade is D\n",
    "# James Lanister's letter grade is B\n",
    "\n",
    "# ------\n",
    "# Your test cases here\n",
    "\n"
   ]
  }
 ],
 "metadata": {
  "kernelspec": {
   "display_name": "Python 3",
   "language": "python",
   "name": "python3"
  },
  "language_info": {
   "codemirror_mode": {
    "name": "ipython",
    "version": 3
   },
   "file_extension": ".py",
   "mimetype": "text/x-python",
   "name": "python",
   "nbconvert_exporter": "python",
   "pygments_lexer": "ipython3",
   "version": "3.8.5"
  }
 },
 "nbformat": 4,
 "nbformat_minor": 4
}
