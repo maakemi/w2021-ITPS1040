{
 "cells": [
  {
   "cell_type": "markdown",
   "metadata": {},
   "source": [
    "# SOLUTION Coding Challenge 4 (Practice) #\n",
    "\n",
    "Due date: **Practice Only**\n",
    "\n",
    "This is an **individual** assignment. Do **NOT** copy from others, and do **NOT** share your answer with others. Remember, copying ans pasting from online resources ia also considered **plagiarism**. Any form of plagiarism will be treated accordingly to the university's code of conduct.\n",
    "\n",
    "The goal of this assignment is to measure learning milestones.\n",
    "\n",
    "Can you effectively apply basic programming concepts such as: lists, strings, loops, functions, and data analysis?"
   ]
  },
  {
   "cell_type": "code",
   "execution_count": null,
   "metadata": {},
   "outputs": [],
   "source": [
    "# Challenge 4 - CSCI1040U\n",
    "# @author your name\n",
    "# student ID\n",
    "# Date"
   ]
  },
  {
   "cell_type": "markdown",
   "metadata": {},
   "source": [
    "## The (practice 1) challenge\n",
    "\n",
    "**Your task**\n",
    "\n",
    "Write 2 **functions** called `readStudentsAges` and `plotStudentAges`.\n",
    "- `readStudentsAges`\n",
    "    1. It has 1 int argument `nstudents` indicating how many students the class has\n",
    "    2. It reads and returns a list of `nstudents` ages read from the user. \n",
    "    3. Sample usage:\n",
    "    \n",
    "```\n",
    "ages = readStudentsAges(4) #reads 4 inputs (ages) from user\n",
    "print(ages) # prints the list input by user ex: [19,23,22,19]\n",
    "```\n",
    "\n",
    "- `plotStudentAges` \n",
    "    1. It has 1 argument `ageList`\n",
    "    2. Draws a bar chart titled \"Distribution of Students Ages\"\n",
    "    \n",
    "    \n",
    "**Required**:    \n",
    "- Write and run extra 3 test cases like the ones provided below.\n",
    "- Document your code using comments."
   ]
  },
  {
   "cell_type": "code",
   "execution_count": 6,
   "metadata": {},
   "outputs": [],
   "source": [
    "# your functions here\n",
    "import matplotlib.pyplot as plt\n",
    "import numpy as np\n",
    "'''\n",
    "function readStudentsAges\n",
    "reads a list of nstudents ages \n",
    "arg nstudents how many ages will ne input\n",
    "return list of ages\n",
    "'''\n",
    "def readStudentsAges(nstudents):\n",
    "    result = []\n",
    "#     reading ages nstudents times and appending it into a list\n",
    "    for i in range(nstudents):\n",
    "        result.append(int(input(\"Enter age:\")))\n",
    "#     return the list with ages read\n",
    "    return result\n",
    "\n",
    "'''\n",
    "function readStudentsAges\n",
    "plots distribution of ages using a histogram\n",
    "arg ageList list of ages to be plotted\n",
    "'''\n",
    "def plotStudentAges(ageList):\n",
    "#     plot histogram of ageList, number of bins created to give each age its own bin\n",
    "    plt.hist(ageList,  bins=np.arange(min(ageList)-1,max(ageList)+1))  \n",
    "#     cutomizing the axis\n",
    "    plt.ylabel('Num. Students')\n",
    "    plt.xlabel('Age');\n",
    "#     making sure axis are integers.. so we dont have 22.5 age \n",
    "    plt.locator_params(axis='y', integer=True)\n",
    "    plt.locator_params(axis='x', integer=True)\n",
    "    plt.show()\n",
    "    "
   ]
  },
  {
   "cell_type": "code",
   "execution_count": 8,
   "metadata": {},
   "outputs": [
    {
     "name": "stdin",
     "output_type": "stream",
     "text": [
      "Enter age: 18\n",
      "Enter age: 19\n",
      "Enter age: 18\n",
      "Enter age: 20\n",
      "Enter age: 17\n"
     ]
    },
    {
     "data": {
      "image/png": "[encoded data removed]",
      "text/plain": [
       "<Figure size 432x288 with 1 Axes>"
      ]
     },
     "metadata": {
      "needs_background": "light"
     },
     "output_type": "display_data"
    },
    {
     "name": "stdin",
     "output_type": "stream",
     "text": [
      "Enter age: 15\n",
      "Enter age: 15\n",
      "Enter age: 15\n",
      "Enter age: 15\n",
      "Enter age: 16\n",
      "Enter age: 16\n",
      "Enter age: 12\n",
      "Enter age: 14\n",
      "Enter age: 15\n",
      "Enter age: 18\n",
      "Enter age: 19\n",
      "Enter age: 15\n",
      "Enter age: 16\n",
      "Enter age: 14\n",
      "Enter age: 14\n"
     ]
    },
    {
     "data": {
      "image/png": "[encoded data removed]",
      "text/plain": [
       "<Figure size 432x288 with 1 Axes>"
      ]
     },
     "metadata": {
      "needs_background": "light"
     },
     "output_type": "display_data"
    }
   ],
   "source": [
    "# test cases here\n",
    "n1=5\n",
    "list1= readStudentsAges(n1)\n",
    "plotStudentAges(list1)\n",
    "\n",
    "n2=15\n",
    "list2= readStudentsAges(n2)\n",
    "plotStudentAges(list2)"
   ]
  },
  {
   "cell_type": "markdown",
   "metadata": {},
   "source": [
    "## The (practice 2) challenge\n",
    "\n",
    "**Your task**\n",
    "\n",
    "Write a **function** called `plotTotalGrades`\n",
    "1. It has 1 argument `grades` which is a path to a file with students grades in it\n",
    "    - The file format is the follow each line is a student's (assignment , final) grades, see example `gradeSample.txt`\n",
    "    ```\n",
    "    78,50\n",
    "    23,76\n",
    "    89,95\n",
    "    ```\n",
    "    \n",
    "2. The total grade is composed by 70% assignemt grade plus 30% final grade.\n",
    "3. Plot a line chart showing the distribution of the grades in the class.\n",
    "\n",
    "    \n",
    "**Required**:    \n",
    "- Write extra 3 test cases like the ones provided below.\n",
    "- Document your code using comments."
   ]
  },
  {
   "cell_type": "code",
   "execution_count": 9,
   "metadata": {},
   "outputs": [],
   "source": [
    "# your function here\n",
    "import numpy as np\n",
    "\n",
    "'''\n",
    "function plotTotalGrades\n",
    "plots distribution of calculated final grades using a histogram\n",
    "arg grades file cointaining the grades to be plotted\n",
    "'''\n",
    "def plotTotalGrades(grades): \n",
    "#     loading the data from the file\n",
    "    vals = np.loadtxt(fname=grades, delimiter=',', dtype='i')\n",
    "    data = []\n",
    "#     calculating the final grade per student 0.7*assignment+0.3*final\n",
    "    for d in vals:\n",
    "        data.append((0.7*d[0]+0.3*d[1]))\n",
    "#     plotting the distribution using a histogram\n",
    "    plt.hist(data)  \n",
    "#     customizing the axis and labels\n",
    "    plt.ylabel('Num. Students')\n",
    "    plt.xlabel('Grades');\n",
    "    plt.xlim([0, 100]) \n",
    "    plt.show()"
   ]
  },
  {
   "cell_type": "code",
   "execution_count": 10,
   "metadata": {},
   "outputs": [
    {
     "data": {
      "image/png": "[encoded data removed]",
      "text/plain": [
       "<Figure size 432x288 with 1 Axes>"
      ]
     },
     "metadata": {
      "needs_background": "light"
     },
     "output_type": "display_data"
    }
   ],
   "source": [
    "# test cases here\n",
    "testfile1 = 'gradeSample.txt'\n",
    "plotTotalGrades(testfile1)\n"
   ]
  },
  {
   "cell_type": "code",
   "execution_count": 12,
   "metadata": {},
   "outputs": [
    {
     "data": {
      "image/png": "[encoded data removed]",
      "text/plain": [
       "<Figure size 432x288 with 1 Axes>"
      ]
     },
     "metadata": {
      "needs_background": "light"
     },
     "output_type": "display_data"
    }
   ],
   "source": [
    "# test case 2\n",
    "testfile2 = 'gradeSample1.txt'\n",
    "plotTotalGrades(testfile2)"
   ]
  },
  {
   "cell_type": "markdown",
   "metadata": {},
   "source": [
    "**gradeSample1.txt** data used:\n",
    "\n",
    "```\n",
    "78,50\n",
    "23,76\n",
    "89,95\n",
    "100,70\n",
    "70,100\n",
    "23,78\n",
    "78,85\n",
    "88,76\n",
    "45,67\n",
    "67,76\n",
    "87,98\n",
    "88,98\n",
    "78,88\n",
    "23,78\n",
    "78,85\n",
    "88,76\n",
    "45,67\n",
    "67,76\n",
    "87,98\n",
    "88,98\n",
    "78,88\n",
    "23,78\n",
    "78,85\n",
    "88,76\n",
    "45,67\n",
    "67,76\n",
    "87,98\n",
    "88,98\n",
    "78,88\n",
    "66,76\n",
    "56,78\n",
    "76,74\n",
    "64,79\n",
    "95,99\n",
    "100,94\n",
    "78,50\n",
    "23,76\n",
    "89,95\n",
    "100,70\n",
    "70,100\n",
    "23,78\n",
    "78,85\n",
    "88,76\n",
    "45,67\n",
    "67,76\n",
    "87,98\n",
    "88,98\n",
    "78,88\n",
    "23,78\n",
    "78,85\n",
    "88,76\n",
    "45,67\n",
    "67,76\n",
    "87,98\n",
    "88,98\n",
    "78,88\n",
    "23,78\n",
    "78,85\n",
    "88,76\n",
    "45,67\n",
    "67,76\n",
    "87,98\n",
    "88,98\n",
    "78,88\n",
    "66,76\n",
    "56,78\n",
    "76,74\n",
    "64,79\n",
    "95,99\n",
    "100,94\n",
    "88,76\n",
    "45,67\n",
    "67,76\n",
    "87,98\n",
    "88,98\n",
    "78,88\n",
    "23,78\n",
    "78,85\n",
    "88,76\n",
    "45,67\n",
    "67,76\n",
    "87,98\n",
    "88,98\n",
    "78,85\n",
    "88,76\n",
    "45,67\n",
    "67,76\n",
    "87,98\n",
    "88,98\n",
    "78,88\n",
    "23,78\n",
    "78,85\n",
    "88,76\n",
    "45,67\n",
    "67,76\n",
    "87,98\n",
    "88,98\n",
    "78,88\n",
    "66,76\n",
    "78,85\n",
    "88,76\n",
    "45,67\n",
    "67,76\n",
    "87,98\n",
    "88,98\n",
    "78,88\n",
    "23,78\n",
    "78,85\n",
    "88,76\n",
    "45,67\n",
    "67,76\n",
    "87,98\n",
    "88,98\n",
    "78,88\n",
    "66,76\n",
    "```\n",
    "\n",
    "## The (practice 3) Challenge\n",
    "\n",
    "**Your task**\n",
    "\n",
    "Write a **function** called `plotGradesDistribution`\n",
    "1. It has 1 argument `grades` which is a path to a file with students grades in it\n",
    "    - The file format is the following: each line is a student's (assignment, challenge1, challenge2, challenge3, challenge4) grades, see example `challengeSample.txt`\n",
    "    ```\n",
    "    78,50,75,80,78\n",
    "    23,76,95,95,100\n",
    "    89,95,88,76,92\n",
    "    ```\n",
    "    \n",
    "    - *You can find the file attached in the Practice Challenges folder too*\n",
    "   \n",
    "2. The **challenge grade** is composed by the average of the 3 highest grades out of the 4 challenges.\n",
    "3. The **total grade** is composed by 60% assignment grade plus 40% challenge grade.\n",
    "4. The **letter grade** is the letter form grade following the conversion table:\n",
    "\n",
    "  ```\n",
    "  Letter Grade | Total Grade\n",
    "    \n",
    "    A+ |  90 to 100    \n",
    "    A  |  85 to 89    \n",
    "    A- |  80 to 84    \n",
    "    B+ |  77 to 79    \n",
    "    B  |  73 to 76    \n",
    "    B- |  70 to 72    \n",
    "    C+ |  67 to 69    \n",
    "    C  |  60 to 66    \n",
    "    D  |  50 to 59    \n",
    "    F  |   0 to 49\n",
    "    ```\n",
    "5. Plot a chart showing the distribution of the students' letter grades for this course.\n",
    "    - Title: \"Students Letter Grade Distribution\"\n",
    "    - y-axis: \"Num. Students\" - The number of students who got each of the possible letter grades.\n",
    "    - x-axis: \"Letter Grades\" - Show the Letters A+ to F in order."
   ]
  },
  {
   "cell_type": "code",
   "execution_count": 4,
   "metadata": {},
   "outputs": [],
   "source": [
    "import matplotlib.pyplot as plt\n",
    "import numpy as np\n",
    "\n",
    "\n",
    "\"\"\"\n",
    "Function plotGradesDistribution\n",
    "Reads reads from a file, calculates final letter grade, and plots distribution\n",
    "@arg grades path to file\n",
    "return nothing\n",
    "\"\"\"\n",
    "def plotGradesDistribution(grades):\n",
    "#     reading data from given file in grades\n",
    "    data = np.loadtxt(fname=grades, delimiter=',', dtype='i')\n",
    "    distribution = []\n",
    "    for d in data:\n",
    "#         separating the assignment and the challenges\n",
    "        assignment = d[0]\n",
    "        challenges = [d[1], d[2], d[3], d[4]]\n",
    "#         removing the lowest challenge grade        \n",
    "        challenges.remove(min(challenges))   \n",
    "#     calculating average challenge for final grade\n",
    "        challengeGrade = sum(challenges)/len(challenges)\n",
    "#     calculating final numerical grade\n",
    "        finalGrade = 0.6*assignment+0.4*challengeGrade    \n",
    "#     deciding the letter grade\n",
    "        if (finalGrade>=90):\n",
    "            letterGrade = 'A+'\n",
    "        elif (finalGrade>=85):\n",
    "            letterGrade = 'A'\n",
    "        elif (finalGrade>=80):\n",
    "            letterGrade = 'A-'\n",
    "        elif (finalGrade>=77):\n",
    "            letterGrade = 'B+'\n",
    "        elif (finalGrade>=73):\n",
    "            letterGrade = 'B'\n",
    "        elif (finalGrade>=70):\n",
    "            letterGrade = 'B-'\n",
    "        elif (finalGrade>=67):\n",
    "            letterGrade = 'C+'\n",
    "        elif (finalGrade>=60):\n",
    "            letterGrade = 'C'\n",
    "        elif (finalGrade>=50):\n",
    "            letterGrade = 'D'\n",
    "        else:\n",
    "            letterGrade = 'F'\n",
    "#       save the calculated letter into the collection of lettters\n",
    "        distribution.append(letterGrade)\n",
    "#     print(distribution)\n",
    "# plottung the distribution using a bar chart\n",
    "    xlabels = ['A+', 'A', 'A-', 'B+', 'B', 'B-', 'C+', 'C', 'D', 'F']\n",
    "    counts = []\n",
    "    for l in xlabels:\n",
    "        counts.append(distribution.count(l))\n",
    "    plt.bar(xlabels, counts)\n",
    "    plt.plot()       "
   ]
  },
  {
   "cell_type": "code",
   "execution_count": 5,
   "metadata": {},
   "outputs": [
    {
     "data": {
      "image/png": "[encoded data removed]",
      "text/plain": [
       "<Figure size 432x288 with 1 Axes>"
      ]
     },
     "metadata": {
      "needs_background": "light"
     },
     "output_type": "display_data"
    }
   ],
   "source": [
    "# test cases here\n",
    "testfile1 = 'challengeSample.txt'\n",
    "plotGradesDistribution(testfile1)"
   ]
  }
 ],
 "metadata": {
  "kernelspec": {
   "display_name": "Python 3",
   "language": "python",
   "name": "python3"
  },
  "language_info": {
   "codemirror_mode": {
    "name": "ipython",
    "version": 3
   },
   "file_extension": ".py",
   "mimetype": "text/x-python",
   "name": "python",
   "nbconvert_exporter": "python",
   "pygments_lexer": "ipython3",
   "version": "3.8.5"
  }
 },
 "nbformat": 4,
 "nbformat_minor": 4
}
