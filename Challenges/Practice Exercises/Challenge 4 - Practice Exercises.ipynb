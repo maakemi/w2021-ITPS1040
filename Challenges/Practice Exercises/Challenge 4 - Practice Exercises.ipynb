{
 "cells": [
  {
   "cell_type": "markdown",
   "metadata": {},
   "source": [
    "# Coding Challenge 4 (Practice) #\n",
    "\n",
    "Due date: **Practice Only**\n",
    "\n",
    "This is an **individual** assignment. Do **NOT** copy from others, and do **NOT** share your answer with others. Remember, copying ans pasting from online resources ia also considered **plagiarism**. Any form of plagiarism will be treated accordingly to the university's code of conduct.\n",
    "\n",
    "The goal of this assignment is to measure learning milestones.\n",
    "\n",
    "Can you effectively apply basic programming concepts such as: lists, strings, loops, functions, and data analysis?"
   ]
  },
  {
   "cell_type": "code",
   "execution_count": null,
   "metadata": {},
   "outputs": [],
   "source": [
    "# Challenge 4 - CSCI1040U\n",
    "# @author your name\n",
    "# student ID\n",
    "# Date"
   ]
  },
  {
   "cell_type": "markdown",
   "metadata": {},
   "source": [
    "## The (practice 1) challenge\n",
    "\n",
    "**Your task**\n",
    "\n",
    "Write 2 **functions** called `readStudentsAges` and `plotStudentAges`.\n",
    "- `readStudentsAges`\n",
    "    1. It has 1 int argument `nstudents` indicating how many students the class has\n",
    "    2. It reads and returns a list of `nstudents` ages read from the user. \n",
    "    3. Sample usage:\n",
    "    \n",
    "```\n",
    "ages = readStudentsAges(4) #reads 4 inputs (ages) from user\n",
    "print(ages) # prints the list input by user ex: [19,23,22,19]\n",
    "```\n",
    "\n",
    "- `plotStudentAges` \n",
    "    1. It has 1 argument `ageList`\n",
    "    2. Draws a bar chart titled \"Distribution of Students Ages\"\n",
    "    \n",
    "    \n",
    "**Required**:    \n",
    "- Write and run extra 3 test cases like the ones provided below.\n",
    "- Document your code using comments."
   ]
  },
  {
   "cell_type": "code",
   "execution_count": null,
   "metadata": {},
   "outputs": [],
   "source": [
    "# your functions here"
   ]
  },
  {
   "cell_type": "code",
   "execution_count": null,
   "metadata": {},
   "outputs": [],
   "source": [
    "# test cases here\n",
    "# n1=5\n",
    "# list1= readStudentsAges(n1)\n",
    "# plotStudentAges(list1)\n",
    "\n",
    "# n2=15\n",
    "# list2= readStudentsAges(n2)\n",
    "# plotStudentAges(list2)"
   ]
  },
  {
   "cell_type": "markdown",
   "metadata": {},
   "source": [
    "## The (practice 2) challenge\n",
    "\n",
    "**Your task**\n",
    "\n",
    "Write a **function** called `plotTotalGrades`\n",
    "1. It has 1 argument `grades` which is a path to a file with students grades in it\n",
    "    - The file format is the follow each line is a student's (assignment , final) grades, see example `gradeSample.txt`\n",
    "    ```\n",
    "    78,50\n",
    "    23,76\n",
    "    89,95\n",
    "    ```\n",
    "    \n",
    "2. The total grade is composed by 70% assignemt grade plus 30% final grade.\n",
    "3. Plot a line chart showing the distribution of the grades in the class.\n",
    "\n",
    "    \n",
    "**Required**:    \n",
    "- Write extra 3 test cases like the ones provided below.\n",
    "- Document your code using comments."
   ]
  },
  {
   "cell_type": "code",
   "execution_count": null,
   "metadata": {},
   "outputs": [],
   "source": [
    "# your function here"
   ]
  },
  {
   "cell_type": "code",
   "execution_count": null,
   "metadata": {},
   "outputs": [],
   "source": [
    "# test cases here\n",
    "# testfile1 = 'gradeSample.txt'\n",
    "# plotTotalGrades(testfile1)\n"
   ]
  },
  {
   "cell_type": "markdown",
   "metadata": {},
   "source": [
    "## The (practice 3) Challenge\n",
    "\n",
    "**Your task**\n",
    "\n",
    "Write a **function** called `plotGradesDistribution`\n",
    "1. It has 1 argument `grades` which is a path to a file with students grades in it\n",
    "    - The file format is the following: each line is a student's (assignment, challenge1, challenge2, challenge3, challenge4) grades, see example `challengeSample.txt`\n",
    "    ```\n",
    "    78,50,75,80,78\n",
    "    23,76,95,95,100\n",
    "    89,95,88,76,92\n",
    "    ```\n",
    "    \n",
    "    - *You can find the file attached in the Practice Challenges folder too*\n",
    "   \n",
    "2. The **challenge grade** is composed by the average of the 3 highest grades out of the 4 challenges.\n",
    "3. The **total grade** is composed by 60% assignment grade plus 40% challenge grade.\n",
    "4. The **letter grade** is the letter form grade following the conversion table:\n",
    "\n",
    "  ```\n",
    "  Letter Grade | Total Grade\n",
    "    \n",
    "    A+ |  90 to 100    \n",
    "    A  |  85 to 89    \n",
    "    A- |  80 to 84    \n",
    "    B+ |  77 to 79    \n",
    "    B  |  73 to 76    \n",
    "    B- |  70 to 72    \n",
    "    C+ |  67 to 69    \n",
    "    C  |  60 to 66    \n",
    "    D  |  50 to 59    \n",
    "    F  |   0 to 49\n",
    "    ```\n",
    "5. Plot a chart showing the distribution of the students' letter grades for this course.\n",
    "    - Title: \"Students Letter Grade Distribution\"\n",
    "    - y-axis: \"Num. Students\" - The number of students who got each of the possible letter grades.\n",
    "    - x-axis: \"Letter Grades\" - Show the Letters A+ to F in order."
   ]
  },
  {
   "cell_type": "code",
   "execution_count": null,
   "metadata": {},
   "outputs": [],
   "source": [
    "# You solution here"
   ]
  },
  {
   "cell_type": "code",
   "execution_count": null,
   "metadata": {},
   "outputs": [],
   "source": [
    "# test cases here\n",
    "# testfile1 = 'challengeSample.txt'\n",
    "# plotGradesDistribution(testfile1)"
   ]
  }
 ],
 "metadata": {
  "kernelspec": {
   "display_name": "Python 3",
   "language": "python",
   "name": "python3"
  },
  "language_info": {
   "codemirror_mode": {
    "name": "ipython",
    "version": 3
   },
   "file_extension": ".py",
   "mimetype": "text/x-python",
   "name": "python",
   "nbconvert_exporter": "python",
   "pygments_lexer": "ipython3",
   "version": "3.8.5"
  }
 },
 "nbformat": 4,
 "nbformat_minor": 4
}
