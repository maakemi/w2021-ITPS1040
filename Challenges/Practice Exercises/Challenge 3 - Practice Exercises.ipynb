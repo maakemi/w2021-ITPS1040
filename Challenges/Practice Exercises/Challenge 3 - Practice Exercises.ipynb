{
 "cells": [
  {
   "cell_type": "markdown",
   "metadata": {},
   "source": [
    "# Coding challenge 3 (Practice) #\n",
    "\n",
    "Due date: **Practice Only**\n",
    "\n",
    "This is an **individual** assignment. Do **NOT** copy from others, and do **NOT** share your answer with others. Remember, copying ans pasting from online resources ia also considered **plagiarism**. Any form of plagiarism will be treated accordingly to the university's code of conduct.\n",
    "\n",
    "The goal of this assignment is to measure learning milestones.\n",
    "\n",
    "Can you effectively apply basic programming concepts such as: lists, loops and functions?"
   ]
  },
  {
   "cell_type": "code",
   "execution_count": null,
   "metadata": {},
   "outputs": [],
   "source": [
    "# Challenge 3 - CSCI1040U\n",
    "# @author your name\n",
    "# student ID\n",
    "# Date"
   ]
  },
  {
   "cell_type": "markdown",
   "metadata": {},
   "source": [
    "## The (practice 1) challenge\n",
    "\n",
    "**Your task**\n",
    "\n",
    "Write a **function** called `loteryCheck`\n",
    "1. It has 2 list arguments `draw` and `bet`\n",
    "2. It returns \n",
    "    - True: if the given bet has won the lottery\n",
    "    - False: if the given bet has not won the lottery\n",
    "\n",
    "Assume that to **win**  the lotery:\n",
    "- All 6 bet numbers are contained in the 10 numbers draw\n",
    "    \n",
    "**Required**:    \n",
    "- Write some extra 5 test cases like the ones provided below.\n",
    "- Document your code using comments."
   ]
  },
  {
   "cell_type": "code",
   "execution_count": null,
   "metadata": {},
   "outputs": [],
   "source": [
    "# your function here"
   ]
  },
  {
   "cell_type": "code",
   "execution_count": null,
   "metadata": {},
   "outputs": [],
   "source": [
    "# test cases here\n",
    "myDraw = [12, 30, 23, 67, 44, 77, 34, 78, 52, 49]\n",
    "myBet1 = [30, 23,  44, 77, 34, 49] \n",
    "myBet2 = [31, 56,  44, 12, 32, 33] \n",
    "\n",
    "print(loteryCheck(myDraw, myBet1)) #True\n",
    "print(loteryCheck(myDraw, myBet2)) #False\n",
    "\n",
    "# ------\n",
    "# Your test cases here\n"
   ]
  },
  {
   "cell_type": "markdown",
   "metadata": {},
   "source": [
    "## The (practice 2) challenge\n",
    "\n",
    "**Your task**\n",
    "\n",
    "Write a **function** called `containElement`\n",
    "1. It has 1 list argument `items` and 1 int `num`\n",
    "2. It returns \n",
    "    - int: number of times num is in the list `items`\n",
    "        - 0 if not found. \n",
    "\n",
    "\n",
    "- You are **not allowed** to use the Python built-in function `count()`\n",
    "    \n",
    "**Required**:    \n",
    "- Write some extra 5 test cases like the ones provided below.\n",
    "- Document your code using comments."
   ]
  },
  {
   "cell_type": "code",
   "execution_count": null,
   "metadata": {},
   "outputs": [],
   "source": [
    "# your function here"
   ]
  },
  {
   "cell_type": "code",
   "execution_count": null,
   "metadata": {},
   "outputs": [],
   "source": [
    "# test cases here\n",
    "myList = [12, 49, 12, 67, 44, 77, 49, 78, 52, 49]\n",
    "\n",
    "print(containElement(myList, 12)) #2\n",
    "print(containElement(myList, 1)) #0\n",
    "print(containElement(myList, 77)) #1\n",
    "print(containElement(myList, 49)) #3\n",
    "\n",
    "# ------\n",
    "# Your test cases here"
   ]
  },
  {
   "cell_type": "markdown",
   "metadata": {},
   "source": [
    "## The (practice 3) challenge\n",
    "\n",
    "Write a function `displayLetterGrade`:\n",
    "\n",
    "1. receives 2 lists as arguments:\n",
    "    - `students`: list of strings with the name of student\n",
    "    - `finalGrades`: list of the respective student's final grades\n",
    "2. for each student, calculate their letter grade (see table below) and display\n",
    "    - the message \"StudentName's letter grade is letterGrade\"\n",
    "\n",
    "This function does not return any value, it only prints the specified message for each student.\n",
    "\n",
    "| Final Grade | Letter Grade |\n",
    "| ---- | ---- |\n",
    "|  less than 50  |   F  |\n",
    "|  50 - 60 |   D  |\n",
    "|  60 - 70 |   C  |\n",
    "|  70 - 80  |   B  |\n",
    "|  80 or above     |   A  |\n",
    "\n",
    "**Required**:    \n",
    "- Write some extra 5 test cases like the ones provided below.\n",
    "- Document your code using comments."
   ]
  },
  {
   "cell_type": "code",
   "execution_count": 2,
   "metadata": {},
   "outputs": [],
   "source": [
    "# your solution here\n",
    "\n",
    "\n",
    "\n",
    "# ------\n",
    "# test cases: uncomment to run after implementing the function\n",
    "\n",
    "# displayLetterGrade([\"Adam\", \"Eve\"],[45,71]) \n",
    "# # expected output\n",
    "# # Adam's letter grade is F\n",
    "# # Eve's letter grade is B\n",
    "\n",
    "# displayLetterGrade([\"Rose\", \"Jack\"],[85,65]) \n",
    "# # expected output\n",
    "# # Rose's letter grade is A\n",
    "# # Jacks letter grade is C\n",
    "\n",
    "\n",
    "# displayLetterGrade([\"John Snow\", \"Bran Stark\", \"James Lanister\"],[74,58,78]) \n",
    "# # expected output\n",
    "# # John Snow's letter grade is B\n",
    "# # Bran Stark's letter grade is D\n",
    "# # James Lanister's letter grade is B\n",
    "\n",
    "# ------\n",
    "# Your test cases here\n",
    "\n"
   ]
  }
 ],
 "metadata": {
  "kernelspec": {
   "display_name": "Python 3",
   "language": "python",
   "name": "python3"
  },
  "language_info": {
   "codemirror_mode": {
    "name": "ipython",
    "version": 3
   },
   "file_extension": ".py",
   "mimetype": "text/x-python",
   "name": "python",
   "nbconvert_exporter": "python",
   "pygments_lexer": "ipython3",
   "version": "3.8.5"
  }
 },
 "nbformat": 4,
 "nbformat_minor": 4
}
