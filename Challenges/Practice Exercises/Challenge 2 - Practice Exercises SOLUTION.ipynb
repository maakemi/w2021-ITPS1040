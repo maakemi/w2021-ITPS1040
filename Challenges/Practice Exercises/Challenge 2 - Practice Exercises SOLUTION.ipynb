{
 "cells": [
  {
   "cell_type": "markdown",
   "metadata": {},
   "source": [
    "# SOLUTION: Coding Challenge 2 (Practice only) #\n",
    "\n",
    "Due date: **none - practice only**\n",
    "\n",
    "The goal of this assignment is to measure learning milestones.\n",
    "\n",
    "Can you effectively apply basic programming concepts such as: variables, conditionals, loops, and lists?\n",
    "\n",
    "**Documentation is obligatory.** Document your code by commenting the steps taken, it should be enough for someone else to undertand your rationale."
   ]
  },
  {
   "cell_type": "code",
   "execution_count": null,
   "metadata": {},
   "outputs": [],
   "source": [
    "# Challenge - CSCI1040U\n",
    "# @author your name\n",
    "# student ID\n",
    "# Date"
   ]
  },
  {
   "cell_type": "markdown",
   "metadata": {},
   "source": [
    "## The (practice1) challenge\n",
    "\n",
    "Write code that:\n",
    "1. Keeps reading a natural number `num` from the user until the user inputs `-1`\n",
    "2. For each `num` entered \n",
    "    - print a message to the user: `num` is an even or `num` is an odd number\n",
    "    - add `num` in a list called `inputList`    \n",
    "3. If the input from the user is not valid (not `-1` or bigger), print an error message to the user and read another input.\n",
    "4. When the program stops (user entered -1), you should sum all numbers you saved into `inputList`, and:\n",
    "    - Display the sum\n",
    "    -Display a message \"Sum is an odd\" if sum is an odd number, or \"Sum is even\" if sum is an even number.\n",
    "\n",
    "- *You can assume that the user will only input integers, you don't need to check for that.*\n",
    "- *Do not use built-in function to perform the sum.*\n",
    "\n",
    "**Strategy - Tips**\n",
    "- Read input while input not equals to `-1`\n",
    "- Check for the modulus operator (chapter 2.7 textbook) to learn how to check for divisibility\n",
    "- If input is valid, check if even or odd to print a message\n",
    "- If input invalid, print the error message\n",
    "- Use the `.append(element)` function to add elements into the `inputList`"
   ]
  },
  {
   "cell_type": "code",
   "execution_count": 1,
   "metadata": {},
   "outputs": [
    {
     "name": "stdin",
     "output_type": "stream",
     "text": [
      "Enter a natural number: (-1 to stop) 5\n"
     ]
    },
    {
     "name": "stdout",
     "output_type": "stream",
     "text": [
      "5 is odd.\n"
     ]
    },
    {
     "name": "stdin",
     "output_type": "stream",
     "text": [
      "Enter a natural number: (-1 to stop) 0\n"
     ]
    },
    {
     "name": "stdout",
     "output_type": "stream",
     "text": [
      "0 is even.\n"
     ]
    },
    {
     "name": "stdin",
     "output_type": "stream",
     "text": [
      "Enter a natural number: (-1 to stop) 1\n"
     ]
    },
    {
     "name": "stdout",
     "output_type": "stream",
     "text": [
      "1 is odd.\n"
     ]
    },
    {
     "name": "stdin",
     "output_type": "stream",
     "text": [
      "Enter a natural number: (-1 to stop) 3\n"
     ]
    },
    {
     "name": "stdout",
     "output_type": "stream",
     "text": [
      "3 is odd.\n"
     ]
    },
    {
     "name": "stdin",
     "output_type": "stream",
     "text": [
      "Enter a natural number: (-1 to stop) 6\n"
     ]
    },
    {
     "name": "stdout",
     "output_type": "stream",
     "text": [
      "6 is even.\n"
     ]
    },
    {
     "name": "stdin",
     "output_type": "stream",
     "text": [
      "Enter a natural number: (-1 to stop) -6\n",
      "Enter a valid natural number: (-1 to stop) 5\n"
     ]
    },
    {
     "name": "stdout",
     "output_type": "stream",
     "text": [
      "5 is odd.\n"
     ]
    },
    {
     "name": "stdin",
     "output_type": "stream",
     "text": [
      "Enter a natural number: (-1 to stop) -1\n"
     ]
    },
    {
     "name": "stdout",
     "output_type": "stream",
     "text": [
      "The sum of all valid items is 20\n",
      "20 is even\n"
     ]
    }
   ],
   "source": [
    "# Your solution here\n",
    "# reading first input\n",
    "num = int(input(\"Enter a natural number: (-1 to stop)\"))\n",
    "# initializing the inputList\n",
    "inputList = []\n",
    "\n",
    "# while loop\n",
    "while num!=-1:\n",
    "#     testing if input is valid\n",
    "    if num<0: #we know it is not -1, otherwise would break the loop\n",
    "        num = int(input(\"Enter a valid natural number: (-1 to stop)\"))\n",
    "    \n",
    "    else: #if valid let's continue\n",
    "        \n",
    "#       Checking if odd or even\n",
    "#       If the remainder of num/2 is 0, means it's divisible by 2, therefore even, otherwise odd\n",
    "        if num%2==0:\n",
    "            print(str(num)+\" is even.\")\n",
    "        else:\n",
    "            print(str(num)+\" is odd.\")        \n",
    "            \n",
    "#       adding num to inputList\n",
    "        inputList.append(num)\n",
    "    \n",
    "    #   reading next input from user\n",
    "        num = int(input(\"Enter a natural number: (-1 to stop)\"))\n",
    "\n",
    "# outside while loop\n",
    "# ----------\n",
    "# For loop - iterating over list elements to calculate sum\n",
    "inputSum=0\n",
    "for i in range(len(inputList)):\n",
    "#     adding each inputList element into inputSum\n",
    "     inputSum+=inputList[i]\n",
    "\n",
    "# ----------------------\n",
    "# after for-loop\n",
    "print(\"The sum of all valid items is \"+str(inputSum))\n",
    "#     checking if inputSum is odd or even\n",
    "if inputSum%2==0:\n",
    "    print(str(inputSum)+\" is even\")\n",
    "else:\n",
    "    print(str(inputSum)+\" is odd\")\n",
    "    "
   ]
  },
  {
   "cell_type": "markdown",
   "metadata": {},
   "source": [
    "## The (practice2) challenge\n",
    "Write code that:\n",
    "1. Reads 3 strings from the user and adds them to `myList` list\n",
    "2. using a for-loop, print each of the inputed string from `myList` along with their order and length (just from the function `len`) as shown in the example below:\n",
    "   - Example output: \"The string number 1 is \"banana\", and it has 6 characters."
   ]
  },
  {
   "cell_type": "code",
   "execution_count": 7,
   "metadata": {},
   "outputs": [
    {
     "name": "stdin",
     "output_type": "stream",
     "text": [
      "Enter string 1 abacate\n",
      "Enter string 2 hoje\n",
      "Enter string 3 eu\n"
     ]
    },
    {
     "name": "stdout",
     "output_type": "stream",
     "text": [
      "The string  1  is  abacate , and it has  7  characters.\n",
      "The string  2  is  hoje , and it has  4  characters.\n",
      "The string  3  is  eu , and it has  2  characters.\n"
     ]
    }
   ],
   "source": [
    "# initializing the myList variable as a list\n",
    "myList = []\n",
    "\n",
    "# reading 3 strings\n",
    "for i in range(3):\n",
    "    string = str(input(\"Enter string \"+str(i+1)))\n",
    "#     adding each string to the list\n",
    "    myList.append(string)\n",
    "\n",
    "# using a for-loop to print the required information\n",
    "for i in range(len(myList)):\n",
    "    print(\"The string \",(i+1),\" is \",myList[i],\", and it has \",len(myList[i]),\" characters.\")"
   ]
  },
  {
   "cell_type": "markdown",
   "metadata": {},
   "source": [
    "## The (practice3) challenge\n",
    "Write code that:\n",
    "1. Reads a string `word` from the user input\n",
    "2. Check if it is a valid word, if not ask the user to enter a valid word again\n",
    "3. For the valid word, check if the word is a **palindrome** (it should not be case sensitive)\n",
    "    - print \"It is a palindrome\" if `word` is a palindrome,or \"It is not a palindrome\" if not.\n",
    "\n",
    "- A `word` is valid if,\n",
    "    - It only contains letters\n",
    "    - It is a one word string -- no spaces\n",
    "    \n",
    "- A **palindrome** is a word, phrase, number or sequence of words that reads the same backward as forward. In our case, only checking for single word palimdromes. Examples:\n",
    "    - Anna\n",
    "    - Civic\n",
    "    - Kayak\n",
    "    - Level\n",
    "    - Madam\n",
    "    - Mom\n",
    "    - Noon\n",
    "    - Racecar\n",
    "    - Radar\n",
    "    - Redder\n",
    "    - Refer\n",
    "    - Repaper\n",
    "    - Rotator\n",
    "    - Rotor\n",
    "    - Sagas\n",
    "    - Solos\n",
    "    - Stats\n",
    "    - Tenet\n",
    "    - Wow"
   ]
  },
  {
   "cell_type": "code",
   "execution_count": 11,
   "metadata": {},
   "outputs": [
    {
     "name": "stdin",
     "output_type": "stream",
     "text": [
      "Enter the word to check for palindrome: ra dar\n",
      "Enter a VALID word to check for palindrome: ra dar3\n",
      "Enter a VALID word to check for palindrome: radar3\n",
      "Enter a VALID word to check for palindrome: radar\n"
     ]
    },
    {
     "name": "stdout",
     "output_type": "stream",
     "text": [
      "radar  is a palindrome\n"
     ]
    }
   ],
   "source": [
    "word = str(input(\"Enter the word to check for palindrome:\"))\n",
    "\n",
    "# to keep track if the input is valid let's use a concept called \"flag\" in programming\n",
    "# You create a variable to store a boolean value which you wish to keep track of in our case \"invalid\"\n",
    "#  -- I'll assume the string is invalid and check if valid, otherwise ask for another word from user\n",
    "invalid = True\n",
    "\n",
    "while invalid:\n",
    "#     let's check if it does nto have multiple words, byt checking if it contains spaces\n",
    "#     also let's check if all charcters are part of the alphabet using the isalpha function\n",
    "#     if both conditions are true then the word is valid and we will move on, otherwise askf or another word\n",
    "    if (\" \" not in word) and (word.isalpha()):\n",
    "#         it is valid, so invalid is False\n",
    "        invalid = False\n",
    "    else: #reading another word\n",
    "        word = str(input(\"Enter a VALID word to check for palindrome:\"))\n",
    "\n",
    "# ----------------\n",
    "# let's check for palindrome\n",
    "# it should not be case sensitive, so let's make a copy of the word in lowercase\n",
    "# I'm making a copy because I want to display the original word while the modfied one I'll use to check for palimdrome\n",
    "lowerword = word.lower()\n",
    "\n",
    "# using the flag technique again with variable isPalindrome\n",
    "# by assuming the word is palindrome I need to creck otherwise\n",
    "isPalindrome = True\n",
    "\n",
    "# Run loop from 0 to len/2 \n",
    "# Need to check if last characters match the initial ones\n",
    "for i in range(0, int(len(lowerword)/2)): \n",
    "    if lowerword[i] != lowerword[len(lowerword)-i-1]:\n",
    "        isPalindrome = False\n",
    "        \n",
    "# now we we can check the `isPalindrome' flag fot the answer   \n",
    "if isPalindrome:\n",
    "    print(word,\" is a palindrome\")\n",
    "else:\n",
    "    print(word,\" is not a palindrome\")\n",
    "\n",
    "        "
   ]
  },
  {
   "cell_type": "markdown",
   "metadata": {},
   "source": [
    "see more on `isalpha()` function: https://www.geeksforgeeks.org/python-string-isalpha-application/#:~:text=In%20Python%2C%20isalpha()%20is,alphabet%20characters%20(mentioned%20below).\n",
    "\n",
    "see more on `lower()`: https://www.geeksforgeeks.org/isupper-islower-lower-upper-python-applications/\n"
   ]
  }
 ],
 "metadata": {
  "kernelspec": {
   "display_name": "Python 3",
   "language": "python",
   "name": "python3"
  },
  "language_info": {
   "codemirror_mode": {
    "name": "ipython",
    "version": 3
   },
   "file_extension": ".py",
   "mimetype": "text/x-python",
   "name": "python",
   "nbconvert_exporter": "python",
   "pygments_lexer": "ipython3",
   "version": "3.8.5"
  }
 },
 "nbformat": 4,
 "nbformat_minor": 4
}
