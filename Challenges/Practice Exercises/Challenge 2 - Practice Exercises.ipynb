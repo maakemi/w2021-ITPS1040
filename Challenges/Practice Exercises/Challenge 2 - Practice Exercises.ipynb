{
 "cells": [
  {
   "cell_type": "markdown",
   "metadata": {},
   "source": [
    "# Coding Challenge 2 (Practice only) #\n",
    "\n",
    "Due date: **none - practice only**\n",
    "\n",
    "The goal of this assignment is to measure learning milestones.\n",
    "\n",
    "Can you effectively apply basic programming concepts such as: variables, conditionals, loops, and lists?\n",
    "\n",
    "**Documentation is obligatory.** Document your code by commenting the steps taken, it should be enough for someone else to undertand your rationale."
   ]
  },
  {
   "cell_type": "code",
   "execution_count": null,
   "metadata": {},
   "outputs": [],
   "source": [
    "# Challenge - CSCI1040U\n",
    "# @author your name\n",
    "# student ID\n",
    "# Date"
   ]
  },
  {
   "cell_type": "markdown",
   "metadata": {},
   "source": [
    "## The (practice1) challenge\n",
    "\n",
    "Write code that:\n",
    "1. Keeps reading a natural number `num` from the user until the user inputs `-1`\n",
    "2. For each `num` entered \n",
    "    - print a message to the user: `num` is an even or `num` is an odd number\n",
    "    - add `num` in a list called `inputList`    \n",
    "3. If the input from the user is not valid (not `-1` or bigger), print an error message to the user and read another input.\n",
    "4. When the program stops (user entered -1), you should sum all numbers you saved into `inputList`, and:\n",
    "    - Display the sum\n",
    "    -Display a message \"Sum is an odd\" if sum is an odd number, or \"Sum is even\" if sum is an even number.\n",
    "\n",
    "- *You can assume that the user will only input integers, you don't need to check for that.*\n",
    "- *Do not use built-in function to perform the sum.*\n",
    "\n",
    "**Strategy - Tips**\n",
    "- Read input while input not equals to `-1`\n",
    "- Check for the modulus operator (chapter 2.7 textbook) to learn how to check for divisibility\n",
    "- If input is valid, check if even or odd to print a message\n",
    "- If input invalid, print the error message\n",
    "- Use the `.append(element)` function to add elements into the `inputList`"
   ]
  },
  {
   "cell_type": "code",
   "execution_count": 1,
   "metadata": {},
   "outputs": [],
   "source": [
    "# Your solution here\n"
   ]
  },
  {
   "cell_type": "markdown",
   "metadata": {},
   "source": [
    "## The (practice2) challenge\n",
    "Write code that:\n",
    "1. Reads 3 strings from the user and adds them to `myList` list\n",
    "2. using a for-loop, print each of the inputed string from `myList` along with their order and length (just from the function `len`) as shown in the example below:\n",
    "   - Example output: \"The string number 1 is \"banana\", and it has 6 characters."
   ]
  },
  {
   "cell_type": "code",
   "execution_count": 2,
   "metadata": {},
   "outputs": [],
   "source": [
    "# Your solution here\n"
   ]
  },
  {
   "cell_type": "markdown",
   "metadata": {},
   "source": [
    "## The (practice3) challenge\n",
    "Write code that:\n",
    "1. Reads a string `word` from the user input\n",
    "2. Check if it is a valid word, if not ask the user to enter a valid word again\n",
    "3. For the valid word, check if the word is a **palindrome** (it should not be case sensitive)\n",
    "    - print \"It is a palindrome\" if `word` is a palindrome,or \"It is not a palindrome\" if not.\n",
    "\n",
    "- A `word` is valid if,\n",
    "    - It only contains letters\n",
    "    - It is a one word string -- no spaces\n",
    "    \n",
    "- A **palindrome** is a word, phrase, number or sequence of words that reads the same backward as forward. In our case, only checking for single word palimdromes. Examples:\n",
    "    - Anna\n",
    "    - Civic\n",
    "    - Kayak\n",
    "    - Level\n",
    "    - Madam\n",
    "    - Mom\n",
    "    - Noon\n",
    "    - Racecar\n",
    "    - Radar\n",
    "    - Redder\n",
    "    - Refer\n",
    "    - Repaper\n",
    "    - Rotator\n",
    "    - Rotor\n",
    "    - Sagas\n",
    "    - Solos\n",
    "    - Stats\n",
    "    - Tenet\n",
    "    - Wow"
   ]
  },
  {
   "cell_type": "code",
   "execution_count": null,
   "metadata": {},
   "outputs": [],
   "source": [
    "#Your solution here"
   ]
  }
 ],
 "metadata": {
  "kernelspec": {
   "display_name": "Python 3",
   "language": "python",
   "name": "python3"
  },
  "language_info": {
   "codemirror_mode": {
    "name": "ipython",
    "version": 3
   },
   "file_extension": ".py",
   "mimetype": "text/x-python",
   "name": "python",
   "nbconvert_exporter": "python",
   "pygments_lexer": "ipython3",
   "version": "3.8.5"
  }
 },
 "nbformat": 4,
 "nbformat_minor": 4
}
