{
 "cells": [
  {
   "cell_type": "markdown",
   "metadata": {},
   "source": [
    "# Coding Challenge 5 #\n",
    "\n",
    "Due date: **April 9th (11:59 PM)**\n",
    "\n",
    "- This is an **individual** assignment. \n",
    "- Do **NOT** copy from others, do **NOT** post the assignment instructions, and do **NOT** share your answer with others. \n",
    "- Remember, copying and pasting from any other person or online resources is also considered **plagiarism**. \n",
    "- Any form of plagiarism will be treated accordingly to the university's code of conduct.\n",
    "\n",
    "The goal of this assignment is to measure learning milestones.\n",
    "\n",
    "Can you effectively apply basic programming concepts such as: variables, conditionals, loops, sequences, and functions?\n",
    "\n",
    "To help students improve on their logical thinking, the grading will consider not only if the solution produces the correct output, but also the balance between efficiency and readability of the coding.\n",
    "\n",
    "- You are required to document your code using comments. *Failing to do so may result on deductions.*\n",
    "- You are required to submit both version (PDF and ipynb) of your solution. *Failing to do so may result on deductions.*"
   ]
  },
  {
   "cell_type": "code",
   "execution_count": null,
   "metadata": {},
   "outputs": [],
   "source": [
    "# Challenge 5 - CSCI1040U\n",
    "# Student name\n",
    "# Student ID\n",
    "# Date"
   ]
  },
  {
   "cell_type": "markdown",
   "metadata": {},
   "source": [
    "**General Tips/Strategies**\n",
    "- Refer to the course material and the practice questions for similar problems.\n",
    "- Before you start, make sure you understand the problem first, then start thinking about the solution.\n",
    "- Focus on each of the enumerated tasks/steps at a time.\n",
    "- Use comments to guide yourself on steps you need to take -- so you don't forget, also gives you a clearer picture of what to do.\n",
    "\n",
    "## The Challenge ##\n",
    "\n",
    "**Background:** A radioactive accident has occured in a small region of the country. Researchers have determined the type of elements that were leaked and are interested in figuring out a safe time period to return to the affect region.\n",
    "\n",
    "The researchers have determined that:\n",
    "- The region is safe when the water levels are under 2.8 points, the surface levels are under 6 points, and the atmosphere levels are under 11 points.\n",
    "\n",
    "This challenge has 2 parts:\n",
    "\n",
    "### Part 1 ###\n",
    "**Simulation of the radiation**\n",
    "\n",
    "Write a Python **function** `radiationSimulation` that simulates the levels of radiation going down every year until the region is safe given its arguments.\n",
    "\n",
    "Your function should:\n",
    "1. Receive the following arguments:\n",
    "    - `water`: is the level of the water radiation in the region affected\n",
    "    - `wprob`: the probability of the level of the water radiation going down 1 point\n",
    "    - `surface`: is the level of the surface radiation in the region affected\n",
    "    - `sprob`: the probability of the level of the surface radiation going down 1 point\n",
    "    - `atmosphere`: is the level of the atmosphere radiation in the region affected\n",
    "    - `aprob`: the probability of the level of the atmosphere radiation going down 1 point\n",
    "\n",
    "2. Simulate the levels of radiation going down every year until the region is safe.\n",
    "\n",
    "    - The region is safe when the level for each water, surface, and atmosphere are under the scores outlined by the researchers.\n",
    "    \n",
    "\n",
    "3. Return the number of years it took until the region was safe.\n",
    "\n",
    "\n"
   ]
  },
  {
   "cell_type": "code",
   "execution_count": 1,
   "metadata": {},
   "outputs": [],
   "source": [
    "# your solution here\n"
   ]
  },
  {
   "cell_type": "markdown",
   "metadata": {},
   "source": [
    "### Part 2 ###\n",
    "\n",
    "**Estimating time to safety**\n",
    "\n",
    "Write a Python **function** `timeToSafety` that will call the `radiationSimulation` function `num_simulations` times to simulate how many years until safety for the region each time.\n",
    "\n",
    "Your function should:\n",
    "1. Received the arguments:\n",
    "    - `water`: is the level of the water radiation in the region affected\n",
    "    - `wprob`: the probability of the level of the water radiation going down 1 point\n",
    "    - `surface`: is the level of the surface radiation in the region affected\n",
    "    - `sprob`: the probability of the level of the surface radiation going down 1 point\n",
    "    - `atmosphere`: is the level of the atmosphere radiation in the region affected\n",
    "    - `aprob`: the probability of the level of the atmosphere radiation going down 1 point\n",
    "    - `num_simulations`: how many times the radiation will be simulated.\n",
    "    \n",
    "    \n",
    "2. Call `radiationSimulation(water, wprob, surface, sprob, atmosphere, aprob)` function `num_simulations` times to simulate how many years until safety for the region each time.\n",
    "    \n",
    "3. Plot the ditribution of amount of years over all the simulated times.\n",
    "    \n",
    "4. Return the average number of years it may take to the region to be considered safe again."
   ]
  },
  {
   "cell_type": "code",
   "execution_count": 3,
   "metadata": {},
   "outputs": [],
   "source": [
    "# your solution here\n",
    "\n",
    "\n",
    "\n",
    "# ------\n",
    "# test cases: uncomment to run after implementing the functions\n",
    "# print('The average years it will take for the region to be safe is: ', timeToSafety(29, 0.34, 68, 0.61, 102, 0.82, 10000))"
   ]
  },
  {
   "cell_type": "markdown",
   "metadata": {},
   "source": [
    "### Submission\n",
    "Via Canvas, under `Assignments/Challenges/Challenge 5`\n",
    "- Submit both `.pdf` and `.ipynb` versions of your notebook with the solution\n",
    "\n",
    "*Late submissions.* Up to 3 days, 10% deduction per day."
   ]
  }
 ],
 "metadata": {
  "kernelspec": {
   "display_name": "Python 3",
   "language": "python",
   "name": "python3"
  },
  "language_info": {
   "codemirror_mode": {
    "name": "ipython",
    "version": 3
   },
   "file_extension": ".py",
   "mimetype": "text/x-python",
   "name": "python",
   "nbconvert_exporter": "python",
   "pygments_lexer": "ipython3",
   "version": "3.8.5"
  }
 },
 "nbformat": 4,
 "nbformat_minor": 4
}
