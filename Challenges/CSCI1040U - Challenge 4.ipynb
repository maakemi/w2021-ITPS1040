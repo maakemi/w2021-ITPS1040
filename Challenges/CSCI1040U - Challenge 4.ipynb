{
 "cells": [
  {
   "cell_type": "markdown",
   "metadata": {},
   "source": [
    "# Coding Challenge 4 #\n",
    "\n",
    "Due date: **March 26th (11:59 PM)**\n",
    "\n",
    "- This is an **individual** assignment. \n",
    "- Do **NOT** copy from others, do **NOT** post the assignment instructions, and do **NOT** share your answer with others. \n",
    "- Remember, copying and pasting from any other person or online resources is also considered **plagiarism**. \n",
    "- Any form of plagiarism will be treated accordingly to the university's code of conduct.\n",
    "\n",
    "The goal of this assignment is to measure learning milestones.\n",
    "\n",
    "Can you effectively apply basic programming concepts such as: variables, conditionals, loops, sequences, and functions?\n",
    "\n",
    "To help students improve on their logical thinking, the grading will consider not only if the solution produces the correct output, but also the balance between efficiency and readability of the coding.\n",
    "\n",
    "- You are required to document your code using comments. *Failing to do so may result on deductions.*\n",
    "- You are required to submit both version (PDF and ipynb) of your solution. *Failing to do so may result on deductions.*"
   ]
  },
  {
   "cell_type": "code",
   "execution_count": null,
   "metadata": {},
   "outputs": [],
   "source": [
    "# Challenge 4 - CSCI1040U\n",
    "# Student name\n",
    "# Student ID\n",
    "# Date"
   ]
  },
  {
   "cell_type": "markdown",
   "metadata": {},
   "source": [
    "**General Tips/Strategies**\n",
    "- Refer to the course material and the practice questions for similar problems.\n",
    "- Before you start, make sure you understand the problem first, then start thinking about the solution.\n",
    "- Focus on each of the enumerated tasks/steps at a time.\n",
    "- Use comments to guide yourself on steps you need to take -- so you don't forget, also gives you a clearer picture of what to do.\n",
    "\n",
    "## The Challenge ##\n",
    "\n",
    "**Background:** You are using your Python coding skills to generate your Physics Lab report. \n",
    "\n",
    "Let's suppose you have a red and a blue car.\n",
    "\n",
    "For each of the cars, you have a file with their 5 measurements of the time(*s*) for 4 given distances(*m*):\n",
    "\n",
    "`distance = [0.5, 0.75, 1.0, 1.25]`\n",
    "\n",
    "*Each line of the file refers to a distance, each column refers to a time measurement*\n",
    "```\n",
    "time1,time2,time3,time4,time5\n",
    "```\n",
    "\n",
    "Sample file for the red car `red.txt`:\n",
    "```\n",
    "1.52, 1.37, 1.49, 1.36, 1.38\n",
    "2.20, 2.37, 2.12, 2.14, 2.12\n",
    "3.13, 3.02, 3.20, 3.09, 3.03\n",
    "3.76, 3.89, 3.83, 3.99, 3.87\n",
    "```\n",
    "Sample file for the blue car `blue.txt`:\n",
    "```\n",
    "0.97, 1.18, 1.00, 1.04, 1.03\n",
    "1.65, 1.69, 1.55, 1.76, 1.59\n",
    "2.19, 2.31, 2.32, 2.31, 2.17\n",
    "2.87, 2.69, 2.72, 2.87, 2.82\n",
    "```\n",
    "\n",
    "*So, the measurement `0.97` in the `blue.txt` file refers to the time1 for the distance `0.5`.*\n",
    "\n",
    "\n",
    "This challenge has 2 parts:\n",
    "\n",
    "### Part 1 ###\n",
    "**Finding the average time**\n",
    "\n",
    "Write a Python **function** `calcAverageTime` that calculates the average time (*s*) based onthe 5 given time measuremetns.\n",
    "\n",
    "Your function should:\n",
    "1. Receive 1 argument:\n",
    "    - `file`: a string value containign the name of the file with the time measurements of one of the cars.    \n",
    "2. Read the file `file` and calculate the average time for each distance.\n",
    "3. Returns a a list of the average time for each of the distances.\n",
    "  "
   ]
  },
  {
   "cell_type": "code",
   "execution_count": 22,
   "metadata": {},
   "outputs": [],
   "source": [
    "# your solution here\n",
    "\n",
    "\n",
    "\n",
    "# ------\n",
    "# test cases - uncomment to run after implementing the function\n",
    "\n",
    "#print(calcAverageTime('red.txt')) #outputs [1.42, 2.19, 3.10, 3.87]\n",
    "#print(calcAverageTime('blue.txt')) #outputs [1.04, 1.65, 2.26, 2.79]"
   ]
  },
  {
   "cell_type": "markdown",
   "metadata": {},
   "source": [
    "### Part 2 ###\n",
    "\n",
    "**Distance x Time plot**\n",
    "\n",
    "Write a Python **function** `plotCarExperiment` that will use the function `calcAverageTime` to get teh average times and plot them as shown in Figure 1.\n",
    "\n",
    "Your function should:\n",
    "1. Receive 3 lists:\n",
    "    - `distance`: list of float distances (m)\n",
    "    - `redTime`: list of float values representing the average time (s) for each of the distances measured for the red car    \n",
    "    - `blueTime`: list of float values representing the average time (s) for each of the distances measured for the blue car\n",
    "2. Plot the distance (y-axis) and time (x-axis) as shown in the Figure 1 -- yours should be the same colors/legend/title.\n",
    "    - Each individual data point with thei respective marker as shown by Figure 1.\n",
    "    - The line of each cars using the first and last pair (distance, time) of data points.\n",
    "\n",
    "Note that, your function does not return any value, but it plots the chart inside instead.\n",
    "\n",
    "**Figure 1. Expected output.**\n",
    "![title](challenge4.png)\n"
   ]
  },
  {
   "cell_type": "code",
   "execution_count": 21,
   "metadata": {},
   "outputs": [],
   "source": [
    "# your solution here\n",
    "\n",
    "\n",
    "\n",
    "# ------\n",
    "# test cases: uncomment to run after implementing the functions\n",
    "\n",
    "#plotCarExperiment(distance, calcAverageTime('red.txt'), calcAverageTime('blue.txt'))"
   ]
  },
  {
   "cell_type": "markdown",
   "metadata": {},
   "source": [
    "### Submission\n",
    "Via Canvas, under `Assignments/Challenges/Challenge 4`\n",
    "- Submit both `.pdf` and `.ipynb` versions of your notebook with the solution\n",
    "\n",
    "*Late submissions.* Up to 3 days, 10% deduction per day."
   ]
  }
 ],
 "metadata": {
  "kernelspec": {
   "display_name": "Python 3",
   "language": "python",
   "name": "python3"
  },
  "language_info": {
   "codemirror_mode": {
    "name": "ipython",
    "version": 3
   },
   "file_extension": ".py",
   "mimetype": "text/x-python",
   "name": "python",
   "nbconvert_exporter": "python",
   "pygments_lexer": "ipython3",
   "version": "3.8.5"
  }
 },
 "nbformat": 4,
 "nbformat_minor": 4
}
