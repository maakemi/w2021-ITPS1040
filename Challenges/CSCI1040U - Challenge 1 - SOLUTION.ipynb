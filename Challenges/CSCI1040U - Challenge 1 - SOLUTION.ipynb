{
 "cells": [
  {
   "cell_type": "markdown",
   "metadata": {},
   "source": [
    "# Coding challenge 1 - SOLUTION #\n",
    "\n",
    "Due date: **Feb 5th (11:59 PM)**\n",
    "\n",
    "- This is an **individual** assignment. \n",
    "- Do **NOT** copy from others, do **NOT** post the assignment instructions, and do **NOT** share your answer with others. \n",
    "- Remember, copying and pasting from any other person or online resources is also considered **plagiarism**. \n",
    "- Any form of plagiarism will be treated accordingly to the university's code of conduct.\n",
    "\n",
    "The goal of this assignment is to measure learning milestones.\n",
    "\n",
    "Can you effectively apply basic programming concepts such as: variables and conditionals?\n",
    "\n",
    "- You are required to document your code using comments. Failing to do so may result on deductions.\n",
    "- You are required to submit both version (PDF and ipynb) of your solution. Failing to do so may result on deductions."
   ]
  },
  {
   "cell_type": "code",
   "execution_count": null,
   "metadata": {},
   "outputs": [],
   "source": [
    "# Challenge 1 - CSCI1040U\n",
    "# @author your name\n",
    "# student ID\n",
    "# Date"
   ]
  },
  {
   "cell_type": "markdown",
   "metadata": {},
   "source": [
    "## The Challenge ##\n",
    "\n",
    "**Electric bill calculator**\n",
    "\n",
    "Write Python code that calculates and prints the electricity bill of a given customer.\n",
    "\n",
    "Your program should:\n",
    "1. Read the `customerID`, `name` and `unitConsumed` by the user should be taken from the keyboard using the `input` function. \n",
    "2. Calculate the amount to pay to the customer according to the charge table below.\n",
    "\n",
    "    ```\n",
    "    Unit                            | Charge/unit\n",
    "    upto 199                        | @1.20\n",
    "    200 and above but less than 400 | @1.50\n",
    "    400 and above but less than 600 | @1.80\n",
    "    600 and above                   | @2.00\n",
    "    obs1. If the calculated bill amount exceeds CAD350 then a surcharge of 12% will added.\n",
    "    obs2. The minimum bill amount charge should of CAD100.\n",
    "    ```\n",
    "    \n",
    "\n",
    "3. Display the electricity bill following the template:\n",
    "    ```\n",
    "    Electricity Bill                                                                                              \n",
    "    Customer ID                       :                                                                    \n",
    "    Customer Name                     :\n",
    "    unit Consumed                     :\n",
    "    Amount Charges @[RATE] per unit   : \n",
    "    Surchage Amount                   :\n",
    "    Net Amount Paid By the Customer   :\n",
    "    ```\n",
    "    \n",
    "**Sample Output**\n",
    "```\n",
    "Input Customer ID :10001                                                                                      \n",
    "Input the name of the customer :James                                                                         \n",
    "Input the unit consumed by the customer : 800                                                                 \n",
    "                                                                                                              \n",
    "Electricity Bill                                                                                              \n",
    "Customer IDNO                       : 10001                                                                    \n",
    "Customer Name                       : James                                                                    \n",
    "unit Consumed                       : 800                                                                      \n",
    "Amount Charges @2.00 per unit       : 1600.00                                                                  \n",
    "Surchage Amount                     : 192.00                                                                 \n",
    "Net Amount Paid By the Customer     : 1792.00 \n",
    "```\n",
    "\n",
    "**Tips/Strategies**\n",
    "- Refer to the course material and the practice questions for similar problems.\n",
    "- Before you start, make sure you understand the problem first, then start thinking about the solution.\n",
    "- Focus on each of the enumerated tasks/steps at a time.\n",
    "- Use comments to guide yourself on steps you need to take -- so you don't forget, also gives you a clearer picture of what to do."
   ]
  },
  {
   "cell_type": "code",
   "execution_count": 4,
   "metadata": {},
   "outputs": [
    {
     "name": "stdin",
     "output_type": "stream",
     "text": [
      "Input Customer ID:  1234\n",
      "Input the name of the customer:  John Snow\n",
      "Input the unit amount of electricity consumed by customer:  800\n"
     ]
    },
    {
     "name": "stdout",
     "output_type": "stream",
     "text": [
      "------------------\n",
      "Electricity Bill\n",
      "------------------\n",
      "Customer ID                         : 1234\n",
      "Customer Name                       : John Snow\n",
      "Unit consumed                       : 800\n",
      "------------------\n",
      "Amount Charged @ 2.0 per unit       : 1600.0\n",
      "Surcharge Amount                    : 192.0\n",
      "Net Amount Paid By Customer         : 1792.0\n",
      "**Per company policy, minimum charge of 100CAD\n"
     ]
    }
   ],
   "source": [
    "# mysolution ---\n",
    "\n",
    "# reading input from user\n",
    "customerID = input(\"Input Customer ID: \")\n",
    "name = input(\"Input the name of the customer: \")\n",
    "unitConsumed = int(input(\"Input the unit amount of electricity consumed by customer: \"))\n",
    "\n",
    "\n",
    "# deciding the rate\n",
    "if unitConsumed < 200:   \n",
    "    rate=1.20\n",
    "elif unitConsumed < 400:    \n",
    "    rate=1.50\n",
    "elif unitConsumed < 600:    \n",
    "    rate=1.80\n",
    "else:   \n",
    "    rate=2.00 \n",
    "    \n",
    "# amount charged   \n",
    "# avoid calculating it inside the conditional to remove repetition\n",
    "charge = unitConsumed*rate\n",
    "    \n",
    "# treating exceptions    \n",
    "surcharge = 0\n",
    "if charge > 350:    \n",
    "    surcharge=charge*0.12\n",
    "    \n",
    "#  minimum charge 100\n",
    "if charge < 100:\n",
    "    total=100\n",
    "else: #total is based on calculated charge\n",
    "    total = charge+surcharge\n",
    "    \n",
    "    \n",
    "#     Following the template -- could had used functions to make the input \"pretty\"\n",
    "print(\"------------------\")\n",
    "print(\"Electricity Bill\")\n",
    "print(\"------------------\")\n",
    "print(\"Customer ID                         :\",customerID)\n",
    "print(\"Customer Name                       :\",name)\n",
    "print(\"Unit consumed                       :\",unitConsumed)\n",
    "print(\"------------------\")\n",
    "print(\"Amount Charged @\",rate,\"per unit       :\",charge)\n",
    "print(\"Surcharge Amount                    :\", total-charge)\n",
    "print(\"Net Amount Paid By Customer         :\",total)\n",
    "# optionally message to make it easir for the consumer\n",
    "print(\"**Per company policy, minimum charge of 100CAD.\")"
   ]
  },
  {
   "cell_type": "markdown",
   "metadata": {},
   "source": [
    "### Submission\n",
    "Via Canvas, under `Assignments/Challenges/Challenge 1`\n",
    "- Submit both `.pdf` and `.ipynb` versions of your notebook with the solution\n",
    "\n",
    "*Late submissions.* Up to 3 days, 10% deduction per day."
   ]
  }
 ],
 "metadata": {
  "kernelspec": {
   "display_name": "Python 3",
   "language": "python",
   "name": "python3"
  },
  "language_info": {
   "codemirror_mode": {
    "name": "ipython",
    "version": 3
   },
   "file_extension": ".py",
   "mimetype": "text/x-python",
   "name": "python",
   "nbconvert_exporter": "python",
   "pygments_lexer": "ipython3",
   "version": "3.8.5"
  }
 },
 "nbformat": 4,
 "nbformat_minor": 4
}
