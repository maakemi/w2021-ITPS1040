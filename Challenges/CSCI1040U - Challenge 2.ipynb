{
 "cells": [
  {
   "cell_type": "markdown",
   "metadata": {},
   "source": [
    "# Coding Challenge 2 #\n",
    "\n",
    "Due date: **Feb 26th (11:59 PM)**\n",
    "\n",
    "- This is an **individual** assignment. \n",
    "- Do **NOT** copy from others, do **NOT** post the assignment instructions, and do **NOT** share your answer with others. \n",
    "- Remember, copying and pasting from any other person or online resources is also considered **plagiarism**. \n",
    "- Any form of plagiarism will be treated accordingly to the university's code of conduct.\n",
    "\n",
    "The goal of this assignment is to measure learning milestones.\n",
    "\n",
    "Can you effectively apply basic programming concepts such as: variables, conditionals, loops, and sequences?\n",
    "\n",
    "To help students improve on their logical thinking, the grading will consider not only if the solution produces the correct output, but also the balance between efficiency and readability of the coding.\n",
    "\n",
    "- You are required to document your code using comments. *Failing to do so may result on deductions.*\n",
    "- You are required to submit both version (PDF and ipynb) of your solution. *Failing to do so may result on deductions.*"
   ]
  },
  {
   "cell_type": "code",
   "execution_count": null,
   "metadata": {},
   "outputs": [],
   "source": [
    "# Challenge 2 - CSCI1040U\n",
    "# Student name\n",
    "# Student ID\n",
    "# Date"
   ]
  },
  {
   "cell_type": "markdown",
   "metadata": {},
   "source": [
    "**General Tips/Strategies**\n",
    "- Refer to the course material and the practice questions for similar problems.\n",
    "- Before you start, make sure you understand the problem first, then start thinking about the solution.\n",
    "- Focus on each of the enumerated tasks/steps at a time.\n",
    "- Use comments to guide yourself on steps you need to take -- so you don't forget, also gives you a clearer picture of what to do.\n",
    "\n",
    "## The Challenge ##\n",
    "\n",
    "\n",
    "This challenge has 2 parts:\n",
    "\n",
    "### Part 1 ###\n",
    "**String validator**\n",
    "\n",
    "Write Python code that validates a string.\n",
    "\n",
    "Your program should:\n",
    "1. Read a string `text` from the user.\n",
    "2. Loops through the characters of `text`:\n",
    "    - Check if all non-space (\" \") characters are alphabet characters (a to z, A to Z)\n",
    "        - If all are valid, display \"The input is valid\"\n",
    "        - Otherwise, display \"The input is invalid\"\n",
    "        - Ps. **do not** use built-in functions to test characters types (i.e. `isalpha()`, `isspace()`, etc); you should test the character type using conditionals and the `in` operator (i.e. `'a' in \"banana\"` returns *True*). \n"
   ]
  },
  {
   "cell_type": "code",
   "execution_count": 3,
   "metadata": {},
   "outputs": [],
   "source": [
    "# your solution here"
   ]
  },
  {
   "cell_type": "markdown",
   "metadata": {},
   "source": [
    "### Part 2 ###\n",
    "\n",
    "**Term classifier**\n",
    "\n",
    "Write Python code that reads months and prints a list of their equivalent term names according to the table below.\n",
    "\n",
    "```\n",
    "Months   | Term\n",
    "-----------------\n",
    "01-04    | Winter\n",
    "05-06    | Spring\n",
    "07-08    | Summer\n",
    "09-12    | Fall\n",
    "```\n",
    "\n",
    "Your program should:\n",
    "1. Reads int numbers 1 to 12 from the user and save them into a list `months`, until the user inputs `0`.\n",
    "    - If they entered a value that is invalid, ask the user to input it again.\n",
    "2. Classify each month in `months` into one of the terms saving them into the list `termList`.\n",
    "3. Display the of months and their respective terms following the template:\n",
    "\n",
    "```\n",
    "month: term\n",
    "month: term\n",
    "month: term\n",
    "...\n",
    "```\n"
   ]
  },
  {
   "cell_type": "code",
   "execution_count": null,
   "metadata": {},
   "outputs": [],
   "source": [
    "# your solution here"
   ]
  },
  {
   "cell_type": "markdown",
   "metadata": {},
   "source": [
    "### Submission\n",
    "Via Canvas, under `Assignments/Challenges/Challenge 2`\n",
    "- Submit both `.pdf` and `.ipynb` versions of your notebook with the solution\n",
    "\n",
    "*Late submissions.* Up to 3 days, 10% deduction per day."
   ]
  }
 ],
 "metadata": {
  "kernelspec": {
   "display_name": "Python 3",
   "language": "python",
   "name": "python3"
  },
  "language_info": {
   "codemirror_mode": {
    "name": "ipython",
    "version": 3
   },
   "file_extension": ".py",
   "mimetype": "text/x-python",
   "name": "python",
   "nbconvert_exporter": "python",
   "pygments_lexer": "ipython3",
   "version": "3.8.5"
  }
 },
 "nbformat": 4,
 "nbformat_minor": 4
}
